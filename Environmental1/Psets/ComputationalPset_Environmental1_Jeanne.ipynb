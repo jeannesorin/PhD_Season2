{
 "cells": [
  {
   "cell_type": "markdown",
   "metadata": {},
   "source": [
    "# Computational Problem Set 1\n",
    "Jeanne Sorin"
   ]
  },
  {
   "cell_type": "code",
   "execution_count": null,
   "metadata": {},
   "outputs": [],
   "source": [
    "import numpy as np\n",
    "from matplotlib import pyplot as plt\n",
    "from scipy.sparse import csr_matrix\n",
    "import time\n",
    "from scipy import sparse"
   ]
  },
  {
   "cell_type": "code",
   "execution_count": null,
   "metadata": {},
   "outputs": [],
   "source": [
    "r = 0.05\n",
    "δ = 1/(1+r)\n",
    "Stot = 1000"
   ]
  },
  {
   "cell_type": "markdown",
   "metadata": {},
   "source": [
    "## 1. Solving the DDP by value function iteration ; discrete state space"
   ]
  },
  {
   "cell_type": "code",
   "execution_count": null,
   "metadata": {},
   "outputs": [],
   "source": [
    "N = 501\n",
    "Na = 501\n",
    "S = np.linspace(0,1000,N)\n",
    "A = np.linspace(0,1000,Na)\n",
    "\n",
    "def u_f1(S,y):\n",
    "    U = 2*y**0.5\n",
    "    if y > S:\n",
    "        U = -100000000\n",
    "    return U\n",
    "\n",
    "def u_f2(S,y):\n",
    "    U = 5*y - 0.05*y**2\n",
    "    if y > S:\n",
    "        U = -100000000\n",
    "    return U\n",
    "\n",
    "U = np.ones((N, Na))"
   ]
  },
  {
   "cell_type": "code",
   "execution_count": null,
   "metadata": {},
   "outputs": [],
   "source": [
    "for i in range(0,N):\n",
    "    for j in range(0,Na):\n",
    "        U[i,j] = u_f1(S[i], A[j])        "
   ]
  },
  {
   "cell_type": "code",
   "execution_count": null,
   "metadata": {},
   "outputs": [],
   "source": [
    "Index = np.ones((N, Na))\n",
    "for i in range(0,N):\n",
    "    for j in range(0,Na):\n",
    "        Index[i,j] = max(i-j, 0.0)"
   ]
  },
  {
   "cell_type": "code",
   "execution_count": null,
   "metadata": {},
   "outputs": [],
   "source": [
    "N = 1000\n",
    "Na = 1000\n",
    "T = np.zeros((N, N*Na))\n",
    "for i in range(0, N):\n",
    "    for k in range(0, N):\n",
    "        for j in range(0, Na):\n",
    "            T[i,k*Na+j] = (i - j == k)"
   ]
  },
  {
   "cell_type": "code",
   "execution_count": null,
   "metadata": {},
   "outputs": [],
   "source": [
    "T_sparse = np.copy(T)\n",
    "T_sparse = csr_matrix(T_sparse)"
   ]
  },
  {
   "cell_type": "code",
   "execution_count": null,
   "metadata": {},
   "outputs": [],
   "source": [
    "T_sparse"
   ]
  },
  {
   "cell_type": "code",
   "execution_count": null,
   "metadata": {},
   "outputs": [],
   "source": [
    "# V(S) = U(S, a) + δV(S-a)\n",
    "#(T_sparse==1).nonzero()\n",
    "#[i.nonzero() for i in (T_sparse==1)]\n",
    "list_T = [i.nonzero()[1].tolist() for i in (T_sparse==1)]"
   ]
  },
  {
   "cell_type": "code",
   "execution_count": null,
   "metadata": {},
   "outputs": [],
   "source": [
    "list_T[1][:]"
   ]
  },
  {
   "cell_type": "code",
   "execution_count": null,
   "metadata": {},
   "outputs": [],
   "source": [
    "N = 100\n",
    "Na = 100\n",
    "Vorig = np.zeros((N, Na))\n",
    "Vnext = np.copy(Vorig)\n",
    "Pol = np.copy(A)"
   ]
  },
  {
   "cell_type": "code",
   "execution_count": null,
   "metadata": {},
   "outputs": [],
   "source": [
    "for i in range(0,N):\n",
    "    print(i)\n",
    "    for j in range(0,Na):\n",
    "        index = max(i-j,0)\n",
    "        Vnext[i,j] = u_f1(S[i], Pol[i]) + δ*Vorig[index, int(Pol[i])]\n",
    "    Pol[i] = np.argmax(Vnext[i,:])"
   ]
  },
  {
   "cell_type": "code",
   "execution_count": null,
   "metadata": {},
   "outputs": [],
   "source": [
    "Pol"
   ]
  },
  {
   "cell_type": "code",
   "execution_count": null,
   "metadata": {},
   "outputs": [],
   "source": [
    "Vnext[3,]"
   ]
  },
  {
   "cell_type": "code",
   "execution_count": null,
   "metadata": {},
   "outputs": [],
   "source": [
    "# Initialize the value and control functions, and solve the model using value function iteration\n",
    "S_tot = 1000\n",
    "V_init = 0\n",
    "A_init = 0\n",
    "\n"
   ]
  },
  {
   "cell_type": "code",
   "execution_count": null,
   "metadata": {},
   "outputs": [],
   "source": [
    "I = np.array([0,3,1,0])\n",
    "J = np.array([0,3,1,2])\n",
    "V = np.array([4,5,7,9])\n",
    "A = sparse.coo_matrix((V,(I,J)),shape=(4,4))\n",
    "print(A)"
   ]
  },
  {
   "cell_type": "markdown",
   "metadata": {},
   "source": [
    "#### b) Set up the action space "
   ]
  },
  {
   "cell_type": "code",
   "execution_count": null,
   "metadata": {},
   "outputs": [],
   "source": []
  },
  {
   "cell_type": "code",
   "execution_count": null,
   "metadata": {},
   "outputs": [],
   "source": [
    "\n",
    "def Clumsy_VFI(Kgrid, V0, maxiter, tol, \n",
    "               δ=(1/1.05)., \n",
    "              printerror=\"False\", \n",
    "              graph=\"True\",\n",
    "              smartk=\"False\",\n",
    "              smartstoring=\"False\",\n",
    "              howard=\"False\"):\n",
    "    '''\n",
    "    Skeleton function to compute the Value Function and the Policy Function for the simple extraction model.\n",
    "    Arg\n",
    "    - ygrid: the grid of potential values of y (array)\n",
    "    - V0: the initial guess for the value function (array)\n",
    "    - maxiter: the maximum number of iterations for the VFI algorithm (scalar)\n",
    "    - tol: the error tolerance (scalar)\n",
    "    - δ = 1/1.05 default\n",
    "    \n",
    "    Example:\n",
    "    Clumsy_VFI(ygrid, V0, 1000, 1e-5, δ = 0.96)\n",
    "    '''\n",
    "    \n",
    "    ts = time.time()\n",
    "    \n",
    "    ### Initiate vectors & numbers\n",
    "    iter = 0\n",
    "    epsi = 1\n",
    "    Kp_new = np.zeros(len(Kgrid))\n",
    "    Vp_new = np.zeros(len(Kgrid))\n",
    "    gk = np.zeros(len(Kgrid))\n",
    "    Vp = V0\n",
    "    \n",
    "    \n",
    "    ### SMARTSTORING: compute the utility function matrix beforehand\n",
    "    utilitymatrix = np.zeros((len(Kgrid), len(Kgrid)))\n",
    "    if smartstoring == \"True\":\n",
    "        for i in range(len(Kgrid)):\n",
    "            for j in range(len(Kgrid)):\n",
    "                utilitymatrix[i,j] = utility(z*Kgrid[i]**(α) + (1-δ)*Kgrid[i] - Kgrid[j]) \n",
    "\n",
    "                \n",
    "    ### BEGINNING OF THE LOOP FOR THE VFI           \n",
    "    while (epsi > tol) & (iter < maxiter):\n",
    "        for ik in range(n):\n",
    "            \n",
    "            ### SMART K GRID: specify the minimum k for the policy function\n",
    "            if smartk == \"True\":\n",
    "                if ik==0:\n",
    "                    d = 0\n",
    "                else:\n",
    "                    d = int(gk[ik-1])\n",
    "            else:\n",
    "                d = 0\n",
    "                \n",
    "            \n",
    "            ### Compute the Value function Tj for each choice of g(k)\n",
    "            Tj = np.zeros(len(Kgrid)-d) # Create vector & feed it\n",
    "            for jk in range(d, len(Kgrid)):\n",
    "                    Tj[jk-d] = Bellman(Kgrid, Vp, ik, jk, utilitymatrix, smartstoring)\n",
    "            \n",
    "            ### Choose the maximum\n",
    "            Vp_new[ik] = np.max(Tj)\n",
    "            Kp_new[ik] = d + int(np.where(Tj==max(Tj))[0])\n",
    "         \n",
    "        ### HOWARD\n",
    "        if howard==\"True\":\n",
    "            for c in range(100):\n",
    "                for ik in range(len(Kgrid)):\n",
    "                    jk = int(Kp_new[ik])\n",
    "                    Vp_new[ik] = Bellman(Kgrid, Vp_new, ik, jk, utilitymatrix, smartstoring)\n",
    "\n",
    "        ### Check the error\n",
    "        epsi = np.abs(Vp_new - Vp).max()\n",
    "        \n",
    "        ### Keep track of what is going on\n",
    "        if printerror == \"True\":\n",
    "            print(\"Error term: \", epsi) \n",
    "        if epsi < tol:\n",
    "            break\n",
    "        \n",
    "        Kp = Kp_new*1. #Update\n",
    "        Vp = Vp_new*1. #Update\n",
    "        iter=iter+1\n",
    "        \n",
    "    tf = time.time()\n",
    "    time_final = tf - ts\n",
    "            \n",
    "    #Calculate Values for g(k)\n",
    "    for jk in range(len(Kgrid)):\n",
    "        gk[jk] = g_hat(Kgrid, int(Kp[jk]))\n",
    "        \n",
    "        \n",
    "    if graph == \"True\":\n",
    "        plt.plot(Kgrid, gk)\n",
    "        plt.axhline(y=kss, color='r', linestyle='-')\n",
    "        plt.xlabel(\"k\")\n",
    "        plt.ylabel(\"g(k)\")\n",
    "        plt.title(\"Policy Function\")\n",
    "        plt.show()\n",
    "        plt.plot(Kgrid, Vp)\n",
    "        plt.xlabel(\"k\")\n",
    "        plt.ylabel(\"V(k)\")\n",
    "        plt.title(\"Value Function\")\n",
    "        plt.show()\n",
    "        print(\"Time is \", time_final)\n",
    "        print(\"Number of iterations is \", iter)\n",
    "\n",
    "\n",
    "    return[Vp, gk, iter, time_final]\n",
    "        "
   ]
  },
  {
   "cell_type": "code",
   "execution_count": null,
   "metadata": {},
   "outputs": [],
   "source": [
    "ygrid = np.copy(A)\n",
    "V0 = np.zeros(len(ygrid))\n",
    "iter = 0\n",
    "epsi = 1\n",
    "yp_new = np.zeros(len(ygrid))\n",
    "Vp_new = np.zeros(len(ygrid))\n",
    "gk = np.zeros(len(ygrid))\n",
    "Vp = V0\n",
    "    \n",
    "utilitymatrix = U   "
   ]
  },
  {
   "cell_type": "code",
   "execution_count": null,
   "metadata": {},
   "outputs": [],
   "source": [
    "# ik = index of the stock today\n",
    "ik = 0\n",
    "# d = max extraction < current stock\n",
    "#d = int(gk[max(ik-1), 0])\n",
    "d = 0\n",
    "\n",
    "#Value function Tj for each choice g(k)\n",
    "Tj = np.zeros(len(ygrid)-d)\n",
    "\n",
    "# Compute the value function Tj for each choice of g(k)\n",
    "for jk in range(d, len(ygrid)):\n",
    "    Tj[jk - d] = Bellman(ygrid, Vp, ik, jk, utilitymatrix)\n",
    "    \n",
    "# Choose the maximum\n",
    "Vp_new[ik] = np.max(Tj)\n",
    "Kp_new[ik] = d + int(np.where(Tj==max(Tj))[0])\n",
    "\n",
    "### BEGINNING OF THE LOOP FOR THE VFI           \n",
    "#while (epsi > tol) & (iter < maxiter):\n",
    "    #for ik in range(n):\n",
    "            \n",
    "\n",
    "\n",
    "### Check the error\n",
    "#epsi = np.abs(Vp_new - Vp).max()\n",
    "'''\n",
    "#print(\"Error term: \", epsi) \n",
    "if epsi < tol:\n",
    "    break\n",
    "Kp = Kp_new*1. #Update\n",
    "Vp = Vp_new*1. #Update\n",
    "iter=iter+1\n",
    "    \n",
    "\n",
    "#Calculate Values for g(k)\n",
    "for jk in range(len(Kgrid)):\n",
    "    gk[jk] = g_hat(Kgrid, int(Kp[jk]))\n",
    "'''\n",
    "\n"
   ]
  },
  {
   "cell_type": "markdown",
   "metadata": {},
   "source": [
    "# B. Code"
   ]
  },
  {
   "cell_type": "markdown",
   "metadata": {},
   "source": [
    "After preparing the environment, I define a list of functions that will be called inside the main function, Clumsy_VFI in order to solve a simple neoclassical growth model.\n",
    "Functions are described below.\n",
    "\n",
    "Because loops and matrices are fairly interchangeable in Python, I did not write this code with the same concerns for loops one may have when coding in Matlab.\n",
    "\n",
    "\n",
    "Nb: Clumsy_VFI received this name because I made sure not to use the efficient scipy.optimize optimizers, interpolant or smart k grids."
   ]
  },
  {
   "cell_type": "code",
   "execution_count": null,
   "metadata": {},
   "outputs": [],
   "source": [
    "'''\n",
    "Define Functions\n",
    "'''\n",
    "# The Utility Function\n",
    "def utility(c):\n",
    "    '''\n",
    "    Function that computes the utility for a given level of consumption according to the log utility functional form.\n",
    "    Penalty on negative consumption.\n",
    "    Arg: \n",
    "    - c : consumption\n",
    "    '''\n",
    "    if c > 0:\n",
    "        U = np.log(c)\n",
    "    if c <= 0:\n",
    "        U = -9999999999\n",
    "    return U\n",
    "\n",
    "# The steady state\n",
    "def find_K_SS(α, β, δ, z):\n",
    "    '''\n",
    "    Function computing the k steady state for parameters α, β, δ and z (model specific)\n",
    "    Arg\n",
    "    - α : power of k in the production function f(k) = z k^α\n",
    "    - β : discount factor\n",
    "    - δ : depreciation rate\n",
    "    - z : from the production function f(k) = z k^α\n",
    "    '''\n",
    "    kss = (δ/(α*β*z))**(1/(α-1))\n",
    "    return(kss)\n",
    "\n",
    "# The Bellman Equation\n",
    "def Bellman(Kgrid, Vp, ik, jk, \n",
    "            utilitymatrix, \n",
    "            smartstoring=\"False\"):\n",
    "    '''\n",
    "    Function computing the value function by adding current period's utility of consumption, and next period's discounted value function\n",
    "    Account for options utilitymatrix and smartstoring.\n",
    "    Arg:\n",
    "    - Kgrid : the grid of k values (array)\n",
    "    - Vp : potential value functions (array)\n",
    "    - ik : index of today's k in Kgrid (int)\n",
    "    - jk : index of tomorrow's k (g(k)) in Kgrid (int)\n",
    "    - smartstoring = \"False\" : whether or not using utility computed beforehand\n",
    "    - utilitymatrix : Corresponding utility matrix \n",
    "    '''\n",
    "    if smartstoring==\"False\":\n",
    "        Value = utility(z*Kgrid[ik]**(α) + (1-δ)*Kgrid[ik] - Kgrid[jk])  + β * Vp[jk]   \n",
    "    else:\n",
    "        Value = utilitymatrix[ik, jk]  + β * Vp[jk]   \n",
    "    return Value\n",
    "\n",
    "def g_hat(Kgrid, jk):\n",
    "    '''\n",
    "    Function computing the resulting policy function g_hat.\n",
    "    Arg\n",
    "    - Kgrid: the grid of potential ks.\n",
    "    - jk: the index corresponding to the policy function.\n",
    "    '''\n",
    "    policy = α*β*Kgrid[jk]**α\n",
    "    return(policy)\n",
    "β = 0.98\n",
    "α = 1/3\n",
    "δ = 1.\n",
    "z = 1.\n",
    "\n",
    "def Clumsy_VFI(kss, Kgrid, V0, maxiter, tol, \n",
    "               α=1/3, β=0.98, δ=1., z=1.,\n",
    "              printerror=\"False\", \n",
    "              graph=\"True\",\n",
    "              smartk=\"False\",\n",
    "              smartstoring=\"False\",\n",
    "              howard=\"False\"):\n",
    "    '''\n",
    "    Skeleton function to compute the Value Function and the Policy Function for the simple Neoclassical Growth Model.\n",
    "    Arg\n",
    "    - kss: the value for the k at the steady state (scalar)\n",
    "    - Kgrid: the grid of potential values of k (array)\n",
    "    - V0: the initial guess for the value function (array)\n",
    "    - maxiter: the maximum number of iterations for the VFI algorithm (scalar)\n",
    "    - tol: the error tolerance (scalar)\n",
    "    - α = 1/3 default\n",
    "    - β = 0.98 default\n",
    "    - δ = 1. default\n",
    "    - z = 1. default\n",
    "    - printerror=\"False\" whether or not printing the error at each iteration\n",
    "    - graph=\"True\" whether or not output graphs of the value and policy functions\n",
    "    - smartk=\"False\" whether or not choosing K in a smart way using the increasing property of the policy function\n",
    "    - smartstoring=\"False\" whether or not compute a matrix of utility beforehand\n",
    "    - howard=\"False\" whether or not run the howard algorith\n",
    "    \n",
    "    Example:\n",
    "    Clumsy_VFI(kss, Kgrid, V0, 1000, 1e-5, α=)\n",
    "    '''\n",
    "    \n",
    "    ts = time.time()\n",
    "    \n",
    "    ### Initiate vectors & numbers\n",
    "    iter = 0\n",
    "    epsi = 1\n",
    "    Kp_new = np.zeros(len(Kgrid))\n",
    "    Vp_new = np.zeros(len(Kgrid))\n",
    "    gk = np.zeros(len(Kgrid))\n",
    "    Vp = V0\n",
    "    \n",
    "    \n",
    "    ### SMARTSTORING: compute the utility function matrix beforehand\n",
    "    utilitymatrix = np.zeros((len(Kgrid), len(Kgrid)))\n",
    "    if smartstoring == \"True\":\n",
    "        for i in range(len(Kgrid)):\n",
    "            for j in range(len(Kgrid)):\n",
    "                utilitymatrix[i,j] = utility(z*Kgrid[i]**(α) + (1-δ)*Kgrid[i] - Kgrid[j]) \n",
    "\n",
    "                \n",
    "    ### BEGINNING OF THE LOOP FOR THE VFI           \n",
    "    while (epsi > tol) & (iter < maxiter):\n",
    "        for ik in range(n):\n",
    "            \n",
    "            ### SMART K GRID: specify the minimum k for the policy function\n",
    "            if smartk == \"True\":\n",
    "                if ik==0:\n",
    "                    d = 0\n",
    "                else:\n",
    "                    d = int(gk[ik-1])\n",
    "            else:\n",
    "                d = 0\n",
    "                \n",
    "            \n",
    "            ### Compute the Value function Tj for each choice of g(k)\n",
    "            Tj = np.zeros(len(Kgrid)-d) # Create vector & feed it\n",
    "            for jk in range(d, len(Kgrid)):\n",
    "                    Tj[jk-d] = Bellman(Kgrid, Vp, ik, jk, utilitymatrix, smartstoring)\n",
    "            \n",
    "            ### Choose the maximum\n",
    "            Vp_new[ik] = np.max(Tj)\n",
    "            Kp_new[ik] = d + int(np.where(Tj==max(Tj))[0])\n",
    "         \n",
    "        ### HOWARD\n",
    "        if howard==\"True\":\n",
    "            for c in range(100):\n",
    "                for ik in range(len(Kgrid)):\n",
    "                    jk = int(Kp_new[ik])\n",
    "                    Vp_new[ik] = Bellman(Kgrid, Vp_new, ik, jk, utilitymatrix, smartstoring)\n",
    "\n",
    "        ### Check the error\n",
    "        epsi = np.abs(Vp_new - Vp).max()\n",
    "        \n",
    "        ### Keep track of what is going on\n",
    "        if printerror == \"True\":\n",
    "            print(\"Error term: \", epsi) \n",
    "        if epsi < tol:\n",
    "            break\n",
    "        \n",
    "        Kp = Kp_new*1. #Update\n",
    "        Vp = Vp_new*1. #Update\n",
    "        iter=iter+1\n",
    "        \n",
    "    tf = time.time()\n",
    "    time_final = tf - ts\n",
    "            \n",
    "    #Calculate Values for g(k)\n",
    "    for jk in range(len(Kgrid)):\n",
    "        gk[jk] = g_hat(Kgrid, int(Kp[jk]))\n",
    "        \n",
    "        \n",
    "    if graph == \"True\":\n",
    "        plt.plot(Kgrid, gk)\n",
    "        plt.axhline(y=kss, color='r', linestyle='-')\n",
    "        plt.xlabel(\"k\")\n",
    "        plt.ylabel(\"g(k)\")\n",
    "        plt.title(\"Policy Function\")\n",
    "        plt.show()\n",
    "        plt.plot(Kgrid, Vp)\n",
    "        plt.xlabel(\"k\")\n",
    "        plt.ylabel(\"V(k)\")\n",
    "        plt.title(\"Value Function\")\n",
    "        plt.show()\n",
    "        print(\"Time is \", time_final)\n",
    "        print(\"Number of iterations is \", iter)\n",
    "\n",
    "\n",
    "    return[Vp, gk, iter, time_final]\n",
    "        "
   ]
  },
  {
   "cell_type": "code",
   "execution_count": null,
   "metadata": {},
   "outputs": [],
   "source": [
    "'''\n",
    "Preliminary\n",
    "'''\n",
    "### Parameters\n",
    "β = 0.98\n",
    "α = 1/3\n",
    "δ = 1.\n",
    "z = 1.\n",
    "\n",
    "### kss\n",
    "kss = find_K_SS(α, β, δ, z)\n",
    "k0 = 0.05*kss\n",
    "\n",
    "### Make Grid\n",
    "k1 = 0.05*kss\n",
    "kn = 1.2*kss \n",
    "n = 200\n",
    "\n",
    "Kgrid = np.linspace(k1, kn, n)\n",
    "V0 = np.zeros(n)\n",
    "tol=1e-5"
   ]
  },
  {
   "cell_type": "code",
   "execution_count": null,
   "metadata": {},
   "outputs": [],
   "source": [
    "print(\"kss is \", kss)\n",
    "print(\"Kgrid min is \", Kgrid[0])\n",
    "print(\"Kgrid max is \", Kgrid[n-1])"
   ]
  },
  {
   "cell_type": "markdown",
   "metadata": {},
   "source": [
    "# B. Brute Force Value Function Iteration"
   ]
  },
  {
   "cell_type": "code",
   "execution_count": null,
   "metadata": {},
   "outputs": [],
   "source": [
    "[Vp_B, Kp_B, iter_B, time_final_B] = Clumsy_VFI(kss, Kgrid, V0, \n",
    "                                                5000, tol, graph = \"True\")"
   ]
  },
  {
   "cell_type": "markdown",
   "metadata": {},
   "source": [
    "# C. An Improved in Guess $V_0$"
   ]
  },
  {
   "cell_type": "code",
   "execution_count": null,
   "metadata": {},
   "outputs": [],
   "source": [
    "V0_new = np.zeros(n)\n",
    "for ik in range(n):\n",
    "    V0_new[ik] = utility(z*Kgrid[ik]**α - δ*Kgrid[ik])/(1-β)\n",
    "\n",
    "[Vp_C, Kp_C, iter_C, time_final_C] = Clumsy_VFI(kss, Kgrid, V0_new, 50, tol,\n",
    "                                               graph=\"True\")\n",
    "\n"
   ]
  },
  {
   "cell_type": "markdown",
   "metadata": {},
   "source": [
    "# D. An Improved Decision Process"
   ]
  },
  {
   "cell_type": "code",
   "execution_count": null,
   "metadata": {},
   "outputs": [],
   "source": [
    "[Vp_D, Kp_D, iter_D, time_final_D] = Clumsy_VFI(kss, Kgrid, \n",
    "                                                V0, \n",
    "                                                5000, \n",
    "                                                tol,\n",
    "                                                smartk=\"True\")\n",
    "\n",
    "[Vp_Dp, Kp_Dp, iter_Dp, time_final_Dp] = Clumsy_VFI(kss, Kgrid, \n",
    "                                                V0_new, \n",
    "                                                100, \n",
    "                                                tol,\n",
    "                                                graph=\"False\",\n",
    "                                                smartk=\"True\")"
   ]
  },
  {
   "cell_type": "markdown",
   "metadata": {},
   "source": [
    "# E. Storing the Return Function"
   ]
  },
  {
   "cell_type": "code",
   "execution_count": null,
   "metadata": {},
   "outputs": [],
   "source": [
    "[Vp_E, Kp_E, iter_E, time_final_E] = Clumsy_VFI(kss, Kgrid, \n",
    "                                                V0, \n",
    "                                                5000, \n",
    "                                                tol,\n",
    "                                                smartstoring=\"True\")\n",
    "\n",
    "[Vp_Ep, Kp_Ep, iter_Ep, time_final_Ep] = Clumsy_VFI(kss, Kgrid, \n",
    "                                                V0_new, \n",
    "                                                5000, \n",
    "                                                tol,\n",
    "                                                smartk=\"True\",\n",
    "                                                smartstoring=\"True\")"
   ]
  },
  {
   "cell_type": "markdown",
   "metadata": {},
   "source": [
    "# F. Howard’s Improvement algorithm: Fewer maximizations"
   ]
  },
  {
   "cell_type": "code",
   "execution_count": null,
   "metadata": {},
   "outputs": [],
   "source": [
    "[Vp_F, Kp_F, iter_F, time_final_F] = Clumsy_VFI(kss, Kgrid,\n",
    "                                                V0, \n",
    "                                                5000, \n",
    "                                                tol,\n",
    "                                                howard=\"True\",\n",
    "                                                graph=\"True\")"
   ]
  },
  {
   "cell_type": "markdown",
   "metadata": {},
   "source": [
    "# G. Combining Methods"
   ]
  },
  {
   "cell_type": "code",
   "execution_count": null,
   "metadata": {},
   "outputs": [],
   "source": [
    "[Vp_G, Kp_G, iter_G, time_final_G] = Clumsy_VFI(kss, Kgrid,\n",
    "                                                V0_new, \n",
    "                                                100, \n",
    "                                                tol,\n",
    "                                                smartk=\"True\",\n",
    "                                                smartstoring=\"True\",\n",
    "                                                howard=\"True\",\n",
    "                                                graph=\"True\")"
   ]
  },
  {
   "cell_type": "code",
   "execution_count": null,
   "metadata": {
    "scrolled": true
   },
   "outputs": [],
   "source": [
    "print(\"Time in seconds:\")\n",
    "print(\"Time Brute Force: \", round(time_final_B, 3))\n",
    "print(\"Time Improved Guess: \", round(time_final_C, 3))\n",
    "print(\"Time Improved Decision Process: \", round(time_final_D, 3))\n",
    "print(\"Time Improved Decision Process + Improved Guess: \", round(time_final_Dp, 3)) \n",
    "print(\"Time Storing the utility function: \", round(time_final_E, 3))\n",
    "print(\"Time Storing the utility function + Improved Guess + Improved Decision: \", round(time_final_Ep, 3))\n",
    "print(\"Time Howard: \", round(time_final_F, 3))\n",
    "print(\"Time Howard + Improved Guess + Improved Decision + Storage: \", round(time_final_G, 3))"
   ]
  },
  {
   "cell_type": "markdown",
   "metadata": {},
   "source": [
    "Running the different algorithms I show that the brute force algorithm is more than 2 orders of magnitude slower than any of the optimized algorithms using the improved guess V0, which seems to be the main source for improving the algorithm.\n",
    "\n",
    "The Howard algorithm by itself does better than the improved decision process or storing the utility function alone, but not as good as the improved guess alone.\n",
    "\n",
    "Moreover, comparing \"storing the utility function + improved guess + improved decision\" versus \"storing the utility function + improved guess + improved decision + Howard\" (0.426 vs 0.457) suggests that if the algorithm is improved beforehand, Howard does not improve the fit. Besides, by imposing 100 loops for Howard, we add running time, which seems to be unnecessary in this case.\n",
    "\n",
    "In conclusion, Howard or an improved initial guess appear to be the \"cheapest\" optimizations to improve your code with. This conclusion holds for Python, but may be different for a language like Matlab, where matrices play a role, or like Julia."
   ]
  }
 ],
 "metadata": {
  "@webio": {
   "lastCommId": null,
   "lastKernelId": null
  },
  "kernelspec": {
   "display_name": "Python 3",
   "language": "python",
   "name": "python3"
  },
  "language_info": {
   "codemirror_mode": {
    "name": "ipython",
    "version": 3
   },
   "file_extension": ".py",
   "mimetype": "text/x-python",
   "name": "python",
   "nbconvert_exporter": "python",
   "pygments_lexer": "ipython3",
   "version": "3.7.4"
  }
 },
 "nbformat": 4,
 "nbformat_minor": 2
}

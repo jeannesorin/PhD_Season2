{
 "cells": [
  {
   "cell_type": "code",
   "execution_count": 1,
   "metadata": {},
   "outputs": [],
   "source": [
    "import numpy as np\n",
    "from matplotlib import pyplot as plt\n",
    "from scipy.sparse import csr_matrix\n",
    "import time\n",
    "from scipy import sparse"
   ]
  },
  {
   "cell_type": "code",
   "execution_count": 2,
   "metadata": {},
   "outputs": [],
   "source": [
    "r = 0.05\n",
    "δ = 1/(1+r)\n",
    "Stot = 1000"
   ]
  },
  {
   "cell_type": "code",
   "execution_count": 3,
   "metadata": {},
   "outputs": [],
   "source": [
    "N = 501\n",
    "Na = 501\n",
    "S = np.linspace(0,1000,N)\n",
    "A = np.linspace(0,1000,Na)\n",
    "\n",
    "def u_f1(S,y):\n",
    "    U = 2*y**0.5\n",
    "    if y > S:\n",
    "        U = -100000000\n",
    "    return U\n",
    "\n",
    "def u_f2(S,y):\n",
    "    U = 5*y - 0.05*y**2\n",
    "    if y > S:\n",
    "        U = -100000000\n",
    "    return U\n",
    "\n"
   ]
  },
  {
   "cell_type": "code",
   "execution_count": 4,
   "metadata": {},
   "outputs": [],
   "source": [
    "for i in range(0,N):\n",
    "    for j in range(0,Na):\n",
    "        U[i,j] = u_f1(S[i], A[j])        "
   ]
  },
  {
   "cell_type": "code",
   "execution_count": 44,
   "metadata": {},
   "outputs": [],
   "source": [
    "Kgrid = np.copy(A)\n",
    "V0 = np.zeros(len(Kgrid))\n",
    "iter = 0\n",
    "epsi = 1\n",
    "Kp_new = np.zeros(len(Kgrid)) # index, not the actual y chosen\n",
    "Vp_new = np.zeros(len(Kgrid))\n",
    "gk = np.zeros(len(Kgrid))\n",
    "Vp = V0\n",
    "δ = 1/1.05\n",
    "tol=1e-8\n",
    "maxiter = 1000\n",
    "howard = \"True\"\n",
    "\n",
    "def Bellman(Kgrid, Vp, ik, jk, \n",
    "            utilitymatrix):\n",
    "    Value = utilitymatrix[ik, jk]  + δ * Vp[ik-jk]   \n",
    "    return Value\n",
    "\n",
    "def g_hat(Kgrid, jk): return(Kgrid[jk])"
   ]
  },
  {
   "cell_type": "code",
   "execution_count": 143,
   "metadata": {},
   "outputs": [],
   "source": [
    "def VFI(Kgrid, V0, maxiter, tol, Uo, δ=0.9, howard=\"True\"):\n",
    "    \n",
    "    ### Initiate vectors & numbers\n",
    "    iter = 0\n",
    "    epsi = 1\n",
    "    Kp_new = np.zeros(len(Kgrid))\n",
    "    Vp_new = np.zeros(len(Kgrid))\n",
    "    gk = np.zeros(len(Kgrid))\n",
    "    Vp = V0\n",
    "    N = len(Kgrid)\n",
    "    \n",
    "    # Initiate the utility matrix & compute it\n",
    "    U = np.ones((N, Na))\n",
    "    if Uo == \"U1\":\n",
    "        for i in range(0,N):\n",
    "            for j in range(0,Na):\n",
    "                U[i,j] = u_f1(S[i], A[j]) \n",
    "    if Uo == \"U2\":\n",
    "        for i in range(0,N):\n",
    "            for j in range(0,Na):\n",
    "                U[i,j] = u_f2(S[i], A[j]) \n",
    "    utilitymatrix = U\n",
    "\n",
    "    while (epsi > tol) & (iter < maxiter):\n",
    "        for ik in range(N):\n",
    "            # ik = index of the stock today\n",
    "            # d = max extraction < current stock\n",
    "            #d = int(gk[max(ik-1), 0])\n",
    "            d = 0\n",
    "\n",
    "            #Value function Tj for each choice g(k)\n",
    "            Tj = np.zeros(len(Kgrid)-d)\n",
    "\n",
    "            # Compute the value function Tj for each choice of g(k)\n",
    "            for jk in range(d, len(Kgrid)):\n",
    "                Tj[jk - d] = Bellman(Kgrid, Vp, ik, jk, utilitymatrix)\n",
    "\n",
    "            # Choose the maximum\n",
    "            Vp_new[ik] = np.max(Tj)\n",
    "            Kp_new[ik] = d + int(np.where(Tj==max(Tj))[0])\n",
    "\n",
    "        if howard==\"True\":\n",
    "            for c in range(100):\n",
    "                for ik in range(len(Kgrid)):\n",
    "                    jk = int(Kp_new[ik])\n",
    "                    Vp_new[ik] = Bellman(Kgrid, Vp_new, ik, jk, utilitymatrix)\n",
    "\n",
    "\n",
    "        ### Check the error\n",
    "        epsi = np.abs(Vp_new - Vp).max()\n",
    "\n",
    "        ### Keep track of what is going on\n",
    "        print(\"iteration is \", iter, \" and Error term is \", epsi)\n",
    "        Kp = Kp_new*1. #Update\n",
    "        Vp = Vp_new*1. #Update\n",
    "        \n",
    "        if epsi < tol:\n",
    "            break\n",
    "\n",
    "        iter=iter+1\n",
    "\n",
    "    #Calculate Values for g(k)\n",
    "    for jk in range(len(Kgrid)):\n",
    "        gk[jk] = Kgrid[int(Kp[jk])]\n",
    "        \n",
    "    # Calculate the N*N optimal transition matrix T_opt that gives the state transition proba under optimal action\n",
    "    return[Vp, gk, Kp, iter]"
   ]
  },
  {
   "cell_type": "code",
   "execution_count": 155,
   "metadata": {},
   "outputs": [
    {
     "name": "stdout",
     "output_type": "stream",
     "text": [
      "iteration is  0  and Error term is  63.245553203367585\n",
      "iteration is  1  and Error term is  67.83583420949506\n",
      "iteration is  2  and Error term is  51.947702269407074\n",
      "iteration is  3  and Error term is  18.264705133712255\n",
      "iteration is  4  and Error term is  5.266899929960374\n",
      "iteration is  5  and Error term is  1.3563807400215637\n",
      "iteration is  6  and Error term is  0.9390429934964644\n",
      "iteration is  7  and Error term is  0.8385374759369313\n",
      "iteration is  8  and Error term is  0.7428179354040374\n",
      "iteration is  9  and Error term is  0.6516564682298558\n",
      "iteration is  10  and Error term is  0.5648360233020604\n",
      "iteration is  11  and Error term is  0.48214988527558944\n",
      "iteration is  12  and Error term is  0.40340118239323886\n",
      "iteration is  13  and Error term is  0.32840241774337997\n",
      "iteration is  14  and Error term is  0.25697502283875195\n",
      "iteration is  15  and Error term is  0.1889489324533855\n",
      "iteration is  16  and Error term is  0.12416217970542931\n",
      "iteration is  17  and Error term is  0.06246051042165135\n",
      "iteration is  18  and Error term is  0.003697015865682829\n",
      "iteration is  19  and Error term is  0.0008347240189436889\n",
      "iteration is  20  and Error term is  0.0004059654958439296\n",
      "iteration is  21  and Error term is  0.00026733535338507863\n",
      "iteration is  22  and Error term is  0.0\n"
     ]
    }
   ],
   "source": [
    "Uo = \"U1\"\n",
    "\n",
    "[Vp, gk, Kp, iter] = VFI(Kgrid, V0, maxiter, tol, Uo, δ, howard=\"True\")\n",
    "\n",
    "# Calculate the optimal transition matrix\n",
    "T_opt = np.zeros((N, N))\n",
    "\n",
    "for ik in range(N):\n",
    "    ij = np.where(Kgrid == Kgrid[ik] - gk[ik])[0][0]\n",
    "    T_opt[ik, ij] = 1  \n",
    "    \n",
    "## Simulate\n",
    "St = 1000*np.ones(80)\n",
    "C = np.zeros(80)\n",
    "for i in range(80-1):\n",
    "    init_index = np.where(Kgrid==St[i])[0][0]\n",
    "    C[i] = gk[init_index]\n",
    "    final_index = np.where(T_opt[init_index,]==1)[0][0]\n",
    "    final = Kgrid[final_index]\n",
    "    St[i+1] = final\n",
    "    \n",
    "St1 = np.copy(St)\n",
    "C1 = np.copy(C)"
   ]
  },
  {
   "cell_type": "code",
   "execution_count": 156,
   "metadata": {},
   "outputs": [
    {
     "name": "stdout",
     "output_type": "stream",
     "text": [
      "iteration is  0  and Error term is  1635.6651074583722\n",
      "iteration is  1  and Error term is  208.025592468779\n",
      "iteration is  2  and Error term is  36.437680625522376\n",
      "iteration is  3  and Error term is  13.085736681310664\n",
      "iteration is  4  and Error term is  5.634510664928598\n",
      "iteration is  5  and Error term is  2.2794231985540137\n",
      "iteration is  6  and Error term is  1.5471657861837684\n",
      "iteration is  7  and Error term is  0.9191673692669156\n",
      "iteration is  8  and Error term is  0.4790524615616505\n",
      "iteration is  9  and Error term is  0.2825828744196315\n",
      "iteration is  10  and Error term is  0.15195017795076637\n",
      "iteration is  11  and Error term is  0.08571428571417528\n",
      "iteration is  12  and Error term is  0.04191494869678536\n",
      "iteration is  13  and Error term is  0.014344539998091932\n",
      "iteration is  14  and Error term is  0.0\n"
     ]
    }
   ],
   "source": [
    "Uo = \"U2\"\n",
    "\n",
    "[Vp, gk, Kp, iter] = VFI(Kgrid, V0, maxiter, tol, Uo, δ, howard=\"True\")\n",
    "\n",
    "# Calculate the optimal transition matrix\n",
    "T_opt = np.zeros((N, N))\n",
    "\n",
    "for ik in range(N):\n",
    "    ij = np.where(Kgrid == Kgrid[ik] - gk[ik])[0][0]\n",
    "    T_opt[ik, ij] = 1  \n",
    "    \n",
    "## Simulate\n",
    "St = 1000*np.ones(80)\n",
    "C = np.zeros(80)\n",
    "for i in range(80-1):\n",
    "    init_index = np.where(Kgrid==St[i])[0][0]\n",
    "    C[i] = gk[init_index]\n",
    "    final_index = np.where(T_opt[init_index,]==1)[0][0]\n",
    "    final = Kgrid[final_index]\n",
    "    St[i+1] = final\n",
    "\n",
    "St2 = np.copy(St)\n",
    "C2 = np.copy(C)"
   ]
  },
  {
   "cell_type": "code",
   "execution_count": 152,
   "metadata": {},
   "outputs": [
    {
     "data": {
      "text/plain": [
       "array([1000.,  908.,  824.,  748.,  680.,  618.,  562.,  510.,  464.,\n",
       "        422.,  384.,  350.,  318.,  290.,  264.,  240.,  218.,  198.,\n",
       "        180.,  164.,  150.,  136.,  124.,  114.,  104.,   96.,   88.,\n",
       "         80.,   74.,   68.,   62.,   56.,   52.,   48.,   44.,   40.,\n",
       "         36.,   34.,   32.,   30.,   28.,   26.,   24.,   22.,   20.,\n",
       "         18.,   16.,   14.,   12.,   10.,    8.,    6.,    4.,    2.,\n",
       "          0.,    0.,    0.,    0.,    0.,    0.,    0.,    0.,    0.,\n",
       "          0.,    0.,    0.,    0.,    0.,    0.,    0.,    0.,    0.,\n",
       "          0.,    0.,    0.,    0.,    0.,    0.,    0.,    0.])"
      ]
     },
     "execution_count": 152,
     "metadata": {},
     "output_type": "execute_result"
    }
   ],
   "source": [
    "St1"
   ]
  },
  {
   "cell_type": "code",
   "execution_count": 157,
   "metadata": {},
   "outputs": [
    {
     "data": {
      "text/plain": [
       "array([92., 84., 76., 68., 62., 56., 52., 46., 42., 38., 34., 32., 28.,\n",
       "       26., 24., 22., 20., 18., 16., 14., 14., 12., 10., 10.,  8.,  8.,\n",
       "        8.,  6.,  6.,  6.,  6.,  4.,  4.,  4.,  4.,  4.,  2.,  2.,  2.,\n",
       "        2.,  2.,  2.,  2.,  2.,  2.,  2.,  2.,  2.,  2.,  2.,  2.,  2.,\n",
       "        2.,  2.,  0.,  0.,  0.,  0.,  0.,  0.,  0.,  0.,  0.,  0.,  0.,\n",
       "        0.,  0.,  0.,  0.,  0.,  0.,  0.,  0.,  0.,  0.,  0.,  0.,  0.,\n",
       "        0.,  0.])"
      ]
     },
     "execution_count": 157,
     "metadata": {},
     "output_type": "execute_result"
    }
   ],
   "source": [
    "C1"
   ]
  },
  {
   "cell_type": "code",
   "execution_count": 158,
   "metadata": {},
   "outputs": [],
   "source": [
    "def p1_f(C1):\n",
    "    return (1/(C1**0.5))\n",
    "\n",
    "def p2_f(C2):\n",
    "    return (5 - 0.1*C2)\n"
   ]
  },
  {
   "cell_type": "code",
   "execution_count": 161,
   "metadata": {},
   "outputs": [
    {
     "name": "stderr",
     "output_type": "stream",
     "text": [
      "/Applications/anaconda3/lib/python3.7/site-packages/ipykernel_launcher.py:2: RuntimeWarning: divide by zero encountered in true_divide\n",
      "  \n"
     ]
    }
   ],
   "source": [
    "P1 = p1_f(C1)\n",
    "P2 = p2_f(C2)"
   ]
  },
  {
   "cell_type": "code",
   "execution_count": 171,
   "metadata": {},
   "outputs": [
    {
     "data": {
      "image/png": "[encoded data removed]",
      "text/plain": [
       "<Figure size 432x288 with 1 Axes>"
      ]
     },
     "metadata": {
      "needs_background": "light"
     },
     "output_type": "display_data"
    },
    {
     "data": {
      "image/png": "[encoded data removed]",
      "text/plain": [
       "<Figure size 432x288 with 1 Axes>"
      ]
     },
     "metadata": {
      "needs_background": "light"
     },
     "output_type": "display_data"
    }
   ],
   "source": [
    "plt.plot(range(0,80), C1)\n",
    "plt.show()\n",
    "plt.plot(range(0,80), P1)\n",
    "plt.show()"
   ]
  },
  {
   "cell_type": "code",
   "execution_count": 172,
   "metadata": {},
   "outputs": [
    {
     "data": {
      "image/png": "[encoded data removed]",
      "text/plain": [
       "<Figure size 432x288 with 1 Axes>"
      ]
     },
     "metadata": {
      "needs_background": "light"
     },
     "output_type": "display_data"
    },
    {
     "data": {
      "image/png": "[encoded data removed]",
      "text/plain": [
       "<Figure size 432x288 with 1 Axes>"
      ]
     },
     "metadata": {
      "needs_background": "light"
     },
     "output_type": "display_data"
    }
   ],
   "source": [
    "plt.plot(range(0,80), C2)\n",
    "plt.show()\n",
    "plt.plot(range(0,80), P2)\n",
    "plt.show()\n",
    "\n",
    "\n",
    "'''\n",
    "plt.plot(Kgrid, gk)\n",
    "        plt.axhline(y=kss, color='r', linestyle='-')\n",
    "        plt.xlabel(\"k\")\n",
    "        plt.ylabel(\"g(k)\")\n",
    "        plt.title(\"Policy Function\")\n",
    "        plt.show()\n",
    "        plt.plot(Kgrid, Vp)\n",
    "        plt.xlabel(\"k\")\n",
    "        plt.ylabel(\"V(k)\")\n",
    "        plt.title(\"Value Function\")\n",
    "        plt.show()\n",
    "        print(\"Time is \", time_final)\n",
    "        print(\"Number of iterations is \", iter)\n",
    "'''"
   ]
  },
  {
   "cell_type": "code",
   "execution_count": null,
   "metadata": {},
   "outputs": [],
   "source": [
    "\n"
   ]
  }
 ],
 "metadata": {
  "kernelspec": {
   "display_name": "Python 3",
   "language": "python",
   "name": "python3"
  },
  "language_info": {
   "codemirror_mode": {
    "name": "ipython",
    "version": 3
   },
   "file_extension": ".py",
   "mimetype": "text/x-python",
   "name": "python",
   "nbconvert_exporter": "python",
   "pygments_lexer": "ipython3",
   "version": "3.7.4"
  }
 },
 "nbformat": 4,
 "nbformat_minor": 2
}

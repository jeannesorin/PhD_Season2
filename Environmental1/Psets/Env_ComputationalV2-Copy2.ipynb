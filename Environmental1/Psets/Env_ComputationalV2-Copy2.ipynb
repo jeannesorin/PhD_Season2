{
 "cells": [
  {
   "cell_type": "code",
   "execution_count": 473,
   "metadata": {},
   "outputs": [],
   "source": [
    "import numpy as np\n",
    "from matplotlib import pyplot as plt\n",
    "from scipy.sparse import csr_matrix\n",
    "import time\n",
    "from scipy import sparse\n",
    "import numpy.linalg as lin"
   ]
  },
  {
   "cell_type": "markdown",
   "metadata": {},
   "source": [
    "# Questions 1 & 2\n",
    "## Question 1: Solving the DDP by value function iteration ; discrete state space"
   ]
  },
  {
   "cell_type": "code",
   "execution_count": 259,
   "metadata": {},
   "outputs": [],
   "source": [
    "# Define primitives\n",
    "def u_f1(S,y):\n",
    "    '''Utility function version 1'''\n",
    "    U = 2*y**0.5\n",
    "    if y > S:\n",
    "        U = -100000000\n",
    "    return U\n",
    "\n",
    "def u_f2(S,y):\n",
    "    '''Utility function version 2'''\n",
    "    U = 5*y - 0.05*y**2\n",
    "    if y > S:\n",
    "        U = -100000000\n",
    "    return U\n",
    "\n",
    "'''\n",
    "def Bellman_simple(Vp, ik, jk, utilitymatrix):\n",
    "    Value = utilitymatrix[ik, jk] + δ * Vp[ik-jk]\n",
    "    return(Value)\n",
    "'''\n",
    "def Bellman_simple(Vp, ik, jk, utilitymatrix):\n",
    "    Value = utilitymatrix[ik, jk] + δ * Vp[ik-jk]\n",
    "    return(Value)\n",
    "\n",
    "def Bellman_interp(Vp, ik, jk, utilitymatrix, T):\n",
    "    ''' \n",
    "    Bellman : value function for state variable Kgrid[ik] with policy Kgrid[jk]\n",
    "    ''' \n",
    "    N = len(T)\n",
    "    beg = N*jk\n",
    "    fin = N*(jk+1)\n",
    "    subT = T[ik, beg:fin] # get the index of the new state by subsetting in the transition matrix\n",
    "    state_new = np.where(subT > 0)[0]\n",
    "    if len(state_new)==1: # Reach the boundary: extraction > stock --> next stock == 0\n",
    "        state_new1 = state_new[0]\n",
    "        weight1 = subT[state_new1]\n",
    "        Vnext = Vp[state_new1]*weight1\n",
    "    if len(state_new)>1:\n",
    "        state_new1 = state_new[0]\n",
    "        state_new2 = state_new[1]\n",
    "        weight1 = subT[state_new1]\n",
    "        weight2 = subT[state_new2]\n",
    "        Vnext = Vp[state_new1]*weight1 + Vp[state_new2]*weight2\n",
    "    Value = utilitymatrix[ik, jk]  + δ * Vnext\n",
    "    return (Value)\n",
    "\n",
    "def g_hat(Kgrid, jk): return(Kgrid[jk]) #policy function\n",
    "\n",
    "# Price functions = derivatives of utility functions wrt extraction (MU)\n",
    "def p1_f(C1):\n",
    "    return (1/(C1**0.5))\n",
    "\n",
    "def p2_f(C2):\n",
    "    return (5 - 0.1*C2)"
   ]
  },
  {
   "cell_type": "code",
   "execution_count": null,
   "metadata": {},
   "outputs": [],
   "source": []
  },
  {
   "cell_type": "code",
   "execution_count": 506,
   "metadata": {},
   "outputs": [],
   "source": [
    "def T_f(S, A, interp=True):\n",
    "    \n",
    "    # Initialize\n",
    "    N = len(S)\n",
    "    Na = len(A)\n",
    "    T = np.zeros((N, N*Na))\n",
    "\n",
    "    # For each action indexed k, and each initial state i, compute resulting state j\n",
    "    '''\n",
    "    if interp==False:\n",
    "        for i in range(N):\n",
    "            for k in range(Na):\n",
    "                next = max(S[i] - A[k], 0.0)\n",
    "                j_raw = np.where(S == next)[0]\n",
    "                j_adj = j_raw + N*k\n",
    "                T[i, j_adj] = 1\n",
    "    '''\n",
    "    \n",
    "    if interp==True:\n",
    "        for i in range(N):\n",
    "            for k in range(Na):\n",
    "                diff = S[i] - A[k]\n",
    "                if diff < 0:\n",
    "                    index1_raw = 0\n",
    "                    index1_adj = index1_raw + (N)*k\n",
    "                    T[i, index1_adj] = 1.0\n",
    "                if diff >= 0:\n",
    "                    dist = abs(S - diff) # How far from the difference is each element of S\n",
    "                    index1_raw = np.where(dist == sorted(dist)[0])[0][0] # Find the index of the closest\n",
    "                    index2_raw = np.where(dist == sorted(dist)[1])[0][0] # Find the index of the second closest\n",
    "                    weight1 = 1 - sorted(dist)[0] / np.sum(sorted(dist)[0:2])\n",
    "                    weight2 = 1 - sorted(dist)[1] / np.sum(sorted(dist)[0:2])\n",
    "                    index1_adj = index1_raw + (N)*k\n",
    "                    index2_adj = index2_raw + (N)*k\n",
    "                    T[i, index1_adj] = weight1\n",
    "                    T[i, index2_adj] = weight2\n",
    "    return(T)\n"
   ]
  },
  {
   "cell_type": "code",
   "execution_count": 507,
   "metadata": {},
   "outputs": [],
   "source": [
    "T2 = T_f(S2, A2, interp=True)"
   ]
  },
  {
   "cell_type": "code",
   "execution_count": 508,
   "metadata": {},
   "outputs": [],
   "source": [
    "T2_sparse = csr_matrix(T2)"
   ]
  },
  {
   "cell_type": "code",
   "execution_count": 519,
   "metadata": {},
   "outputs": [],
   "source": [
    "#T2_sparse[:,20*Na:21*Na].dot(Vp)"
   ]
  },
  {
   "cell_type": "code",
   "execution_count": 350,
   "metadata": {},
   "outputs": [],
   "source": [
    "def VFI(State_grid, Action_grid, V0, Uo, Tinput=\"inside\", maxiter = 1000, tol = 1e-8, δ=(1/1.05), howard=True, print_i=True, interp=False):\n",
    "\n",
    "    ### Initiate vectors & numbers\n",
    "    iter = 0\n",
    "    epsi = 1\n",
    "    IndexAction_new = np.zeros(len(Action_grid))\n",
    "    Action = np.zeros(len(Action_grid))\n",
    "    Vp_new = np.zeros(len(State_grid))\n",
    "    Vp = V0\n",
    "    N = len(State_grid)\n",
    "    Na = len(Action_grid)\n",
    "    \n",
    "    # Initiate the utility matrix & compute it\n",
    "    print(\"Compute Utility Matrix\")\n",
    "    utilitymatrix = np.ones((N, Na))\n",
    "    if Uo == \"U1\":\n",
    "        for i in range(0,N):\n",
    "            for j in range(0,Na):\n",
    "                utilitymatrix[i,j] = u_f1(State_grid[i], Action_grid[j]) \n",
    "    if Uo == \"U2\":\n",
    "        for i in range(0,N):\n",
    "            for j in range(0,Na):\n",
    "                utilitymatrix[i,j] = u_f2(State_grid[i], Action_grid[j]) \n",
    "                \n",
    "    if interp==True:\n",
    "        if Tinput==\"No\":\n",
    "            print(\"Compute Transition Matrix\")\n",
    "            T = T_f(State_grid, Action_grid, interp=True)\n",
    "        else:\n",
    "            T = Tinput\n",
    "\n",
    "    while (epsi > tol) & (iter < maxiter):\n",
    "        for ik in range(N):\n",
    "            # ik = index of the stock today\n",
    "            # d = max extraction < current stock\n",
    "            #d = int(gk[max(ik-1), 0])\n",
    "            d = 0\n",
    "\n",
    "            #Value function Tj for each choice g(k)\n",
    "            Vnext = np.zeros(len(State_grid)-d)\n",
    "\n",
    "            # Compute the value function Tj for each choice of g(k)\n",
    "            if interp==False:\n",
    "                for jk in range(d, Na):\n",
    "                    Vnext[jk - d] = Bellman_simple(Vp, ik, jk, utilitymatrix)\n",
    "\n",
    "            if interp==True:\n",
    "                for jk in range(d, Na):\n",
    "                    Vnext[jk - d] = Bellman_interp(Vp, ik, jk, utilitymatrix, T)\n",
    "\n",
    "            # Choose the maximum\n",
    "            Vp_new[ik] = np.max(Vnext)\n",
    "            #IndexAction_new[ik] = d + int(np.where(Vnext==np.max(Vnext))[0][0])\n",
    "            IndexAction_new[ik] = d + int(np.max(np.where(Vnext==np.max(Vnext))[0]))\n",
    "        \n",
    "        '''\n",
    "        if howard==\"True\":\n",
    "            for c in range(100):\n",
    "                for ik in range(len(Action_grid)):\n",
    "                    jk = int(IndexAction_new[ik])\n",
    "                    if interp==False:\n",
    "                        Vp_new[ik] = Bellman_simple(Vp_new, ik, jk, utilitymatrix)\n",
    "                    if interp==True:\n",
    "                        Vp_new[ik] = Bellman_interp(Vp_new, ik, jk, utilitymatrix, T)\n",
    "\n",
    "        '''\n",
    "        ### Check the error\n",
    "        epsi = np.abs(Vp_new - Vp).max()\n",
    "\n",
    "        ### Keep track of what is going on\n",
    "        if print_i==True:\n",
    "            print(\"iteration is \", iter, \" and Error term is \", epsi)\n",
    "            \n",
    "        IndexAction = IndexAction_new*1. #Update\n",
    "        Vp = Vp_new*1. #Update\n",
    "        \n",
    "        if epsi < tol:\n",
    "            break\n",
    "\n",
    "        iter=iter+1\n",
    "\n",
    "    #Calculate Values for g(k)\n",
    "    for jk in range(len(Action_grid)):\n",
    "        Action[jk] = Action_grid[int(IndexAction[jk])]\n",
    "        \n",
    "    # Calculate the N*N optimal transition matrix T_opt that gives the state transition proba under optimal action\n",
    "    return[Vp, IndexAction, Action, iter]"
   ]
  },
  {
   "cell_type": "code",
   "execution_count": 267,
   "metadata": {},
   "outputs": [],
   "source": [
    "### Parameters\n",
    "r = 0.05\n",
    "δ = 1/(1+r)\n",
    "Stot = 1000\n",
    "\n",
    "N = 501\n",
    "Na = 501\n",
    "S1 = np.linspace(0,1000,N)\n",
    "A1 = np.linspace(0,1000,Na)\n",
    "V0 = np.zeros(N)"
   ]
  },
  {
   "cell_type": "markdown",
   "metadata": {},
   "source": [
    "### Solve the model and find the N*N optimal transion matrix $T_{opt}$"
   ]
  },
  {
   "cell_type": "code",
   "execution_count": 318,
   "metadata": {},
   "outputs": [
    {
     "name": "stdout",
     "output_type": "stream",
     "text": [
      "Compute Utility Matrix\n",
      "Compute Utility Matrix\n"
     ]
    }
   ],
   "source": [
    "### Utility 1\n",
    "[Vp1, IndexAction1, Action1, iter1] = VFI(S1, A1, V0, Uo = \"U1\", print_i=False, interp=False)\n",
    "\n",
    "# Calculate the N*N optimal transition matrix\n",
    "T_opt1 = np.zeros((N, N))\n",
    "for ik in range(N):\n",
    "    ij = np.where(S1 == S1[ik] - Action1[ik])[0][0]\n",
    "    T_opt1[ik, ij] = 1  \n",
    "\n",
    "\n",
    "    ### Utility 2\n",
    "[Vp2, IndexAction2, Action2, iter2] = VFI(S1, A1, V0, Uo = \"U2\", print_i=False, interp=False)\n",
    "\n",
    "# Calculate the N*N optimal transition matrix\n",
    "T_opt2 = np.zeros((N, N))\n",
    "for ik in range(N):\n",
    "    ij = np.where(S1 == S1[ik] - Action2[ik])[0][0]\n",
    "    T_opt2[ik, ij] = 1  \n"
   ]
  },
  {
   "cell_type": "markdown",
   "metadata": {},
   "source": [
    "### Simulate the model for t = 80 periods, $S_0 = 100$"
   ]
  },
  {
   "cell_type": "code",
   "execution_count": 271,
   "metadata": {},
   "outputs": [
    {
     "name": "stderr",
     "output_type": "stream",
     "text": [
      "/Applications/anaconda3/lib/python3.7/site-packages/ipykernel_launcher.py:51: RuntimeWarning: divide by zero encountered in true_divide\n"
     ]
    }
   ],
   "source": [
    "# St = each period's stock\n",
    "# C = each period's extraction\n",
    "\n",
    "## Simulate 1\n",
    "St1 = 1000*np.ones(80)\n",
    "C1 = np.zeros(80)\n",
    "for i in range(80-1):\n",
    "    init_index1 = np.where(S1==St1[i])[0][0]\n",
    "    C1[i] = Action1[init_index1]\n",
    "    final_index1 = np.where(T_opt1[init_index1,]==1)[0][0]\n",
    "    St1[i+1] = S1[final_index1]\n",
    "p1 = p1_f(C1)\n",
    "\n",
    "## Simulate 2\n",
    "St2 = 1000*np.ones(80)\n",
    "C2 = np.zeros(80)\n",
    "for i in range(80-1):\n",
    "    init_index2 = np.where(S1==St2[i])[0][0]\n",
    "    C2[i] = Action2[init_index2]\n",
    "    final_index2 = np.where(T_opt2[init_index2,]==1)[0][0]\n",
    "    St2[i+1] = S1[final_index2]\n",
    "    \n",
    "p2 = p2_f(C2)\n"
   ]
  },
  {
   "cell_type": "code",
   "execution_count": 272,
   "metadata": {},
   "outputs": [
    {
     "data": {
      "image/png": "[encoded data removed]",
      "text/plain": [
       "<Figure size 432x288 with 1 Axes>"
      ]
     },
     "metadata": {
      "needs_background": "light"
     },
     "output_type": "display_data"
    },
    {
     "data": {
      "image/png": "[encoded data removed]",
      "text/plain": [
       "<Figure size 432x288 with 1 Axes>"
      ]
     },
     "metadata": {
      "needs_background": "light"
     },
     "output_type": "display_data"
    },
    {
     "data": {
      "image/png": "[encoded data removed]",
      "text/plain": [
       "<Figure size 432x288 with 1 Axes>"
      ]
     },
     "metadata": {
      "needs_background": "light"
     },
     "output_type": "display_data"
    }
   ],
   "source": [
    "plt.plot(range(0,80), C1, color=\"red\", label=\"Utility 1\")\n",
    "plt.plot(range(0,80), C2, color=\"blue\", label=\"Utility 2\")\n",
    "plt.xlabel(\"time\")\n",
    "plt.ylabel(\"Extraction\")\n",
    "plt.legend()\n",
    "plt.show()\n",
    "\n",
    "plt.plot(range(0,80), St1, color=\"red\", label=\"Utility 1\")\n",
    "plt.plot(range(0,80), St2, color=\"blue\", label=\"Utility 2\")\n",
    "plt.xlabel(\"time\")\n",
    "plt.ylabel(\"Value Function\")\n",
    "plt.legend()\n",
    "plt.show()\n",
    "\n",
    "# For printing purposes\n",
    "plt.plot(range(0,80), p1, color=\"red\", label=\"Utility 1 (for < inf)\")\n",
    "plt.plot(range(0,80), p2, color=\"blue\", label=\"Utility 2\")\n",
    "plt.xlabel(\"time\")\n",
    "plt.ylabel(\"Price\")\n",
    "plt.legend()\n",
    "plt.show()"
   ]
  },
  {
   "cell_type": "markdown",
   "metadata": {},
   "source": [
    "## Question 2: Interpolating Between the States"
   ]
  },
  {
   "cell_type": "code",
   "execution_count": 6,
   "metadata": {},
   "outputs": [
    {
     "data": {
      "text/plain": [
       "[<matplotlib.lines.Line2D at 0x7ffc0bafa610>]"
      ]
     },
     "execution_count": 6,
     "metadata": {},
     "output_type": "execute_result"
    },
    {
     "data": {
      "image/png": "[encoded data removed]",
      "text/plain": [
       "<Figure size 432x288 with 1 Axes>"
      ]
     },
     "metadata": {
      "needs_background": "light"
     },
     "output_type": "display_data"
    }
   ],
   "source": [
    "N2 = 501\n",
    "Na2 = 501\n",
    "S2 = np.linspace(0,1000,N2)\n",
    "A2 = np.linspace(0,(1000**0.5),Na2)**2\n",
    "plt.plot(range(501), A2)"
   ]
  },
  {
   "cell_type": "code",
   "execution_count": 7,
   "metadata": {},
   "outputs": [],
   "source": [
    "T2 = T_f(S2, A2, interp=True)"
   ]
  },
  {
   "cell_type": "code",
   "execution_count": 351,
   "metadata": {},
   "outputs": [
    {
     "name": "stdout",
     "output_type": "stream",
     "text": [
      "Compute Utility Matrix\n"
     ]
    },
    {
     "name": "stderr",
     "output_type": "stream",
     "text": [
      "/Applications/anaconda3/lib/python3.7/site-packages/ipykernel_launcher.py:26: FutureWarning: elementwise comparison failed; returning scalar instead, but in the future will perform elementwise comparison\n"
     ]
    },
    {
     "name": "stdout",
     "output_type": "stream",
     "text": [
      "iteration is  0  and Error term is  63.245553203367585\n",
      "iteration is  1  and Error term is  24.145104261799162\n",
      "iteration is  2  and Error term is  17.16669099949351\n",
      "iteration is  3  and Error term is  13.414500575942384\n",
      "iteration is  4  and Error term is  10.977611788061068\n",
      "iteration is  5  and Error term is  9.190598029577671\n",
      "iteration is  6  and Error term is  7.832881574582615\n",
      "iteration is  7  and Error term is  6.78114962992538\n",
      "iteration is  8  and Error term is  5.887384928939099\n",
      "iteration is  9  and Error term is  5.122766185013404\n",
      "iteration is  10  and Error term is  4.574718053666032\n",
      "iteration is  11  and Error term is  4.000683829441016\n",
      "iteration is  12  and Error term is  3.5789885996833846\n"
     ]
    }
   ],
   "source": [
    "[Vp1_v2, IndexAction1_v2, Action1_v2, iter1_v2] = VFI(S2, A2, V0, Uo = \"U1\", Tinput=T2, maxiter = 13, tol=1e-6, print_i=True, interp=True)\n"
   ]
  },
  {
   "cell_type": "code",
   "execution_count": 352,
   "metadata": {},
   "outputs": [
    {
     "data": {
      "text/plain": [
       "array([  0.,   6.,   9.,  12.,  15.,  17.,  18.,  20.,  22.,  22.,  23.,\n",
       "        25.,  26.,  28.,  29.,  30.,  31.,  32.,  33.,  34.,  36.,  37.,\n",
       "        38.,  39.,  39.,  40.,  41.,  42.,  43.,  43.,  44.,  45.,  45.,\n",
       "        46.,  47.,  48.,  48.,  49.,  50.,  50.,  51.,  51.,  52.,  53.,\n",
       "        53.,  54.,  55.,  55.,  55.,  56.,  57.,  57.,  58.,  59.,  59.,\n",
       "        60.,  60.,  61.,  61.,  62.,  62.,  63.,  63.,  64.,  64.,  65.,\n",
       "        65.,  66.,  66.,  67.,  67.,  68.,  68.,  69.,  69.,  70.,  70.,\n",
       "        71.,  71.,  71.,  72.,  72.,  73.,  73.,  74.,  74.,  74.,  75.,\n",
       "        75.,  75.,  76.,  76.,  77.,  77.,  77.,  78.,  78.,  79.,  79.,\n",
       "        80.,  80.,  80.,  81.,  81.,  82.,  82.,  83.,  83.,  83.,  84.,\n",
       "        84.,  84.,  85.,  85.,  86.,  86.,  87.,  87.,  87.,  88.,  88.,\n",
       "        88.,  89.,  89.,  90.,  90.,  90.,  91.,  91.,  92.,  92.,  92.,\n",
       "        92.,  93.,  93.,  94.,  94.,  94.,  95.,  95.,  95.,  96.,  96.,\n",
       "        96.,  97.,  97.,  97.,  98.,  98.,  98.,  99.,  99.,  99., 100.,\n",
       "       100., 100., 100., 100., 101., 101., 101., 102., 102., 102., 103.,\n",
       "       103., 103., 104., 104., 105., 105., 105., 105., 106., 106., 106.,\n",
       "       107., 107., 107., 108., 108., 108., 109., 109., 109., 109., 110.,\n",
       "       110., 110., 111., 111., 111., 112., 112., 112., 112., 113., 113.,\n",
       "       113., 113., 114., 114., 114., 114., 115., 115., 115., 116., 116.,\n",
       "       116., 116., 117., 117., 117., 118., 118., 118., 118., 119., 119.,\n",
       "       119., 120., 120., 120., 120., 121., 121., 121., 121., 122., 122.,\n",
       "       122., 123., 123., 123., 123., 124., 124., 124., 124., 125., 125.,\n",
       "       125., 126., 126., 126., 126., 127., 127., 127., 127., 128., 128.,\n",
       "       128., 128., 128., 129., 129., 129., 129., 130., 130., 130., 130.,\n",
       "       131., 131., 131., 131., 132., 132., 132., 132., 133., 133., 133.,\n",
       "       133., 134., 134., 134., 134., 135., 135., 135., 135., 136., 136.,\n",
       "       136., 136., 137., 137., 137., 137., 138., 138., 138., 138., 138.,\n",
       "       139., 139., 139., 139., 140., 140., 140., 140., 141., 141., 141.,\n",
       "       141., 142., 142., 142., 142., 143., 143., 143., 143., 144., 144.,\n",
       "       144., 144., 144., 145., 145., 145., 145., 146., 146., 146., 146.,\n",
       "       146., 147., 147., 147., 147., 148., 148., 148., 148., 149., 149.,\n",
       "       149., 149., 149., 149., 150., 150., 150., 150., 150., 150., 150.,\n",
       "       150., 151., 151., 151., 151., 151., 152., 152., 152., 152., 153.,\n",
       "       153., 153., 153., 153., 154., 154., 154., 154., 155., 155., 155.,\n",
       "       155., 155., 156., 156., 156., 156., 156., 157., 157., 157., 157.,\n",
       "       157., 158., 158., 158., 158., 158., 159., 159., 159., 159., 159.,\n",
       "       160., 160., 160., 160., 160., 161., 161., 161., 161., 162., 162.,\n",
       "       162., 162., 163., 163., 163., 163., 163., 164., 164., 164., 164.,\n",
       "       164., 165., 165., 165., 165., 165., 166., 166., 166., 166., 166.,\n",
       "       167., 167., 167., 167., 167., 167., 168., 168., 168., 168., 168.,\n",
       "       168., 168., 169., 169., 169., 169., 169., 170., 170., 170., 170.,\n",
       "       170., 171., 171., 171., 171., 171., 172., 172., 172., 172., 172.,\n",
       "       173., 173., 173., 173., 173., 174., 174., 174., 174., 175., 175.,\n",
       "       175., 175., 175., 176., 176., 176., 176., 176., 176., 176., 177.,\n",
       "       177., 177., 177., 177., 178., 178., 178., 178., 178., 178., 179.,\n",
       "       179., 179., 179., 179., 180., 180.])"
      ]
     },
     "execution_count": 352,
     "metadata": {},
     "output_type": "execute_result"
    }
   ],
   "source": [
    "IndexAction1_v2"
   ]
  },
  {
   "cell_type": "code",
   "execution_count": 334,
   "metadata": {},
   "outputs": [
    {
     "name": "stdout",
     "output_type": "stream",
     "text": [
      "Compute Utility Matrix\n"
     ]
    },
    {
     "name": "stderr",
     "output_type": "stream",
     "text": [
      "/Applications/anaconda3/lib/python3.7/site-packages/ipykernel_launcher.py:26: FutureWarning: elementwise comparison failed; returning scalar instead, but in the future will perform elementwise comparison\n"
     ]
    },
    {
     "name": "stdout",
     "output_type": "stream",
     "text": [
      "iteration is  0  and Error term is  124.99845119999998\n",
      "iteration is  1  and Error term is  119.04614399999997\n",
      "iteration is  2  and Error term is  113.37727999999998\n",
      "iteration is  3  and Error term is  107.97836190476187\n",
      "iteration is  4  and Error term is  102.83653514739217\n",
      "iteration is  5  and Error term is  97.93955728323067\n",
      "iteration is  6  and Error term is  93.27576884117207\n",
      "iteration is  7  and Error term is  88.834065563021\n",
      "iteration is  8  and Error term is  84.603871964782\n",
      "iteration is  9  and Error term is  80.57511615693522\n",
      "iteration is  10  and Error term is  76.73820586374791\n",
      "iteration is  11  and Error term is  73.08400558452149\n",
      "iteration is  12  and Error term is  69.60381484240179\n",
      "iteration is  13  and Error term is  66.28934746895402\n",
      "iteration is  14  and Error term is  63.13271187519422\n",
      "iteration is  15  and Error term is  60.12639226208967\n",
      "iteration is  16  and Error term is  57.26323072579953\n",
      "iteration is  17  and Error term is  54.536410215047454\n",
      "iteration is  18  and Error term is  51.93943830004491\n",
      "iteration is  19  and Error term is  49.39521052674809\n",
      "iteration is  20  and Error term is  43.575485511650186\n",
      "iteration is  21  and Error term is  35.306791178402136\n",
      "iteration is  22  and Error term is  28.669270750067653\n",
      "iteration is  23  and Error term is  22.754040944377493\n",
      "iteration is  24  and Error term is  18.28496449006093\n",
      "iteration is  25  and Error term is  14.237542971971607\n",
      "iteration is  26  and Error term is  11.10363631856194\n",
      "iteration is  27  and Error term is  8.648110359681368\n",
      "iteration is  28  and Error term is  6.478594216767533\n",
      "iteration is  29  and Error term is  4.721558159799088\n",
      "iteration is  30  and Error term is  3.3166426376178606\n",
      "iteration is  31  and Error term is  2.23512873396362\n",
      "iteration is  32  and Error term is  1.4807678058004967\n",
      "iteration is  33  and Error term is  0.8349394734029829\n",
      "iteration is  34  and Error term is  0.29279109009371496\n",
      "iteration is  35  and Error term is  0.19750002690670954\n",
      "iteration is  36  and Error term is  0.09348149153720442\n",
      "iteration is  37  and Error term is  0.022025165711738737\n",
      "iteration is  38  and Error term is  0.0013384834012413194\n",
      "iteration is  39  and Error term is  5.0526498853287194e-05\n",
      "iteration is  40  and Error term is  1.5398554751300253e-06\n",
      "iteration is  41  and Error term is  4.6929017116781324e-08\n"
     ]
    }
   ],
   "source": [
    "[Vp2_v2, IndexAction2_v2, Action2_v2, iter2_v2] = VFI(S2, A2, V0, Uo = \"U2\", Tinput=T2, maxiter = 1000, tol=1e-6, print_i=True, interp=True)\n",
    "\n"
   ]
  },
  {
   "cell_type": "code",
   "execution_count": 346,
   "metadata": {},
   "outputs": [
    {
     "data": {
      "text/plain": [
       "array([4.16160000e+01, 4.16160000e+01, 4.08040000e+01, 4.00000000e+01,\n",
       "       4.00000000e+01, 3.92040000e+01, 3.84160000e+01, 3.84160000e+01,\n",
       "       3.76360000e+01, 3.68640000e+01, 3.61000000e+01, 3.53440000e+01,\n",
       "       3.53380160e+01, 3.40950141e+01, 3.33256550e+01, 3.24000000e+01,\n",
       "       3.16840000e+01, 3.09760000e+01, 2.96411990e+01, 2.89000000e+01,\n",
       "       2.75560000e+01, 2.68960000e+01, 2.56000000e+01, 2.43360000e+01,\n",
       "       2.31040000e+01, 2.19040000e+01, 2.01640000e+01, 1.90440000e+01,\n",
       "       1.71672704e+01, 1.58392114e+01, 1.39272449e+01, 1.21191784e+01,\n",
       "       1.00000000e+01, 8.09416353e+00, 6.06444929e+00, 4.02594688e+00,\n",
       "       1.72560631e+00, 5.52194019e-02, 1.76702086e-03, 5.65446675e-05,\n",
       "       1.80942936e-06, 5.79017396e-08, 1.85285567e-09, 5.92911871e-11,\n",
       "       1.89748306e-12, 6.06128481e-14, 1.93445260e-15, 2.14939178e-16,\n",
       "       0.00000000e+00, 0.00000000e+00, 0.00000000e+00, 0.00000000e+00,\n",
       "       0.00000000e+00, 0.00000000e+00, 0.00000000e+00, 0.00000000e+00,\n",
       "       0.00000000e+00, 0.00000000e+00, 0.00000000e+00, 0.00000000e+00,\n",
       "       0.00000000e+00, 0.00000000e+00, 0.00000000e+00, 0.00000000e+00,\n",
       "       0.00000000e+00, 0.00000000e+00, 0.00000000e+00, 0.00000000e+00,\n",
       "       0.00000000e+00, 0.00000000e+00, 0.00000000e+00, 0.00000000e+00,\n",
       "       0.00000000e+00, 0.00000000e+00, 0.00000000e+00, 0.00000000e+00,\n",
       "       0.00000000e+00, 0.00000000e+00, 0.00000000e+00, 0.00000000e+00])"
      ]
     },
     "execution_count": 346,
     "metadata": {},
     "output_type": "execute_result"
    }
   ],
   "source": [
    "utility"
   ]
  },
  {
   "cell_type": "code",
   "execution_count": 329,
   "metadata": {},
   "outputs": [],
   "source": [
    "T_opt1_v2 = np.zeros((N, N))\n",
    "for ik in range(N):\n",
    "    diff = S2[ik] - Action1_v2[ik]\n",
    "    dist = abs(S2 - diff) # How far from the differenre is each element of S2\n",
    "    index1 = np.where(dist == sorted(dist)[0])[0][0] # Find the index of the closest\n",
    "    index2 = np.where(dist == sorted(dist)[1])[0][0] # Find the index of the second closest\n",
    "    weight1 = sorted(dist)[0] / np.sum(sorted(dist)[0:2])\n",
    "    weight2 = sorted(dist)[1] / np.sum(sorted(dist)[0:2])\n",
    "    weight1 + weight2 == 1 \n",
    "    T_opt1_v2[ik, index1] = weight1\n",
    "    T_opt1_v2[ik, index2] = weight2 "
   ]
  },
  {
   "cell_type": "code",
   "execution_count": 337,
   "metadata": {},
   "outputs": [],
   "source": [
    "T_opt2_v2 = np.zeros((N, N))\n",
    "for ik in range(N):\n",
    "    diff = S2[ik] - Action2_v2[ik]\n",
    "    dist = abs(S2 - diff) # How far from the differenre is each element of S2\n",
    "    index1 = np.where(dist == sorted(dist)[0])[0][0] # Find the index of the closest\n",
    "    index2 = np.where(dist == sorted(dist)[1])[0][0] # Find the index of the second closest\n",
    "    weight1 = sorted(dist)[0] / np.sum(sorted(dist)[0:2])\n",
    "    weight2 = sorted(dist)[1] / np.sum(sorted(dist)[0:2])\n",
    "    weight1 + weight2 == 1 \n",
    "    T_opt2_v2[ik, index1] = weight1\n",
    "    T_opt2_v2[ik, index2] = weight2 "
   ]
  },
  {
   "cell_type": "code",
   "execution_count": 340,
   "metadata": {},
   "outputs": [
    {
     "name": "stderr",
     "output_type": "stream",
     "text": [
      "/Applications/anaconda3/lib/python3.7/site-packages/ipykernel_launcher.py:51: RuntimeWarning: divide by zero encountered in true_divide\n"
     ]
    }
   ],
   "source": [
    "# Simulate\n",
    "St1_v2 = 1000*np.ones(80)\n",
    "C1_v2 = np.zeros(80)\n",
    "for i in range(80-1):\n",
    "    #init_index1 = np.where(S2==St1_v2[i])[0][0]\n",
    "    init = St1_v2[i]\n",
    "    # Find closest states\n",
    "    dist = abs(S2 - init)\n",
    "    tokeep = sorted(dist)[0:2]\n",
    "    index1 = np.where(dist == tokeep[0])[0][0]\n",
    "    index2 = np.where(dist == tokeep[1])[0][0]  \n",
    "    weight1 = 1 - tokeep[0] / np.sum(tokeep[0:2])\n",
    "    weight2 = 1 - tokeep[1] / np.sum(tokeep[0:2])\n",
    "    weight1 + weight2 == 1\n",
    "    C1_v2[i] = Action1_v2[index1]*weight1 + Action1_v2[index2]*weight2\n",
    "    St1_v2[i+1] = St1_v2[i] - C1_v2[i]\n",
    "p1_v2 = p1_f(C1_v2)\n",
    "\n",
    "# Simulate\n",
    "St2_v2 = 1000*np.ones(80)\n",
    "C2_v2 = np.zeros(80)\n",
    "for i in range(80-1):\n",
    "    #init_index1 = np.where(S2==St1_v2[i])[0][0]\n",
    "    init = St2_v2[i]\n",
    "    # Find closest states\n",
    "    dist = abs(S2 - init)\n",
    "    tokeep = sorted(dist)[0:2]\n",
    "    index1 = np.where(dist == tokeep[0])[0][0]\n",
    "    index2 = np.where(dist == tokeep[1])[0][0]  \n",
    "    weight1 = 1 - tokeep[0] / np.sum(tokeep[0:2])\n",
    "    weight2 = 1 - tokeep[1] / np.sum(tokeep[0:2])\n",
    "    weight1 + weight2 == 1\n",
    "    C2_v2[i] = Action2_v2[index1]*weight1 + Action2_v2[index2]*weight2\n",
    "    St2_v2[i+1] = St2_v2[i] - C2_v2[i]\n",
    "    \n",
    "p2_v2 = p2_f(C2_v2)\n"
   ]
  },
  {
   "cell_type": "code",
   "execution_count": 341,
   "metadata": {},
   "outputs": [
    {
     "data": {
      "image/png": "[encoded data removed]",
      "text/plain": [
       "<Figure size 432x288 with 1 Axes>"
      ]
     },
     "metadata": {
      "needs_background": "light"
     },
     "output_type": "display_data"
    },
    {
     "data": {
      "image/png": "[encoded data removed]",
      "text/plain": [
       "<Figure size 432x288 with 1 Axes>"
      ]
     },
     "metadata": {
      "needs_background": "light"
     },
     "output_type": "display_data"
    },
    {
     "data": {
      "image/png": "[encoded data removed]",
      "text/plain": [
       "<Figure size 432x288 with 1 Axes>"
      ]
     },
     "metadata": {
      "needs_background": "light"
     },
     "output_type": "display_data"
    },
    {
     "data": {
      "image/png": "[encoded data removed]",
      "text/plain": [
       "<Figure size 432x288 with 1 Axes>"
      ]
     },
     "metadata": {
      "needs_background": "light"
     },
     "output_type": "display_data"
    }
   ],
   "source": [
    "plt.plot(range(0,80), C1, color=\"blue\")\n",
    "plt.plot(range(0,80), C1_v2, color=\"red\")\n",
    "plt.show()\n",
    "\n",
    "plt.plot(range(0,80), C2, color=\"blue\")\n",
    "plt.plot(range(0,80), C2_v2, color=\"red\")\n",
    "plt.show()\n",
    "\n",
    "plt.plot(range(0,80), p1, color=\"blue\")\n",
    "plt.plot(range(0,80), p1_v2, color=\"red\")\n",
    "plt.show()\n",
    "\n",
    "plt.plot(range(0,80), p2, color=\"blue\")\n",
    "plt.plot(range(0,80), p2_v2, color=\"red\")\n",
    "plt.show()"
   ]
  },
  {
   "cell_type": "code",
   "execution_count": 479,
   "metadata": {},
   "outputs": [
    {
     "name": "stdout",
     "output_type": "stream",
     "text": [
      "[ 0 22 31 38 42]\n",
      "[0.         3.7741007  4.58927185 6.05116998 6.73492125]\n",
      "[0. 0. 0. 0. 0.]\n"
     ]
    },
    {
     "data": {
      "text/plain": [
       "1079.9454801916788"
      ]
     },
     "execution_count": 479,
     "metadata": {},
     "output_type": "execute_result"
    }
   ],
   "source": [
    "Vp = np.zeros(N)\n",
    "T=T2\n",
    "N = len(T)\n",
    "Vold = np.copy(Vp)\n",
    "Vnextall = np.zeros((N, Na))\n",
    "for jk in range(Na):\n",
    "    beg = N*jk\n",
    "    fin = N*(jk+1)\n",
    "    subT = T[:,beg:fin]\n",
    "    vals = np.dot(subT, Vp)\n",
    "    Vnextall[:,jk] = vals\n",
    "\n",
    "Uall = utilitymatrix + δ * Vnext\n",
    "max1 = np.max(Uall, axis=1)\n",
    "max = np.argmax(Uall, axis=1)\n",
    "print(max[0:5])\n",
    "#Vnext = np.zeros(N)\n",
    "for i in range(N):\n",
    "    Vp[i] = Uall[i,max[i]]\n",
    "print(Vp[0:5])\n",
    "print(Vold[0:5])\n",
    "lin.norm(Vp - Vold)"
   ]
  },
  {
   "cell_type": "code",
   "execution_count": 459,
   "metadata": {},
   "outputs": [
    {
     "name": "stdout",
     "output_type": "stream",
     "text": [
      "3.7741007046687587\n",
      "22\n",
      "[ 2.12690790e-01  4.63093942e-01  6.81172213e-01  8.50763161e-01\n",
      "  6.32455532e-01  1.21149498e+00  9.87799869e-01  1.17894074e+00\n",
      "  1.19768224e+00  1.80365909e+00  1.52070170e+00  1.90040437e+00\n",
      "  2.18313241e+00  2.36888580e+00  2.45766454e+00  2.44946864e+00\n",
      "  2.34429810e+00  3.16038667e+00  2.89359172e+00  2.52982213e+00\n",
      "  3.17351134e+00  3.77410070e+00 -9.99999997e+07 -9.99999994e+07\n",
      " -9.99999990e+07 -1.00000000e+08 -9.99999998e+07 -9.99999996e+07\n",
      " -9.99999995e+07]\n"
     ]
    }
   ],
   "source": [
    "print(np.max(Uall[1,:]))\n",
    "print(np.argmax(Uall[1,:]))\n",
    "print(Uall[1,1:30])"
   ]
  },
  {
   "cell_type": "code",
   "execution_count": 444,
   "metadata": {},
   "outputs": [
    {
     "name": "stdout",
     "output_type": "stream",
     "text": [
      "[0.         1.19359625 3.96518545 6.60479422 9.11870734]\n",
      "[ 0.          2.82842712  5.52216724  8.08763402 10.53093572]\n",
      "[0 1 1 1 1]\n",
      "1\n",
      "2.8227702704966977\n",
      "[[ 0.          0.          0.         ...  0.          0.\n",
      "   0.        ]\n",
      " [ 2.82842712  2.82277027  2.80579971 ...  0.          0.\n",
      "   0.        ]\n",
      " [ 5.52216724  5.51677976  5.50061732 ...  0.          0.\n",
      "   0.        ]\n",
      " [ 8.08763402  8.08250309  8.06711029 ...  0.          0.\n",
      "   0.        ]\n",
      " [10.53093572 10.52604912 10.5113893  ...  0.          0.\n",
      "   0.        ]]\n"
     ]
    }
   ],
   "source": [
    "print(Vnext[0:5])\n",
    "print(Vnext2[0:5])\n",
    "print(max[0:5])\n",
    "print(max[5])\n",
    "print(Vnextall[1,1])\n",
    "print(Vnextall[0:5,])"
   ]
  },
  {
   "cell_type": "code",
   "execution_count": 498,
   "metadata": {},
   "outputs": [
    {
     "name": "stdout",
     "output_type": "stream",
     "text": [
      "[[1. 0. 0. 0. 0.]\n",
      " [0. 1. 0. 0. 0.]\n",
      " [0. 0. 1. 0. 0.]\n",
      " [0. 0. 0. 1. 0.]\n",
      " [0. 0. 0. 0. 1.]]\n"
     ]
    }
   ],
   "source": [
    "T2 = T_f(S2, A2, interp=True)\n",
    "print(T2[0:5,0:5])"
   ]
  },
  {
   "cell_type": "code",
   "execution_count": 531,
   "metadata": {},
   "outputs": [
    {
     "name": "stdout",
     "output_type": "stream",
     "text": [
      "Compute Utility Matrix\n",
      "22\n",
      "iteration is  0  and Error term is  999.6306757998175\n",
      "12\n",
      "iteration is  1  and Error term is  382.22358359005364\n",
      "10\n",
      "iteration is  2  and Error term is  271.571086320296\n",
      "9\n",
      "iteration is  3  and Error term is  212.4579473176012\n",
      "8\n",
      "iteration is  4  and Error term is  173.61935439472015\n",
      "7\n",
      "iteration is  5  and Error term is  145.52413508394983\n",
      "7\n",
      "iteration is  6  and Error term is  124.15091213179542\n",
      "7\n",
      "iteration is  7  and Error term is  107.05369166338109\n",
      "6\n",
      "iteration is  8  and Error term is  93.12997699892438\n",
      "6\n",
      "iteration is  9  and Error term is  81.61902093185495\n",
      "6\n",
      "iteration is  10  and Error term is  71.86880582805578\n",
      "6\n",
      "iteration is  11  and Error term is  63.499016900233514\n",
      "6\n",
      "iteration is  12  and Error term is  56.34387846166145\n",
      "6\n",
      "iteration is  13  and Error term is  50.11094282974448\n",
      "6\n",
      "iteration is  14  and Error term is  44.7271788902159\n",
      "6\n",
      "iteration is  15  and Error term is  40.03579837182327\n",
      "6\n",
      "iteration is  16  and Error term is  35.830256185787505\n",
      "5\n",
      "iteration is  17  and Error term is  32.08515277453874\n",
      "5\n",
      "iteration is  18  and Error term is  28.793217288378887\n",
      "5\n",
      "iteration is  19  and Error term is  25.85500434718936\n",
      "5\n",
      "iteration is  20  and Error term is  23.263422138973258\n",
      "5\n",
      "iteration is  21  and Error term is  20.937125947878076\n",
      "5\n",
      "iteration is  22  and Error term is  18.864180362648234\n",
      "5\n",
      "iteration is  23  and Error term is  16.992165851380783\n",
      "5\n",
      "iteration is  24  and Error term is  15.301786992192639\n",
      "5\n",
      "iteration is  25  and Error term is  13.796044899269988\n",
      "5\n",
      "iteration is  26  and Error term is  12.462800808911043\n",
      "5\n",
      "iteration is  27  and Error term is  11.278960520867294\n",
      "5\n",
      "iteration is  28  and Error term is  10.208583906133356\n",
      "5\n",
      "iteration is  29  and Error term is  9.222334728356675\n",
      "5\n",
      "iteration is  30  and Error term is  8.330500392772214\n",
      "5\n",
      "iteration is  31  and Error term is  7.524855551341117\n",
      "5\n",
      "iteration is  32  and Error term is  6.794511958837992\n",
      "5\n",
      "iteration is  33  and Error term is  6.132718692188198\n",
      "5\n",
      "iteration is  34  and Error term is  5.534693441936662\n",
      "5\n",
      "iteration is  35  and Error term is  4.9947339062372205\n",
      "5\n",
      "iteration is  36  and Error term is  4.505422658659432\n",
      "5\n",
      "iteration is  37  and Error term is  4.06000253828608\n",
      "5\n",
      "iteration is  38  and Error term is  3.65402859859463\n",
      "5\n",
      "iteration is  39  and Error term is  3.2835645424363906\n",
      "5\n",
      "iteration is  40  and Error term is  2.9457957875029663\n",
      "5\n",
      "iteration is  41  and Error term is  2.6391425639562973\n",
      "5\n",
      "iteration is  42  and Error term is  2.362528403226571\n",
      "5\n",
      "iteration is  43  and Error term is  2.1150719983446926\n",
      "5\n",
      "iteration is  44  and Error term is  1.8953629231229878\n",
      "5\n",
      "iteration is  45  and Error term is  1.7013876165972117\n",
      "5\n",
      "iteration is  46  and Error term is  1.5302798225278205\n",
      "5\n",
      "iteration is  47  and Error term is  1.377525028198638\n",
      "5\n",
      "iteration is  48  and Error term is  1.2418433820183594\n",
      "5\n",
      "iteration is  49  and Error term is  1.1198974079407147\n",
      "5\n",
      "iteration is  50  and Error term is  1.0111401033937606\n",
      "5\n",
      "iteration is  51  and Error term is  0.9129708372279185\n",
      "5\n",
      "iteration is  52  and Error term is  0.8242263351746695\n",
      "5\n",
      "iteration is  53  and Error term is  0.7447237610883253\n",
      "5\n",
      "iteration is  54  and Error term is  0.6731735685563812\n",
      "5\n",
      "iteration is  55  and Error term is  0.6082173511591665\n",
      "5\n",
      "iteration is  56  and Error term is  0.5492542799542753\n",
      "5\n",
      "iteration is  57  and Error term is  0.4963525424422217\n",
      "5\n",
      "iteration is  58  and Error term is  0.4488198141753264\n",
      "5\n",
      "iteration is  59  and Error term is  0.40603876241103354\n",
      "5\n",
      "iteration is  60  and Error term is  0.36732128893666455\n",
      "5\n",
      "iteration is  61  and Error term is  0.3321619028454681\n",
      "5\n",
      "iteration is  62  and Error term is  0.3001888451358104\n",
      "5\n",
      "iteration is  63  and Error term is  0.27115177263984974\n",
      "5\n",
      "iteration is  64  and Error term is  0.24489412954905201\n",
      "5\n",
      "iteration is  65  and Error term is  0.22129735782467094\n",
      "5\n",
      "iteration is  66  and Error term is  0.2000705762055484\n",
      "5\n",
      "iteration is  67  and Error term is  0.1808987845640201\n",
      "5\n",
      "iteration is  68  and Error term is  0.16356573590106066\n",
      "5\n",
      "iteration is  69  and Error term is  0.1478796434294466\n",
      "5\n",
      "iteration is  70  and Error term is  0.1336763921712208\n",
      "5\n",
      "iteration is  71  and Error term is  0.12082977710311496\n",
      "5\n",
      "iteration is  72  and Error term is  0.1092040051977595\n",
      "5\n",
      "iteration is  73  and Error term is  0.09866658500981441\n",
      "5\n",
      "iteration is  74  and Error term is  0.08914857698951069\n",
      "5\n",
      "iteration is  75  and Error term is  0.08059848837908562\n",
      "5\n",
      "iteration is  76  and Error term is  0.07293803549913551\n",
      "5\n",
      "iteration is  77  and Error term is  0.06607450510446104\n",
      "5\n",
      "iteration is  78  and Error term is  0.05991060272790561\n",
      "5\n",
      "iteration is  79  and Error term is  0.05434088163332077\n",
      "5\n",
      "iteration is  80  and Error term is  0.049285381961272044\n",
      "5\n",
      "iteration is  81  and Error term is  0.04469588704250972\n",
      "5\n",
      "iteration is  82  and Error term is  0.040530341481279104\n",
      "5\n",
      "iteration is  83  and Error term is  0.03675107846293224\n",
      "5\n",
      "iteration is  84  and Error term is  0.03332339947705845\n",
      "5\n",
      "iteration is  85  and Error term is  0.030216255751221714\n",
      "5\n",
      "iteration is  86  and Error term is  0.027396002254669885\n",
      "5\n",
      "iteration is  87  and Error term is  0.024831498336977006\n",
      "5\n",
      "iteration is  88  and Error term is  0.022501702583424453\n",
      "5\n",
      "iteration is  89  and Error term is  0.020389382323795648\n",
      "5\n",
      "iteration is  90  and Error term is  0.018476129896170496\n",
      "5\n",
      "iteration is  91  and Error term is  0.016743251603127472\n",
      "5\n",
      "iteration is  92  and Error term is  0.015174064962778165\n",
      "5\n",
      "iteration is  93  and Error term is  0.013753247062329934\n",
      "5\n",
      "iteration is  94  and Error term is  0.012466799550028987\n",
      "5\n",
      "iteration is  95  and Error term is  0.01130118470772464\n",
      "5\n",
      "iteration is  96  and Error term is  0.010243195482809192\n",
      "5\n",
      "iteration is  97  and Error term is  0.00928200669248555\n",
      "5\n",
      "iteration is  98  and Error term is  0.008408891896174978\n",
      "5\n",
      "iteration is  99  and Error term is  0.007616004606704308\n"
     ]
    }
   ],
   "source": [
    "State_grid = S2\n",
    "Action_grid = A2\n",
    "Uo = \"U1\"\n",
    "T = np.copy(T2)\n",
    "maxiter = 100\n",
    "tol = 1e-8\n",
    "δ = 1/1.05\n",
    "print_i = True\n",
    "\n",
    "\n",
    "### Initiate vectors & numbers\n",
    "iter = 0\n",
    "epsi = 1\n",
    "N = len(State_grid)\n",
    "Na = len(Action_grid)\n",
    "IndexAction_new = np.zeros(Na)\n",
    "Vp = np.zeros(N)\n",
    "    \n",
    "# Initiate the utility matrix & compute it\n",
    "print(\"Compute Utility Matrix\")\n",
    "utilitymatrix = np.ones((N, Na))\n",
    "if Uo == \"U1\":\n",
    "    for i in range(0,N):\n",
    "        for j in range(0,Na):\n",
    "            utilitymatrix[i,j] = u_f1(State_grid[i], Action_grid[j]) \n",
    "            \n",
    "if Uo == \"U2\":\n",
    "    for i in range(0,N):\n",
    "        for j in range(0,Na):\n",
    "            utilitymatrix[i,j] = u_f2(State_grid[i], Action_grid[j]) \n",
    "\n",
    "            \n",
    "while (epsi > tol) & (iter < maxiter):\n",
    "\n",
    "    Vold = np.copy(Vp)\n",
    "    Vnextall = np.zeros((N, Na))\n",
    "    for jk in range(Na):\n",
    "        beg = N*jk\n",
    "        fin = N*(jk+1)\n",
    "        Tnext = T[:,beg:fin]\n",
    "        vals = np.dot(Tnext, Vp)\n",
    "        Vnextall[:,jk] = vals\n",
    "        \n",
    "    Uall = utilitymatrix + δ * Vnextall\n",
    "    print(np.argmax(Uall[1,:]))\n",
    "    maxArgAction = np.zeros(N)\n",
    "    for i in range(N):\n",
    "        maxArgAction[i] = np.argmax(Uall[i,:])\n",
    "        Vp[i] = np.max(Uall[i,:])\n",
    "    \n",
    "    ### Check the error\n",
    "    epsi = lin.norm(Vp - Vold)\n",
    "\n",
    "    ### Keep track of what is going on\n",
    "    if print_i==True:\n",
    "        print(\"iteration is \", iter, \" and Error term is \", epsi)\n",
    "\n",
    "    IndexAction = np.copy(max_Action)\n",
    "\n",
    "    if epsi < tol:\n",
    "        break\n",
    "\n",
    "    iter=iter+1\n"
   ]
  },
  {
   "cell_type": "code",
   "execution_count": 542,
   "metadata": {},
   "outputs": [
    {
     "data": {
      "text/plain": [
       "array([  0.,   5.,   8.,  10.,  12.,  14.,  16.,  17.,  19.,  20.,  21.,\n",
       "        22.,  23.,  23.,  24.,  25.,  26.,  27.,  28.,  29.,  30.,  31.,\n",
       "        31.,  32.,  32.,  33.,  34.,  35.,  36.,  36.,  37.,  38.,  38.,\n",
       "        39.,  39.,  40.,  40.,  41.,  41.,  42.,  43.,  43.,  44.,  44.,\n",
       "        45.,  45.,  46.,  46.,  47.,  47.,  48.,  48.,  49.,  49.,  50.,\n",
       "        50.,  50.,  51.,  51.,  52.,  52.,  53.,  53.,  54.,  54.,  55.,\n",
       "        55.,  55.,  56.,  56.,  57.,  57.,  58.,  58.,  58.,  59.,  59.,\n",
       "        59.,  60.,  60.,  61.,  61.,  61.,  62.,  62.,  63.,  63.,  63.,\n",
       "        64.,  64.,  64.,  65.,  65.,  65.,  66.,  66.,  67.,  67.,  67.,\n",
       "        67.,  68.,  68.,  69.,  69.,  69.,  70.,  70.,  70.,  71.,  71.,\n",
       "        71.,  71.,  72.,  72.,  72.,  73.,  73.,  74.,  74.,  74.,  74.,\n",
       "        75.,  75.,  75.,  76.,  76.,  76.,  77.,  77.,  77.,  77.,  78.,\n",
       "        78.,  78.,  79.,  79.,  79.,  80.,  80.,  80.,  80.,  81.,  81.,\n",
       "        81.,  81.,  82.,  82.,  82.,  83.,  83.,  83.,  84.,  84.,  84.,\n",
       "        84.,  85.,  85.,  85.,  85.,  86.,  86.,  86.,  87.,  87.,  87.,\n",
       "        87.,  88.,  88.,  88.,  88.,  89.,  89.,  89.,  89.,  90.,  90.,\n",
       "        90.,  91.,  91.,  91.,  91.,  92.,  92.,  92.,  92.,  92.,  93.,\n",
       "        93.,  93.,  93.,  94.,  94.,  94.,  95.,  95.,  95.,  95.,  95.,\n",
       "        96.,  96.,  96.,  96.,  97.,  97.,  97.,  97.,  98.,  98.,  98.,\n",
       "        98.,  99.,  99.,  99.,  99., 100., 100., 100., 100., 100., 101.,\n",
       "       101., 101., 101., 102., 102., 102., 102., 102., 103., 103., 103.,\n",
       "       103., 104., 104., 104., 104., 105., 105., 105., 105., 105., 106.,\n",
       "       106., 106., 106., 107., 107., 107., 107., 107., 108., 108., 108.,\n",
       "       108., 109., 109., 109., 109., 109., 110., 110., 110., 110., 110.,\n",
       "       111., 111., 111., 111., 112., 112., 112., 112., 112., 112., 113.,\n",
       "       113., 113., 113., 114., 114., 114., 114., 114., 114., 115., 115.,\n",
       "       115., 115., 116., 116., 116., 116., 116., 116., 117., 117., 117.,\n",
       "       117., 117., 118., 118., 118., 118., 118., 119., 119., 119., 119.,\n",
       "       120., 120., 120., 120., 120., 120., 121., 121., 121., 121., 121.,\n",
       "       122., 122., 122., 122., 122., 123., 123., 123., 123., 123., 123.,\n",
       "       124., 124., 124., 124., 124., 125., 125., 125., 125., 125., 126.,\n",
       "       126., 126., 126., 126., 126., 127., 127., 127., 127., 127., 128.,\n",
       "       128., 128., 128., 128., 128., 129., 129., 129., 129., 129., 130.,\n",
       "       130., 130., 130., 130., 130., 131., 131., 131., 131., 131., 132.,\n",
       "       132., 132., 132., 132., 132., 133., 133., 133., 133., 133., 133.,\n",
       "       134., 134., 134., 134., 134., 134., 135., 135., 135., 135., 135.,\n",
       "       136., 136., 136., 136., 136., 136., 136., 137., 137., 137., 137.,\n",
       "       137., 138., 138., 138., 138., 138., 138., 138., 139., 139., 139.,\n",
       "       139., 139., 140., 140., 140., 140., 140., 140., 141., 141., 141.,\n",
       "       141., 141., 141., 142., 142., 142., 142., 142., 142., 143., 143.,\n",
       "       143., 143., 143., 143., 143., 144., 144., 144., 144., 144., 144.,\n",
       "       145., 145., 145., 145., 145., 145., 145., 146., 146., 146., 146.,\n",
       "       146., 147., 147., 147., 147., 147., 147., 148., 148., 148., 148.,\n",
       "       148., 148., 148., 149., 149., 149., 149., 149., 149., 150., 150.,\n",
       "       150., 150., 150., 150., 150., 151., 151., 151., 151., 151., 151.,\n",
       "       152., 152., 152., 152., 152., 152.])"
      ]
     },
     "execution_count": 542,
     "metadata": {},
     "output_type": "execute_result"
    }
   ],
   "source": [
    "IndexAction1_v2 = maxArgAction\n",
    "IndexAction1_v2"
   ]
  },
  {
   "cell_type": "code",
   "execution_count": 565,
   "metadata": {},
   "outputs": [
    {
     "name": "stdout",
     "output_type": "stream",
     "text": [
      "diff is  0.0\n",
      "0 1\n",
      "0.0 1.0\n",
      "diff is  1.9000000000000001\n",
      "1 0\n",
      "0.04999999999999993 0.9500000000000001\n",
      "diff is  3.744\n",
      "2 1\n",
      "0.1279999999999999 0.8720000000000001\n",
      "diff is  5.6000000000000005\n",
      "3 2\n",
      "0.19999999999999973 0.8000000000000003\n"
     ]
    }
   ],
   "source": [
    "T_opt1_v2 = np.zeros((N, N))\n",
    "for ik in range(4):\n",
    "    indexes = np.where(T2[ik,int(N*IndexAction1_v2[ik]):int(N*(IndexAction1_v2[ik]+1))] > 0)[0]\n",
    "    index1 = indexes[0]\n",
    "    index2 = indexes[1]\n",
    "    dist1 = S2[ik] - A2[index1]\n",
    "    dist2 = S2[ik] - A2[index2]\n",
    "    #diff = S2[ik] - A2[int(IndexAction1_v2[ik])]\n",
    "    #print(\"diff is \", diff)\n",
    "    #dist = abs(S2 - diff) # How far from the differenre is each element of S2\n",
    "    #index1 = np.where(dist == sorted(dist)[0])[0][0] # Find the index of the closest\n",
    "    #index2 = np.where(dist == sorted(dist)[1])[0][0] # Find the index of the second closest\n",
    "    #print(index1, index2)\n",
    "    weight1 = sorted(dist)[0] / np.sum(sorted(dist)[0:2])\n",
    "    weight2 = sorted(dist)[1] / np.sum(sorted(dist)[0:2])\n",
    "    print(weight1, weight2)\n",
    "    weight1 + weight2 == 1 \n",
    "    T_opt1_v2[ik, index1] = weight1\n",
    "    T_opt1_v2[ik, index2] = weight2 "
   ]
  },
  {
   "cell_type": "code",
   "execution_count": 564,
   "metadata": {},
   "outputs": [
    {
     "data": {
      "text/plain": [
       "array([2, 3])"
      ]
     },
     "execution_count": 564,
     "metadata": {},
     "output_type": "execute_result"
    }
   ],
   "source": [
    "ik = 3\n",
    "np.where(T2[ik,int(N*IndexAction1_v2[ik]):int(N*(IndexAction1_v2[ik]+1))] > 0)[0]"
   ]
  },
  {
   "cell_type": "code",
   "execution_count": 566,
   "metadata": {},
   "outputs": [
    {
     "data": {
      "text/plain": [
       "10.0"
      ]
     },
     "execution_count": 566,
     "metadata": {},
     "output_type": "execute_result"
    }
   ],
   "source": [
    "IndexAction1_v2[ik]"
   ]
  },
  {
   "cell_type": "code",
   "execution_count": 583,
   "metadata": {},
   "outputs": [
    {
     "name": "stdout",
     "output_type": "stream",
     "text": [
      "92.41599999999998\n",
      "84.09999999999998\n",
      "76.17599999999999\n",
      "69.696\n",
      "62.5\n",
      "57.17553599999998\n",
      "51.983999999999995\n",
      "46.65599999999999\n",
      "42.435999999999986\n",
      "38.416\n",
      "34.762229536000014\n",
      "31.684\n",
      "28.89999999999999\n",
      "26.243999999999993\n",
      "23.715999999999994\n",
      "21.650640932416014\n",
      "19.6\n",
      "17.92609987940135\n",
      "15.875999999999996\n",
      "14.420689463828209\n",
      "13.37890496332153\n",
      "12.099999999999998\n",
      "10.815999999999997\n",
      "9.875240046556524\n",
      "8.835999999999999\n",
      "8.099999999999998\n",
      "7.395999999999999\n",
      "6.58835078691318\n",
      "6.084\n",
      "5.5495462587344875\n",
      "5.033588222861683\n",
      "4.34393260829572\n",
      "4.04096840401059\n",
      "3.7857172935146126\n",
      "3.333967338872661\n",
      "2.9602847091800832\n",
      "2.6471149627215267\n",
      "2.3819284821504434\n",
      "2.1548464504548144\n",
      "2.1159999999999997\n",
      "1.9488172294689954\n",
      "1.7806492930915954\n",
      "1.6338616653328937\n",
      "1.5047686668841038\n",
      "1.3395016200624197\n",
      "1.151697802271156\n",
      "1.0756857473212595\n",
      "0.9888917963601029\n",
      "0.8702247807968905\n",
      "0.7682247661544286\n",
      "0.6883293904743679\n",
      "0.6167431338650338\n",
      "0.5562015636441363\n",
      "0.5072558260434523\n",
      "0.4626173133516285\n",
      "0.42190698977668506\n",
      "0.38754659746245734\n",
      "0.3596432424451604\n",
      "0.3337489289891089\n",
      "0.30971900610189307\n",
      "0.28741923766255684\n",
      "0.2667250525508527\n",
      "0.24681425283112396\n",
      "0.22756274111029628\n",
      "0.20981284730369318\n",
      "0.19344744521400511\n",
      "0.17835854448731273\n",
      "0.16444657801730234\n",
      "0.15161974493195274\n",
      "0.13979340482726044\n",
      "0.1288895192507341\n",
      "0.11883613674917688\n",
      "0.10956691808274108\n",
      "0.10102069847228728\n",
      "0.09560325896887747\n",
      "0.0908230960204336\n",
      "0.08628194121941192\n",
      "0.08196784415844131\n",
      "0.07786945195051925\n"
     ]
    },
    {
     "name": "stderr",
     "output_type": "stream",
     "text": [
      "/Applications/anaconda3/lib/python3.7/site-packages/ipykernel_launcher.py:51: RuntimeWarning: divide by zero encountered in true_divide\n"
     ]
    }
   ],
   "source": [
    "# Simulate\n",
    "St1_v2 = 1000*np.ones(80)\n",
    "C1_v2 = np.zeros(80)\n",
    "for i in range(80-1):\n",
    "    #init_index1 = np.where(S2==St1_v2[i])[0][0]\n",
    "    init = St1_v2[i]\n",
    "    # Find closest states\n",
    "    dist = abs(S2 - init)\n",
    "    tokeep = sorted(dist)[0:2]\n",
    "    index1 = np.where(dist == tokeep[0])[0][0]\n",
    "    index2 = np.where(dist == tokeep[1])[0][0]  \n",
    "    weight1 = 1 - tokeep[0] / np.sum(tokeep[0:2])\n",
    "    weight2 = 1 - tokeep[1] / np.sum(tokeep[0:2])\n",
    "    weight1 + weight2 == 1\n",
    "    C1_v2[i] = A2[int(IndexAction1_v2[index1])]*weight1 + A2[int(IndexAction1_v2[index2])]*weight2\n",
    "    St1_v2[i+1] = St1_v2[i] - C1_v2[i]\n",
    "    print(C1_v2[i])\n",
    "p1_v2 = p1_f(C1_v2)"
   ]
  },
  {
   "cell_type": "code",
   "execution_count": 585,
   "metadata": {},
   "outputs": [
    {
     "data": {
      "text/plain": [
       "147.0"
      ]
     },
     "execution_count": 585,
     "metadata": {},
     "output_type": "execute_result"
    }
   ],
   "source": [
    "IndexAction1_v2[467]"
   ]
  },
  {
   "cell_type": "code",
   "execution_count": 549,
   "metadata": {},
   "outputs": [
    {
     "data": {
      "text/plain": [
       "array([3.92040000e+01, 3.84160000e+01, 3.76360000e+01, 3.68640000e+01,\n",
       "       3.61000000e+01, 3.53440000e+01, 3.45960000e+01, 3.38560000e+01,\n",
       "       3.31240000e+01, 3.24000000e+01, 3.16840000e+01, 3.09760000e+01,\n",
       "       3.02760000e+01, 2.89000000e+01, 2.82240000e+01, 2.75560000e+01,\n",
       "       2.68960000e+01, 2.56000000e+01, 2.49640000e+01, 2.43360000e+01,\n",
       "       2.37160000e+01, 2.25000000e+01, 2.19040000e+01, 2.13160000e+01,\n",
       "       2.06250320e+01, 1.98783250e+01, 1.90440000e+01, 1.79734536e+01,\n",
       "       1.74240000e+01, 1.63840000e+01, 1.58760000e+01, 1.48840000e+01,\n",
       "       1.44000000e+01, 1.32543336e+01, 1.25148860e+01, 1.19591654e+01,\n",
       "       1.11089089e+01, 1.00577509e+01, 9.26026005e+00, 8.27615499e+00,\n",
       "       7.86712786e+00, 6.86088388e+00, 6.08400000e+00, 5.45843880e+00,\n",
       "       4.20721766e+00, 3.41537473e+00, 2.35081387e+00, 1.97630855e+00,\n",
       "       1.33991004e+00, 6.54096110e-01, 2.76028558e-01, 1.16484052e-01,\n",
       "       4.91562698e-02, 2.07439459e-02, 8.75394515e-03, 3.69416485e-03,\n",
       "       1.55893757e-03, 6.57871654e-04, 2.77621838e-04, 1.17156416e-04,\n",
       "       4.94400074e-05, 2.08636831e-05, 8.80447428e-06, 3.71548814e-06,\n",
       "       1.56793600e-06, 6.61668991e-07, 2.79224314e-07, 1.17832661e-07,\n",
       "       4.97253827e-08, 2.09841115e-08, 8.85529506e-09, 3.73693446e-09,\n",
       "       1.57698629e-09, 6.65488330e-10, 2.80836075e-10, 1.18512726e-10,\n",
       "       5.00123538e-11, 2.11052926e-11, 8.90640628e-12, 0.00000000e+00])"
      ]
     },
     "execution_count": 549,
     "metadata": {},
     "output_type": "execute_result"
    }
   ],
   "source": [
    "C1_v2"
   ]
  },
  {
   "cell_type": "code",
   "execution_count": null,
   "metadata": {},
   "outputs": [],
   "source": []
  }
 ],
 "metadata": {
  "kernelspec": {
   "display_name": "Python 3",
   "language": "python",
   "name": "python3"
  },
  "language_info": {
   "codemirror_mode": {
    "name": "ipython",
    "version": 3
   },
   "file_extension": ".py",
   "mimetype": "text/x-python",
   "name": "python",
   "nbconvert_exporter": "python",
   "pygments_lexer": "ipython3",
   "version": "3.7.4"
  }
 },
 "nbformat": 4,
 "nbformat_minor": 2
}

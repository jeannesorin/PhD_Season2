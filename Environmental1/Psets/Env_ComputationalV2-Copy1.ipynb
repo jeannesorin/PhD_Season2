{
 "cells": [
  {
   "cell_type": "code",
   "execution_count": 2,
   "metadata": {},
   "outputs": [],
   "source": [
    "import numpy as np\n",
    "from matplotlib import pyplot as plt\n",
    "from scipy.sparse import csr_matrix\n",
    "import time\n",
    "from scipy import sparse"
   ]
  },
  {
   "cell_type": "markdown",
   "metadata": {},
   "source": [
    "# Questions 1 & 2\n",
    "## Question 1: Solving the DDP by value function iteration ; discrete state space"
   ]
  },
  {
   "cell_type": "code",
   "execution_count": 371,
   "metadata": {},
   "outputs": [],
   "source": [
    "# Define primitives\n",
    "def u_f1(S,y):\n",
    "    '''Utility function version 1'''\n",
    "    U = 2*y**0.5\n",
    "    if y > S:\n",
    "        U = -100000000\n",
    "    return U\n",
    "\n",
    "def u_f2(S,y):\n",
    "    '''Utility function version 2'''\n",
    "    U = 5*y - 0.05*y**2\n",
    "    if y > S:\n",
    "        U = -100000000\n",
    "    return U\n",
    "\n",
    "def Bellman_simple(Vp, ik, jk, utilitymatrix):\n",
    "    Value = utilitymatrix[ik, jk] + δ * Vp[ik-jk]\n",
    "    return(Value)\n",
    "\n",
    "def Bellman_interp(Vp, ik, jk, utilitymatrix, T):\n",
    "    ''' \n",
    "    Bellman : value function for state variable Kgrid[ik] with policy Kgrid[jk]\n",
    "    Given utility matrix computed before (to reduce computational burden)\n",
    "    ''' \n",
    "    N = len(T)\n",
    "    beg = N*jk\n",
    "    fin = N*(jk+1)\n",
    "    subT = T[ik, beg:fin] # get the index of the new state by subsetting in the transition matrix\n",
    "    state_new = np.where(subT > 0)[0]\n",
    "    if \n",
    "    state_new1 = state_new[0]\n",
    "    state_new2 = state_new[1]\n",
    "    weight1 = subT[state_new1]\n",
    "    weight2 = subT[state_new2]\n",
    "    Vnext = Vp[state_new1]*weight1 + Vp[state_new2]*weight2\n",
    "    \n",
    "    Value = utilitymatrix[ik, jk]  + δ * Vnext\n",
    "    return (Value)\n",
    "\n",
    "def g_hat(Kgrid, jk): return(Kgrid[jk]) #policy function\n",
    "\n",
    "# Price functions = derivatives of utility functions wrt extraction (MU)\n",
    "def p1_f(C1):\n",
    "    return (1/(C1**0.5))\n",
    "\n",
    "def p2_f(C2):\n",
    "    return (5 - 0.1*C2)"
   ]
  },
  {
   "cell_type": "code",
   "execution_count": 366,
   "metadata": {},
   "outputs": [],
   "source": [
    "utilitymatrix = np.ones((N, Na))\n",
    "for i in range(0, N):\n",
    "    for j in range(0, Na):\n",
    "        utilitymatrix[i,j] = u_f1(S2[i], A2[j])\n",
    "        \n",
    "T = T_f(S2, A2, interp=True)"
   ]
  },
  {
   "cell_type": "code",
   "execution_count": 372,
   "metadata": {},
   "outputs": [],
   "source": [
    "def T_f(S, A, interp=True):\n",
    "    \n",
    "    # Initialize\n",
    "    N = len(S)\n",
    "    Na = len(A)\n",
    "    T = np.zeros((N, N*Na))\n",
    "\n",
    "    # For each action indexed k, and each initial state i, compute resulting state j\n",
    "    '''\n",
    "    if interp==False:\n",
    "        for i in range(N):\n",
    "            for k in range(Na):\n",
    "                next = max(S[i] - A[k], 0.0)\n",
    "                j_raw = np.where(S == next)[0]\n",
    "                j_adj = j_raw + N*k\n",
    "                T[i, j_adj] = 1\n",
    "    '''\n",
    "    \n",
    "    if interp==True:\n",
    "        for i in range(N):\n",
    "            print(i)\n",
    "            for k in range(Na):\n",
    "                diff = S[i] - A[k]\n",
    "                if diff < 0:\n",
    "                    index1_raw = 0\n",
    "                    index1_adj = index1_raw + (N)*k\n",
    "                    T[i, index1_adj] = 1.0\n",
    "                if diff >= 0:\n",
    "                    dist = S - diff # How far from the difference is each element of S\n",
    "                    index1_raw = np.where(dist == sorted(dist > 0)[0])[0][0] # Find the index of the closest\n",
    "                    index2_raw = np.where(dist == sorted(dist)[1])[0][0] # Find the index of the second closest\n",
    "                    weight1 = 1 - sorted(dist)[0] / np.sum(sorted(dist)[0:2])\n",
    "                    weight2 = 1 - sorted(dist)[1] / np.sum(sorted(dist)[0:2])\n",
    "                    index1_adj = index1_raw + (N)*k\n",
    "                    index2_adj = index2_raw + (N)*k\n",
    "                    T[i, index1_adj] = weight1\n",
    "                    T[i, index2_adj] = weight2\n",
    "                '''\n",
    "                next = max(S[i] - A[k], 0.0)\n",
    "                diff = S[i] - A[k]\n",
    "                dist = abs(S - diff) # How far from the difference is each element of S\n",
    "                index1_raw = np.where(dist == sorted(dist)[0])[0][0] # Find the index of the closest\n",
    "                index2_raw = np.where(dist == sorted(dist)[1])[0][0] # Find the index of the second closest\n",
    "                weight1 = 1 - sorted(dist)[0] / np.sum(sorted(dist)[0:2])\n",
    "                weight2 = 1 - sorted(dist)[1] / np.sum(sorted(dist)[0:2])\n",
    "                index1_adj = index1_raw + (N)*k\n",
    "                index2_adj = index2_raw + (N)*k\n",
    "                T[i, index1_adj] = weight1\n",
    "                T[i, index2_adj] = weight2\n",
    "                '''\n",
    "    return(T)\n"
   ]
  },
  {
   "cell_type": "code",
   "execution_count": null,
   "metadata": {},
   "outputs": [],
   "source": [
    "def VFI(State_grid, Action_grid, V0, maxiter, tol, Uo, δ=0.9, howard=True, print_i=True, interp=False):\n",
    "\n",
    "    ### Initiate vectors & numbers\n",
    "    iter = 0\n",
    "    epsi = 1\n",
    "    Kp_new = np.zeros(len(Action_grid))\n",
    "    Vp_new = np.zeros(len(State_grid))\n",
    "    gk = np.zeros(len(Action_grid))\n",
    "    Vp = V0\n",
    "    N = len(State_grid)\n",
    "    Na = len(Action_grid)\n",
    "    \n",
    "    # Initiate the utility matrix & compute it\n",
    "    utilitymatrix = np.ones((N, Na))\n",
    "    if Uo == \"U1\":\n",
    "        for i in range(0,N):\n",
    "            for j in range(0,Na):\n",
    "                utilitymatrix[i,j] = u_f1(S[i], A[j]) \n",
    "    if Uo == \"U2\":\n",
    "        for i in range(0,N):\n",
    "            for j in range(0,Na):\n",
    "                utilitymatrix[i,j] = u_f2(S[i], A[j]) \n",
    "\n",
    "    while (epsi > tol) & (iter < maxiter):\n",
    "        for ik in range(N):\n",
    "            # ik = index of the stock today\n",
    "            # d = max extraction < current stock\n",
    "            #d = int(gk[max(ik-1), 0])\n",
    "            d = 0\n",
    "\n",
    "            #Value function Tj for each choice g(k)\n",
    "            Tj = np.zeros(len(Kgrid)-d)\n",
    "\n",
    "            # Compute the value function Tj for each choice of g(k)\n",
    "            for jk in range(d, len(Kgrid)):\n",
    "                Tj[jk - d] = Bellman(Kgrid, Vp, ik, jk, utilitymatrix)\n",
    "\n",
    "            # Choose the maximum\n",
    "            Vp_new[ik] = np.max(Tj)\n",
    "            Kp_new[ik] = d + int(np.where(Tj==max(Tj))[0])\n",
    "\n",
    "        if howard==\"True\":\n",
    "            for c in range(100):\n",
    "                for ik in range(len(Kgrid)):\n",
    "                    jk = int(Kp_new[ik])\n",
    "                    Vp_new[ik] = Bellman(Kgrid, Vp_new, ik, jk, utilitymatrix)\n",
    "\n",
    "\n",
    "        ### Check the error\n",
    "        epsi = np.abs(Vp_new - Vp).max()\n",
    "\n",
    "        ### Keep track of what is going on\n",
    "        print(\"iteration is \", iter, \" and Error term is \", epsi)\n",
    "        Kp = Kp_new*1. #Update\n",
    "        Vp = Vp_new*1. #Update\n",
    "        \n",
    "        if epsi < tol:\n",
    "            break\n",
    "\n",
    "        iter=iter+1\n",
    "\n",
    "    #Calculate Values for g(k)\n",
    "    for jk in range(len(Kgrid)):\n",
    "        gk[jk] = Kgrid[int(Kp[jk])]\n",
    "        \n",
    "    # Calculate the N*N optimal transition matrix T_opt that gives the state transition proba under optimal action\n",
    "    return[Vp, gk, Kp, iter]"
   ]
  },
  {
   "cell_type": "code",
   "execution_count": 373,
   "metadata": {},
   "outputs": [],
   "source": [
    "### Parameters\n",
    "r = 0.05\n",
    "δ = 1/(1+r)\n",
    "Stot = 1000\n",
    "\n",
    "N = 501\n",
    "Na = 501\n",
    "S = np.linspace(0,1000,N)\n",
    "A = np.linspace(0,1000,Na)\n",
    "V0 = np.zeros(N)"
   ]
  },
  {
   "cell_type": "markdown",
   "metadata": {},
   "source": [
    "### Solve the model and find the N*N optimal transion matrix $T_{opt}$"
   ]
  },
  {
   "cell_type": "code",
   "execution_count": 382,
   "metadata": {},
   "outputs": [
    {
     "name": "stdout",
     "output_type": "stream",
     "text": [
      "Compute the Utility matrix\n",
      "start iterations\n",
      "iteration is  0\n",
      " and Error term is  63.245553203367585\n",
      "iteration is  1\n",
      " and Error term is  67.83583420949506\n",
      "iteration is  2\n",
      " and Error term is  51.947702269407074\n",
      "iteration is  3\n",
      " and Error term is  18.264705133712255\n",
      "iteration is  4\n",
      " and Error term is  5.266899929960374\n",
      "iteration is  5\n",
      " and Error term is  1.3563807400215637\n",
      "iteration is  6\n",
      " and Error term is  0.9390429934964644\n",
      "iteration is  7\n",
      " and Error term is  0.8385374759369313\n",
      "iteration is  8\n",
      " and Error term is  0.7428179354040374\n",
      "iteration is  9\n",
      " and Error term is  0.6516564682298558\n",
      "iteration is  10\n",
      " and Error term is  0.5648360233020604\n",
      "iteration is  11\n",
      " and Error term is  0.48214988527558944\n",
      "iteration is  12\n",
      " and Error term is  0.40340118239323886\n",
      "iteration is  13\n",
      " and Error term is  0.32840241774337997\n",
      "iteration is  14\n",
      " and Error term is  0.25697502283875195\n",
      "iteration is  15\n",
      " and Error term is  0.1889489324533855\n",
      "iteration is  16\n",
      " and Error term is  0.12416217970542931\n",
      "iteration is  17\n",
      " and Error term is  0.06246051042165135\n",
      "iteration is  18\n",
      " and Error term is  0.003697015865682829\n",
      "iteration is  19\n",
      " and Error term is  0.0008347240189436889\n",
      "iteration is  20\n",
      " and Error term is  0.0004059654958439296\n",
      "iteration is  21\n",
      " and Error term is  0.00026733535338507863\n",
      "iteration is  22\n",
      " and Error term is  0.0\n",
      "Compute the Utility matrix\n",
      "start iterations\n",
      "iteration is  0\n",
      " and Error term is  1635.6651074583722\n",
      "iteration is  1\n",
      " and Error term is  208.025592468779\n",
      "iteration is  2\n",
      " and Error term is  36.437680625522376\n",
      "iteration is  3\n",
      " and Error term is  13.085736681310664\n",
      "iteration is  4\n",
      " and Error term is  5.634510664928598\n",
      "iteration is  5\n",
      " and Error term is  2.2794231985540137\n",
      "iteration is  6\n",
      " and Error term is  1.5471657861837684\n",
      "iteration is  7\n",
      " and Error term is  0.9191673692669156\n",
      "iteration is  8\n",
      " and Error term is  0.4790524615616505\n",
      "iteration is  9\n",
      " and Error term is  0.2825828744196315\n",
      "iteration is  10\n",
      " and Error term is  0.15195017795076637\n",
      "iteration is  11\n",
      " and Error term is  0.08571428571417528\n",
      "iteration is  12\n",
      " and Error term is  0.04191494869678536\n",
      "iteration is  13\n",
      " and Error term is  0.014344539998091932\n",
      "iteration is  14\n",
      " and Error term is  0.0\n"
     ]
    }
   ],
   "source": [
    "### Utility 1\n",
    "[Vp1, IndexAction1, Action1, iter1] = VFI(S, A, V0, Uo = \"U1\", print_i=\"True\", interp=False)\n",
    "\n",
    "# Calculate the N*N optimal transition matrix\n",
    "T_opt1 = np.zeros((N, N))\n",
    "for ik in range(N):\n",
    "    ij = np.where(S == S[ik] - Action1[ik])[0][0]\n",
    "    T_opt1[ik, ij] = 1  \n",
    "\n",
    "\n",
    "    ### Utility 2\n",
    "[Vp2, IndexAction2, Action2, iter2] = VFI(S, A, V0, Uo = \"U2\", print_i=\"True\", interp=False)\n",
    "\n",
    "# Calculate the N*N optimal transition matrix\n",
    "T_opt2 = np.zeros((N, N))\n",
    "for ik in range(N):\n",
    "    ij = np.where(S == S[ik] - Action2[ik])[0][0]\n",
    "    T_opt2[ik, ij] = 1  \n"
   ]
  },
  {
   "cell_type": "code",
   "execution_count": 381,
   "metadata": {},
   "outputs": [
    {
     "data": {
      "text/plain": [
       "array([  0.        ,   2.82842712,   5.52216724,   8.08763402,\n",
       "        10.53093572,  12.85788971,  15.07403638,  17.18465224,\n",
       "        19.1947626 ,  21.10915341,  22.93238275,  24.66879165,\n",
       "        26.32251441,  27.89748847,  29.39746376,  30.82601166,\n",
       "        32.18653347,  33.48226852,  34.71630191,  35.8915718 ,\n",
       "        37.06314467,  38.18244933,  39.29823302,  40.36423746,\n",
       "        41.42688859,  42.44213091,  43.45417961,  44.42107706,\n",
       "        45.38493296,  46.30578768,  47.22374568,  48.12272516,\n",
       "        48.99972965,  49.87397537,  50.73014631,  51.56538868,\n",
       "        52.39800365,  53.21340454,  54.00887347,  54.8018401 ,\n",
       "        55.57841238,  56.33628715,  57.0938766 ,  57.84908292,\n",
       "        58.58867557,  59.31046106,  60.03197482,  60.75121893,\n",
       "        61.45559288,  62.14300764,  62.8301636 ,  63.515158  ,\n",
       "        64.18599033,  64.8536914 ,  65.50837212,  66.16280637,\n",
       "        66.81518198,  67.45406992,  68.0899757 ,  68.71348115,\n",
       "        69.33675186,  69.95806197,  70.56652667,  71.17215123,\n",
       "        71.77579914,  72.36961385,  72.963205  ,  73.55492892,\n",
       "        74.13441911,  74.7112044 ,  75.28610717,  75.85164499,\n",
       "        76.4169699 ,  76.98051648,  77.53562803,  78.08752345,\n",
       "        78.63684277,  79.18436922,  79.72297667,  80.26138134,\n",
       "        80.79809238,  81.32677004,  81.85238472,  82.37554599,\n",
       "        82.89699975,  83.41368497,  83.92664444,  84.4394108 ,\n",
       "        84.95056417,  85.4540667 ,  85.95465212,  86.45290094,\n",
       "        86.94952357,  87.44160474,  87.93013757,  88.41848648,\n",
       "        88.90529921,  89.39058058,  89.87010681,  90.34685482,\n",
       "        90.82137751,  91.29435144,  91.76300017,  92.22826953,\n",
       "        92.69336374,  93.15699491,  93.61916764,  94.07815818,\n",
       "        94.53484982,  94.98889555,  95.44082192,  95.89127328,\n",
       "        96.33760541,  96.78071908,  97.22366595,  97.66521944,\n",
       "        98.10538395,  98.5425178 ,  98.97907741,  99.41402182,\n",
       "        99.84644633, 100.27685239, 100.70585369, 101.13093191,\n",
       "       101.55294493, 101.97479909, 102.39532622, 102.81453052,\n",
       "       103.23165797, 103.64797592, 104.06374698, 104.47797976,\n",
       "       104.88981262, 105.29972315, 105.70829582, 106.11313221,\n",
       "       106.51504938, 106.91681524, 107.31731728, 107.71739734,\n",
       "       108.11663952, 108.51390376, 108.91039705, 109.30636948,\n",
       "       109.70087689, 110.09309866, 110.48348965, 110.87260647,\n",
       "       111.25816495, 111.64313116, 112.02590942, 112.40854357,\n",
       "       112.78997408, 113.17100271, 113.55123336, 113.92958026,\n",
       "       114.30719291, 114.68430951, 115.06003085, 115.4335754 ,\n",
       "       115.80537634, 116.17682225, 116.5474097 , 116.91460824,\n",
       "       117.28124273, 117.64579345, 118.01020693, 118.37347409,\n",
       "       118.73635849, 119.09848292, 119.4588133 , 119.81844439,\n",
       "       120.17770174, 120.53686041, 120.89469026, 121.25044697,\n",
       "       121.60454311, 121.95830111, 122.31124154, 122.66095444,\n",
       "       123.01013015, 123.35832544, 123.7055166 , 124.05257706,\n",
       "       124.39854578, 124.74414997, 125.08903038, 125.43220217,\n",
       "       125.77470797, 126.11685783, 126.45891371, 126.79970404,\n",
       "       127.13851996, 127.47661617, 127.81385058, 128.15076297,\n",
       "       128.48689671, 128.81995661, 129.15250491, 129.48411947,\n",
       "       129.81477772, 130.14531148, 130.4748055 , 130.80395235,\n",
       "       131.13278036, 131.4612379 , 131.78806817, 132.11426417,\n",
       "       132.44012118, 132.76588868, 133.0904509 , 133.41313273,\n",
       "       133.73512912, 134.05630475, 134.37717369, 134.69745632,\n",
       "       135.0175837 , 135.33478361, 135.65149626, 135.96731966,\n",
       "       136.28223228, 136.59702634, 136.91083017, 137.22430336,\n",
       "       137.53747289, 137.85028959, 138.16266034, 138.47392727,\n",
       "       138.78459013, 139.09493014, 139.4051849 , 139.71429178,\n",
       "       140.0216078 , 140.32827103, 140.63415259, 140.93974205,\n",
       "       141.24477313, 141.5497909 , 141.85467411, 142.15676926,\n",
       "       142.45840037, 142.75918455, 143.05910133, 143.3589052 ,\n",
       "       143.65776599, 143.95631188, 144.25456858, 144.55272938,\n",
       "       144.85065005, 145.14814601, 145.4445907 , 145.74046009,\n",
       "       146.036022  , 146.33150273, 146.62589023, 146.91857216,\n",
       "       147.21063238, 147.50237887, 147.79369464, 148.08473222,\n",
       "       148.37523801, 148.66573112, 148.95609609, 149.24380576,\n",
       "       149.53107348, 149.8175346 , 150.10326377, 150.38889879,\n",
       "       150.67442629, 150.95905561, 151.24338504, 151.52743903,\n",
       "       151.8114017 , 152.09513567, 152.37846516, 152.66079343,\n",
       "       152.94257381, 153.22406134, 153.50547156, 153.78584061,\n",
       "       154.06591009, 154.34465478, 154.62280737, 154.90066117,\n",
       "       155.17810476, 155.45528341, 155.73195559, 156.0086157 ,\n",
       "       156.28515376, 156.55988711, 156.83389632, 157.10748462,\n",
       "       157.38030475, 157.65242776, 157.92446112, 158.19639207,\n",
       "       158.46746761, 158.73825754, 159.00878515, 159.27922579,\n",
       "       159.54944862, 159.81928622, 160.08897731, 160.35786139,\n",
       "       160.62622365, 160.89430701, 161.16231674, 161.42933489,\n",
       "       161.69606772, 161.96153886, 162.22645552, 162.49136275,\n",
       "       162.75598542, 163.02021741, 163.28419708, 163.54769439,\n",
       "       163.81118021, 164.07454979, 164.33620061, 164.59716176,\n",
       "       164.85772204, 165.11810922, 165.3779379 , 165.63710268,\n",
       "       165.89618207, 166.15516392, 166.41333111, 166.67122628,\n",
       "       166.92887163, 167.18643414, 167.44378921, 167.70077741,\n",
       "       167.95762607, 168.21370843, 168.4697885 , 168.7253716 ,\n",
       "       168.98068909, 169.23593646, 169.49023945, 169.74427072,\n",
       "       169.99710037, 170.24940196, 170.50169456, 170.75371615,\n",
       "       171.0057004 , 171.25734991, 171.50875912, 171.75970895,\n",
       "       172.01064782, 172.26147599, 172.51066724, 172.75920167,\n",
       "       173.00735433, 173.25543114, 173.50341892, 173.75087481,\n",
       "       173.99769841, 174.24444068, 174.49109007, 174.73696358,\n",
       "       174.98257803, 175.22795455, 175.47325218, 175.71835225,\n",
       "       175.96310291, 176.20772068, 176.45206637, 176.69595434,\n",
       "       176.93984012, 177.1832526 , 177.42641212, 177.66950484,\n",
       "       177.91169817, 178.15363272, 178.39442286, 178.63520089,\n",
       "       178.87548811, 179.11576678, 179.35578734, 179.59577234,\n",
       "       179.83543854, 180.07487589, 180.31387572, 180.55286512,\n",
       "       180.79174909, 181.02911131, 181.26643631, 181.50313577,\n",
       "       181.73947163, 181.97573526, 182.2119141 , 182.44758638,\n",
       "       182.68265647, 182.91764911, 183.15255329, 183.38671854,\n",
       "       183.62080632, 183.85472485, 184.08841677, 184.32203356,\n",
       "       184.5554622 , 184.78855807, 185.02152737, 185.25423756,\n",
       "       185.48651181, 185.71878398, 185.95060539, 186.18218588,\n",
       "       186.41370277, 186.64464801, 186.87530832, 187.10572217,\n",
       "       187.33504612, 187.56435852, 187.7932035 , 188.02204032,\n",
       "       188.25063134, 188.47918848, 188.707442  , 188.93547757,\n",
       "       189.16340353, 189.39102242, 189.61863137, 189.84613992,\n",
       "       190.07219917, 190.29822298, 190.52365104, 190.74873281,\n",
       "       190.9737549 , 191.19876788, 191.42370011, 191.6481499 ,\n",
       "       191.87202617, 192.09582869, 192.31954696, 192.54256148,\n",
       "       192.76550222, 192.98828177, 193.21084551, 193.43333769,\n",
       "       193.65565068, 193.87787713, 194.0998732 , 194.32174873,\n",
       "       194.54337747, 194.76459105, 194.98580264, 195.20658494,\n",
       "       195.42713778, 195.64763005, 195.8675779 , 196.08725439,\n",
       "       196.30678689, 196.52622866, 196.74463241, 196.96302518,\n",
       "       197.18097278, 197.39891261, 197.61661834, 197.83429181,\n",
       "       198.05167612, 198.26885285, 198.48592519, 198.7028594 ,\n",
       "       198.91963929, 199.13640972, 199.35308453, 199.56837906,\n",
       "       199.78363983, 199.99833322, 200.21275926, 200.42712286,\n",
       "       200.64142961, 200.85572768, 201.06994886, 201.28371056,\n",
       "       201.49692606, 201.71007132, 201.92313633, 202.13553111,\n",
       "       202.34785563, 202.56002663, 202.77202955, 202.98399501,\n",
       "       203.19589233, 203.40761899, 203.61926323, 203.83068806,\n",
       "       204.04199808, 204.25307308, 204.46375267, 204.67443038,\n",
       "       204.88469923, 205.09474956, 205.3047422 , 205.51440233,\n",
       "       205.72387647, 205.93309218, 206.14217075, 206.35116291,\n",
       "       206.55916649])"
      ]
     },
     "execution_count": 381,
     "metadata": {},
     "output_type": "execute_result"
    }
   ],
   "source": [
    "Vp1"
   ]
  },
  {
   "cell_type": "markdown",
   "metadata": {},
   "source": [
    "### Simulate the model for t = 80 periods, $S_0 = 100$"
   ]
  },
  {
   "cell_type": "code",
   "execution_count": 270,
   "metadata": {},
   "outputs": [
    {
     "name": "stderr",
     "output_type": "stream",
     "text": [
      "/Applications/anaconda3/lib/python3.7/site-packages/ipykernel_launcher.py:43: RuntimeWarning: divide by zero encountered in true_divide\n"
     ]
    }
   ],
   "source": [
    "# St = each period's stock\n",
    "# C = each period's extraction\n",
    "\n",
    "## Simulate 1\n",
    "St1 = 1000*np.ones(80)\n",
    "C1 = np.zeros(80)\n",
    "for i in range(80-1):\n",
    "    init_index1 = np.where(S==St1[i])[0][0]\n",
    "    C1[i] = Action1[init_index1]\n",
    "    final_index1 = np.where(T_opt1[init_index1,]==1)[0][0]\n",
    "    St1[i+1] = S[final_index1]\n",
    "p1 = p1_f(C1)\n",
    "\n",
    "## Simulate 2\n",
    "St2 = 1000*np.ones(80)\n",
    "C2 = np.zeros(80)\n",
    "for i in range(80-1):\n",
    "    init_index2 = np.where(S==St2[i])[0][0]\n",
    "    C2[i] = Action2[init_index2]\n",
    "    final_index2 = np.where(T_opt2[init_index2,]==1)[0][0]\n",
    "    St2[i+1] = S[final_index2]\n",
    "    \n",
    "p2 = p2_f(C2)\n"
   ]
  },
  {
   "cell_type": "code",
   "execution_count": 272,
   "metadata": {},
   "outputs": [
    {
     "data": {
      "image/png": "[encoded data removed]",
      "text/plain": [
       "<Figure size 432x288 with 1 Axes>"
      ]
     },
     "metadata": {
      "needs_background": "light"
     },
     "output_type": "display_data"
    },
    {
     "data": {
      "image/png": "[encoded data removed]",
      "text/plain": [
       "<Figure size 432x288 with 1 Axes>"
      ]
     },
     "metadata": {
      "needs_background": "light"
     },
     "output_type": "display_data"
    },
    {
     "data": {
      "image/png": "[encoded data removed]",
      "text/plain": [
       "<Figure size 432x288 with 1 Axes>"
      ]
     },
     "metadata": {
      "needs_background": "light"
     },
     "output_type": "display_data"
    }
   ],
   "source": [
    "plt.plot(range(0,80), C1, color=\"red\", label=\"Utility 1\")\n",
    "plt.plot(range(0,80), C2, color=\"blue\", label=\"Utility 2\")\n",
    "plt.xlabel(\"time\")\n",
    "plt.ylabel(\"Extraction\")\n",
    "plt.legend()\n",
    "plt.show()\n",
    "\n",
    "plt.plot(range(0,80), St1, color=\"red\", label=\"Utility 1\")\n",
    "plt.plot(range(0,80), St2, color=\"blue\", label=\"Utility 2\")\n",
    "plt.xlabel(\"time\")\n",
    "plt.ylabel(\"Value Function\")\n",
    "plt.legend()\n",
    "plt.show()\n",
    "\n",
    "# For printing purposes\n",
    "plt.plot(range(0,80), p1, color=\"red\", label=\"Utility 1 (for < inf)\")\n",
    "plt.plot(range(0,80), p2, color=\"blue\", label=\"Utility 2\")\n",
    "plt.xlabel(\"time\")\n",
    "plt.ylabel(\"Price\")\n",
    "plt.legend()\n",
    "plt.show()"
   ]
  },
  {
   "cell_type": "markdown",
   "metadata": {},
   "source": [
    "## Question 2: Interpolating Between the States"
   ]
  },
  {
   "cell_type": "code",
   "execution_count": 35,
   "metadata": {
    "scrolled": true
   },
   "outputs": [
    {
     "data": {
      "text/plain": [
       "[<matplotlib.lines.Line2D at 0x7fbe71d6c1d0>]"
      ]
     },
     "execution_count": 35,
     "metadata": {},
     "output_type": "execute_result"
    },
    {
     "data": {
      "image/png": "[encoded data removed]",
      "text/plain": [
       "<Figure size 432x288 with 1 Axes>"
      ]
     },
     "metadata": {
      "needs_background": "light"
     },
     "output_type": "display_data"
    }
   ],
   "source": [
    "N2 = 501\n",
    "Na2 = 501\n",
    "S2 = np.linspace(0,1000,N2)\n",
    "A2 = np.linspace(0,(1000**0.5),Na2)**2\n",
    "plt.plot(range(501), A2)"
   ]
  },
  {
   "cell_type": "code",
   "execution_count": 374,
   "metadata": {},
   "outputs": [
    {
     "name": "stdout",
     "output_type": "stream",
     "text": [
      "Compute the Transition matrix\n",
      "Compute the Utility matrix\n",
      "start iterations\n",
      "WIP\n"
     ]
    },
    {
     "ename": "TypeError",
     "evalue": "only size-1 arrays can be converted to Python scalars",
     "output_type": "error",
     "traceback": [
      "\u001b[0;31m---------------------------------------------------------------------------\u001b[0m",
      "\u001b[0;31mTypeError\u001b[0m                                 Traceback (most recent call last)",
      "\u001b[0;32m<ipython-input-374-9664ebe7e880>\u001b[0m in \u001b[0;36m<module>\u001b[0;34m\u001b[0m\n\u001b[0;32m----> 1\u001b[0;31m \u001b[0;34m[\u001b[0m\u001b[0mVp1_v2\u001b[0m\u001b[0;34m,\u001b[0m \u001b[0mIndexAction1_v2\u001b[0m\u001b[0;34m,\u001b[0m \u001b[0mAction1_v2\u001b[0m\u001b[0;34m,\u001b[0m \u001b[0miter1_v2\u001b[0m\u001b[0;34m]\u001b[0m \u001b[0;34m=\u001b[0m \u001b[0mVFI\u001b[0m\u001b[0;34m(\u001b[0m\u001b[0mS2\u001b[0m\u001b[0;34m,\u001b[0m \u001b[0mA2\u001b[0m\u001b[0;34m,\u001b[0m \u001b[0mV0\u001b[0m\u001b[0;34m,\u001b[0m \u001b[0mUo\u001b[0m \u001b[0;34m=\u001b[0m \u001b[0;34m\"U1\"\u001b[0m\u001b[0;34m,\u001b[0m \u001b[0mprint_i\u001b[0m\u001b[0;34m=\u001b[0m\u001b[0;32mTrue\u001b[0m\u001b[0;34m,\u001b[0m \u001b[0minterp\u001b[0m\u001b[0;34m=\u001b[0m\u001b[0;32mTrue\u001b[0m\u001b[0;34m)\u001b[0m\u001b[0;34m\u001b[0m\u001b[0;34m\u001b[0m\u001b[0m\n\u001b[0m",
      "\u001b[0;32m<ipython-input-266-1e0137100a6e>\u001b[0m in \u001b[0;36mVFI\u001b[0;34m(Kgrid_state, Kgrid_action, V0, maxiter, tol, Uo, δ, howard, print_i, interp)\u001b[0m\n\u001b[1;32m     62\u001b[0m             \u001b[0;31m# Choose the maximum value function, and recover the corresponding jk index = index of policy function\u001b[0m\u001b[0;34m\u001b[0m\u001b[0;34m\u001b[0m\u001b[0;34m\u001b[0m\u001b[0m\n\u001b[1;32m     63\u001b[0m             \u001b[0mVp_new\u001b[0m\u001b[0;34m[\u001b[0m\u001b[0mik\u001b[0m\u001b[0;34m]\u001b[0m \u001b[0;34m=\u001b[0m \u001b[0mnp\u001b[0m\u001b[0;34m.\u001b[0m\u001b[0mmax\u001b[0m\u001b[0;34m(\u001b[0m\u001b[0mVj\u001b[0m\u001b[0;34m)\u001b[0m\u001b[0;34m\u001b[0m\u001b[0;34m\u001b[0m\u001b[0m\n\u001b[0;32m---> 64\u001b[0;31m             \u001b[0mIndexAction_new\u001b[0m\u001b[0;34m[\u001b[0m\u001b[0mik\u001b[0m\u001b[0;34m]\u001b[0m \u001b[0;34m=\u001b[0m \u001b[0md\u001b[0m \u001b[0;34m+\u001b[0m \u001b[0mint\u001b[0m\u001b[0;34m(\u001b[0m\u001b[0mnp\u001b[0m\u001b[0;34m.\u001b[0m\u001b[0mwhere\u001b[0m\u001b[0;34m(\u001b[0m\u001b[0mVj\u001b[0m\u001b[0;34m==\u001b[0m\u001b[0mmax\u001b[0m\u001b[0;34m(\u001b[0m\u001b[0mVj\u001b[0m\u001b[0;34m)\u001b[0m\u001b[0;34m)\u001b[0m\u001b[0;34m[\u001b[0m\u001b[0;36m0\u001b[0m\u001b[0;34m]\u001b[0m\u001b[0;34m)\u001b[0m\u001b[0;34m\u001b[0m\u001b[0;34m\u001b[0m\u001b[0m\n\u001b[0m\u001b[1;32m     65\u001b[0m \u001b[0;34m\u001b[0m\u001b[0m\n\u001b[1;32m     66\u001b[0m         \u001b[0;32mif\u001b[0m \u001b[0mhoward\u001b[0m\u001b[0;34m==\u001b[0m\u001b[0;34m\"True\"\u001b[0m\u001b[0;34m:\u001b[0m\u001b[0;34m\u001b[0m\u001b[0;34m\u001b[0m\u001b[0m\n",
      "\u001b[0;31mTypeError\u001b[0m: only size-1 arrays can be converted to Python scalars"
     ]
    }
   ],
   "source": [
    "[Vp1, gk1, Kp1, iter1] = VFI(Kgrid2, V0, maxiter, tol, \"U1\", δ, howard=\"True\", print_i=\"False\")"
   ]
  },
  {
   "cell_type": "code",
   "execution_count": 65,
   "metadata": {},
   "outputs": [],
   "source": [
    "# Calculate the N*N optimal transition matrix\n",
    "T_opt1_v2 = np.zeros((N, N))\n",
    "for ik in range(N):\n",
    "    diff = S2[ik] - Action1_v2[ik]\n",
    "    dist = abs(S2 - diff) # How far from the differenre is each element of S2\n",
    "    index1 = np.where(dist == sorted(dist)[0])[0][0] # Find the index of the closest\n",
    "    index2 = np.where(dist == sorted(dist)[1])[0][0] # Find the index of the second closest\n",
    "    weight1 = sorted(dist)[0] / np.sum(sorted(dist)[0:2])\n",
    "    weight2 = sorted(dist)[1] / np.sum(sorted(dist)[0:2])\n",
    "    weight1 + weight2 == 1 \n",
    "    T_opt1_v2[ik, index1] = weight1\n",
    "    T_opt1_v2[ik, index2] = weight2 "
   ]
  },
  {
   "cell_type": "code",
   "execution_count": 63,
   "metadata": {},
   "outputs": [
    {
     "data": {
      "text/plain": [
       "2.0"
      ]
     },
     "execution_count": 63,
     "metadata": {},
     "output_type": "execute_result"
    }
   ],
   "source": [
    "T_v2 = np.zeros((N, N*Na))"
   ]
  },
  {
   "cell_type": "code",
   "execution_count": null,
   "metadata": {},
   "outputs": [],
   "source": [
    "# Calculate the N*N optimal transition matrix\n",
    "T_opt1 = np.zeros((N, N))\n",
    "for ik in range(N):\n",
    "    diff = Kgrid[ik] - gk1[ik]\n",
    "    ij = np.where(Kgrid == Kgrid[ik] - gk1[ik])[0][0]\n",
    "    T_opt1[ik, ij] = 1    "
   ]
  },
  {
   "cell_type": "code",
   "execution_count": 84,
   "metadata": {},
   "outputs": [
    {
     "data": {
      "text/plain": [
       "[<matplotlib.lines.Line2D at 0x7fc85158eed0>]"
      ]
     },
     "execution_count": 84,
     "metadata": {},
     "output_type": "execute_result"
    },
    {
     "data": {
      "image/png": "[encoded data removed]",
      "text/plain": [
       "<Figure size 432x288 with 1 Axes>"
      ]
     },
     "metadata": {
      "needs_background": "light"
     },
     "output_type": "display_data"
    }
   ],
   "source": [
    "St1 = 1000*np.ones(80)\n",
    "C1 = np.zeros(80)\n",
    "for i in range(80-1):\n",
    "    init_index1 = np.where(Kgrid==St1[i])[0][0]\n",
    "    C1[i] = gk1[init_index1]\n",
    "    final_index1 = np.where(T_opt1[init_index1,]==1)[0][0]\n",
    "    final1 = Kgrid[final_index1]\n",
    "    St1[i+1] = final1\n",
    "p1 = p1_f(C1)"
   ]
  },
  {
   "cell_type": "code",
   "execution_count": null,
   "metadata": {},
   "outputs": [],
   "source": []
  }
 ],
 "metadata": {
  "kernelspec": {
   "display_name": "Python 3",
   "language": "python",
   "name": "python3"
  },
  "language_info": {
   "codemirror_mode": {
    "name": "ipython",
    "version": 3
   },
   "file_extension": ".py",
   "mimetype": "text/x-python",
   "name": "python",
   "nbconvert_exporter": "python",
   "pygments_lexer": "ipython3",
   "version": "3.7.4"
  }
 },
 "nbformat": 4,
 "nbformat_minor": 2
}

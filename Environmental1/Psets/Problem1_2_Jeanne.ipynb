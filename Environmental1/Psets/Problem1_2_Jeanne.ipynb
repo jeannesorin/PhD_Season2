{
 "cells": [
  {
   "cell_type": "markdown",
   "metadata": {},
   "source": [
    "The code and write up below correspond to questions 1 and 2 of the computational assignment. The code is set up such that all functions are defined at the beginning, and ran later in the problem.\n",
    "Notice that I do not use the transition matrix T for problem 1. After implementing it for problem 2 I aimed at rewritting the code for problem 1 to use the (time saving) approach of T, but I ran out of time.\n",
    "After understanding the Transition matrix approach through spending a positive number of hours debugging the transition matrix function, I recognize it is indeed a very convenient way to set the problem up, which I didn't know about.\n",
    "\n",
    "\n",
    "$v1$ refers to question 1, $v2$ refers to question 2."
   ]
  },
  {
   "cell_type": "code",
   "execution_count": 1,
   "metadata": {},
   "outputs": [],
   "source": [
    "import numpy as np\n",
    "from matplotlib import pyplot as plt\n",
    "from scipy.sparse import csr_matrix\n",
    "import time\n",
    "from scipy import sparse\n",
    "import numpy.linalg as lin"
   ]
  },
  {
   "cell_type": "code",
   "execution_count": 2,
   "metadata": {},
   "outputs": [],
   "source": [
    "# Define primitives\n",
    "def u_f1(S,y):\n",
    "    '''Utility function version 1'''\n",
    "    U = 2*y**0.5\n",
    "    if y > S:\n",
    "        U = -100000000\n",
    "    return U\n",
    "\n",
    "def u_f2(S,y):\n",
    "    '''Utility function version 2'''\n",
    "    U = 5*y - 0.05*y**2\n",
    "    if y > S:\n",
    "        U = -100000000\n",
    "    return U\n",
    "\n",
    "def Bellman_simple(Vp, ik, jk, utilitymatrix):\n",
    "    '''\n",
    "    Bellman Function for the non-interpolation case (Problem 1)\n",
    "    '''\n",
    "    Value = utilitymatrix[ik, jk] + δ * Vp[ik-jk]\n",
    "    return(Value)\n",
    "\n",
    "def Bellman_interp(Vp, ik, jk, utilitymatrix, T):\n",
    "    ''' \n",
    "    Bellman : value function for state variable Kgrid[ik] with policy Kgrid[jk] (Problem 2)\n",
    "    ''' \n",
    "    N = len(T)\n",
    "    beg = N*jk\n",
    "    fin = N*(jk+1)\n",
    "    subT = T[ik, beg:fin] # get the index of the new state by subsetting in the transition matrix\n",
    "    state_new = np.where(subT > 0)[0]\n",
    "    if len(state_new)==1: # Reach the boundary: extraction > stock --> next stock == 0\n",
    "        state_new1 = state_new[0]\n",
    "        weight1 = subT[state_new1]\n",
    "        Vnext = Vp[state_new1]*weight1\n",
    "    if len(state_new)>1:\n",
    "        state_new1 = state_new[0]\n",
    "        state_new2 = state_new[1]\n",
    "        weight1 = subT[state_new1]\n",
    "        weight2 = subT[state_new2]\n",
    "        Vnext = Vp[state_new1]*weight1 + Vp[state_new2]*weight2\n",
    "    Value = utilitymatrix[ik, jk]  + δ * Vnext\n",
    "    return (Value)\n",
    "\n",
    "# Price functions = derivatives of utility functions wrt extraction (MU)\n",
    "def p1_f(C1):\n",
    "    return (1/(C1**0.5))\n",
    "\n",
    "def p2_f(C2):\n",
    "    return (5 - 0.1*C2)"
   ]
  },
  {
   "cell_type": "code",
   "execution_count": 3,
   "metadata": {},
   "outputs": [],
   "source": [
    "def T_f(S, A, interp=True):\n",
    "    '''\n",
    "    This function computes the transition matrix for the interpolation problem (Problem 2)\n",
    "    It can be easily adapted to the standard case\n",
    "    '''\n",
    "    \n",
    "    # Initialize\n",
    "    N = len(S)\n",
    "    Na = len(A)\n",
    "    T = np.zeros((N, N*Na))\n",
    "\n",
    "    # For each action indexed k, and each initial state i, compute resulting state j\n",
    "    if interp==True:\n",
    "        for i in range(N):\n",
    "            for k in range(Na):\n",
    "                diff = S[i] - A[k]\n",
    "                if diff < 0:\n",
    "                    index1_raw = 0\n",
    "                    index1_adj = index1_raw + (N)*k\n",
    "                    T[i, index1_adj] = 1.0\n",
    "                if diff >= 0:\n",
    "                    dist = abs(S - diff) # How far from the difference is each element of S\n",
    "                    index1_raw = np.where(dist == sorted(dist)[0])[0][0] # Find the index of the closest\n",
    "                    index2_raw = np.where(dist == sorted(dist)[1])[0][0] # Find the index of the second closest\n",
    "                    weight1 = 1 - sorted(dist)[0] / np.sum(sorted(dist)[0:2])\n",
    "                    weight2 = 1 - sorted(dist)[1] / np.sum(sorted(dist)[0:2])\n",
    "                    index1_adj = index1_raw + (N)*k\n",
    "                    index2_adj = index2_raw + (N)*k\n",
    "                    T[i, index1_adj] = weight1\n",
    "                    T[i, index2_adj] = weight2\n",
    "    return(T)"
   ]
  },
  {
   "cell_type": "code",
   "execution_count": 4,
   "metadata": {},
   "outputs": [],
   "source": [
    "def VFI_v1(State_grid, Action_grid, V0, utilitymatrix, maxiter = 1000, tol=1e-8, δ=(1/1.05), howard=True, print_i=True):\n",
    "    '''\n",
    "    VFI routine for problem 1 \n",
    "    (should be merged with VFI_v2 for concision but I'm running out of time)\n",
    "    '''\n",
    "    N = len(State_grid)\n",
    "    Na = len(Action_grid)\n",
    "    ### Initiate vectors & numbers\n",
    "    iter = 0\n",
    "    epsi = 1\n",
    "    IndexAction_new = np.zeros(Na)\n",
    "    Action = np.zeros(Na)\n",
    "    Vp = V0\n",
    "    Vp_new = np.zeros(N)\n",
    "\n",
    "    while (epsi > tol) & (iter < maxiter):\n",
    "        for ik in range(N):\n",
    "            # ik = index of the stock today\n",
    "            # d = max extraction < current stock\n",
    "            #d = int(gk[max(ik-1), 0])\n",
    "            d = 0\n",
    "\n",
    "            #Value function Tj for each choice g(k)\n",
    "            Vnext = np.zeros(len(State_grid)-d)\n",
    "\n",
    "            # Compute the value function Tj for each choice of g(k)\n",
    "            for jk in range(d, Na):\n",
    "                    Vnext[jk - d] = Bellman_simple(Vp, ik, jk, utilitymatrix)\n",
    "\n",
    "            # Choose the maximum\n",
    "            Vp_new[ik] = np.max(Vnext)\n",
    "            #IndexAction_new[ik] = d + int(np.where(Vnext==np.max(Vnext))[0][0])\n",
    "            IndexAction_new[ik] = d + int(np.max(np.where(Vnext==np.max(Vnext))[0]))\n",
    "        \n",
    "        \n",
    "        if howard==True:\n",
    "            # Reduces the number of iterations by updating the Vnew grid more often\n",
    "            for c in range(100):\n",
    "                for ik in range(len(Action_grid)):\n",
    "                    jk = int(IndexAction_new[ik])\n",
    "                    Vp_new[ik] = Bellman_simple(Vp_new, ik, jk, utilitymatrix)\n",
    "\n",
    "        \n",
    "        ### Check the error\n",
    "        epsi = np.abs(Vp_new - Vp).max()\n",
    "\n",
    "        ### Keep track of what is going on\n",
    "        if print_i==True:\n",
    "            print(\"iteration is \", iter, \" and Error term is \", epsi)\n",
    "            \n",
    "        IndexAction = IndexAction_new*1. #Update\n",
    "        Vp = Vp_new*1. #Update\n",
    "        \n",
    "        if epsi < tol:\n",
    "            break\n",
    "\n",
    "        iter=iter+1\n",
    "\n",
    "    #Calculate Values for g(k)\n",
    "    for jk in range(len(Action_grid)):\n",
    "        Action[jk] = Action_grid[int(IndexAction[jk])]\n",
    "    print(\"Total number of iterations : \", iter)\n",
    "        \n",
    "    # Calculate the N*N optimal transition matrix T_opt that gives the state transition proba under optimal action\n",
    "    return[Vp, IndexAction, Action, iter]\n",
    "    "
   ]
  },
  {
   "cell_type": "code",
   "execution_count": 5,
   "metadata": {},
   "outputs": [],
   "source": [
    "def VFI_v2(State_grid, Action_grid, V0, utilitymatrix, T, maxiter = 1000, tol = 1e-8, δ=(1/1.05), print_i=True):\n",
    "    '''\n",
    "    VFI Routine for Problem 2\n",
    "    '''\n",
    "    \n",
    "    ### Initiate vectors & numbers\n",
    "    iter = 0\n",
    "    epsi = 1\n",
    "    N = len(State_grid)\n",
    "    Na = len(Action_grid)\n",
    "    IndexAction_new = np.zeros(Na)\n",
    "    Vp = np.zeros(N)\n",
    "\n",
    "    while (epsi > tol) & (iter < maxiter):\n",
    "        # Copy the old value vector\n",
    "        Vold = np.copy(Vp)\n",
    "        # Initiate the matrix \n",
    "        Vnextall = np.zeros((N, Na))\n",
    "        # For each Na*N block (each action): computes the pair [old, new] states\n",
    "        for jk in range(Na):\n",
    "            beg = N*jk\n",
    "            fin = N*(jk+1)\n",
    "            Tnext = T[:,beg:fin]\n",
    "            vals = T[:,beg:fin].dot(Vp)\n",
    "            Vnextall[:,jk] = vals\n",
    "        # V = U + δ V\n",
    "        Uall = utilitymatrix + δ * Vnextall\n",
    "        # Find the maximum total V for each starting i (Vp[i]), and the index of the corresponding action maxArgAction[i]\n",
    "        maxArgAction = np.zeros(N)\n",
    "        for i in range(N):\n",
    "            maxArgAction[i] = np.argmax(Uall[i,:])\n",
    "            Vp[i] = np.max(Uall[i,:])\n",
    "\n",
    "        ### Check the error\n",
    "        epsi = lin.norm(Vp - Vold)\n",
    "\n",
    "        ### Keep track of what is going on\n",
    "        if print_i==True:\n",
    "            print(\"iteration is \", iter, \" and Error term is \", epsi)\n",
    "\n",
    "        IndexAction_new = np.copy(maxArgAction)\n",
    "\n",
    "        if epsi < tol:\n",
    "            break\n",
    "\n",
    "        iter=iter+1\n",
    "    \n",
    "    return(Vp, IndexAction_new, iter)\n"
   ]
  },
  {
   "cell_type": "markdown",
   "metadata": {},
   "source": [
    "## Question 1: Solving the DDP by value function iteration ; discrete state space"
   ]
  },
  {
   "cell_type": "code",
   "execution_count": 6,
   "metadata": {},
   "outputs": [],
   "source": [
    "### Parameters\n",
    "r = 0.05\n",
    "δ = 1/(1+r)\n",
    "Stot = 1000\n",
    "\n",
    "N = 501\n",
    "Na = 501\n",
    "S1 = np.linspace(0,1000,N)\n",
    "A1 = np.linspace(0,1000,Na)\n",
    "V0 = np.zeros(N)\n",
    "\n",
    "### Compute utility matrix for utility 1 and 2 \n",
    "utilitymatrix1_v1 = np.ones((N, Na))\n",
    "for i in range(0,N):\n",
    "    for j in range(0,Na):\n",
    "        utilitymatrix1_v1[i,j] = u_f1(S1[i], A1[j])\n",
    "        \n",
    "utilitymatrix2_v1 = np.ones((N, Na))\n",
    "for i in range(0,N):\n",
    "    for j in range(0,Na):\n",
    "        utilitymatrix2_v1[i,j] = u_f2(S1[i], A1[j])\n",
    "             "
   ]
  },
  {
   "cell_type": "code",
   "execution_count": 7,
   "metadata": {},
   "outputs": [
    {
     "name": "stdout",
     "output_type": "stream",
     "text": [
      "Total number of iterations :  22\n",
      "solving model 1 done\n",
      "Total number of iterations :  14\n",
      "solving model 2 done\n"
     ]
    }
   ],
   "source": [
    "##### UTILITY 1\n",
    "### Solve the model \n",
    "[Vp1_v1, IndexAction1_v1, Action1_v1, iter1_v1] = VFI_v1(S1, A1, V0, utilitymatrix1_v1, howard=True, print_i=False)\n",
    "print(\"solving model 1 done\")\n",
    "\n",
    "### Calculate the N*N optimal transition matrix\n",
    "T_opt1 = np.zeros((N, N))\n",
    "for ik in range(N):\n",
    "    ij = np.where(S1 == S1[ik] - Action1_v1[ik])[0][0]\n",
    "    T_opt1[ik, ij] = 1  \n",
    "    \n",
    "##### UTILITY 2\n",
    "### Solve the model \n",
    "[Vp2_v1, IndexAction2_v1, Action2_v1, iter2_v1] = VFI_v1(S1, A1, V0, utilitymatrix2_v1, howard=True, print_i=False)\n",
    "print(\"solving model 2 done\")\n",
    "\n",
    "### Calculate the N*N optimal transition matrix\n",
    "T_opt2 = np.zeros((N, N))\n",
    "for ik in range(N):\n",
    "    ij = np.where(S1 == S1[ik] - Action2_v1[ik])[0][0]\n",
    "    T_opt2[ik, ij] = 1  \n"
   ]
  },
  {
   "cell_type": "code",
   "execution_count": 8,
   "metadata": {},
   "outputs": [
    {
     "name": "stderr",
     "output_type": "stream",
     "text": [
      "/Applications/anaconda3/lib/python3.7/site-packages/ipykernel_launcher.py:47: RuntimeWarning: divide by zero encountered in true_divide\n"
     ]
    }
   ],
   "source": [
    "##### Simulate the model for 80 periods\n",
    "# St = each period's stock\n",
    "# C = each period's extraction\n",
    "\n",
    "## Simulate 1\n",
    "St1_v1 = 1000*np.ones(80)\n",
    "C1_v1 = np.zeros(80)\n",
    "for i in range(80-1):\n",
    "    init_index1 = np.where(S1==St1_v1[i])[0][0]\n",
    "    C1_v1[i] = Action1_v1[init_index1]\n",
    "    final_index1 = np.where(T_opt1[init_index1,]==1)[0][0]\n",
    "    St1_v1[i+1] = S1[final_index1]\n",
    "p1_v1 = p1_f(C1_v1)\n",
    "\n",
    "## Simulate 2\n",
    "St2_v1 = 1000*np.ones(80)\n",
    "C2_v1 = np.zeros(80)\n",
    "for i in range(80-1):\n",
    "    init_index2 = np.where(S1==St2_v1[i])[0][0]\n",
    "    C2_v1[i] = Action2_v1[init_index2]\n",
    "    final_index2 = np.where(T_opt2[init_index2,]==1)[0][0]\n",
    "    St2_v1[i+1] = S1[final_index2]\n",
    "p2_v1 = p2_f(C2_v1)\n"
   ]
  },
  {
   "cell_type": "code",
   "execution_count": 9,
   "metadata": {
    "scrolled": true
   },
   "outputs": [
    {
     "data": {
      "image/png": "[encoded data removed]",
      "text/plain": [
       "<Figure size 432x288 with 1 Axes>"
      ]
     },
     "metadata": {
      "needs_background": "light"
     },
     "output_type": "display_data"
    },
    {
     "data": {
      "image/png": "[encoded data removed]",
      "text/plain": [
       "<Figure size 432x288 with 1 Axes>"
      ]
     },
     "metadata": {
      "needs_background": "light"
     },
     "output_type": "display_data"
    }
   ],
   "source": [
    "plt.plot(range(0,80), C1_v1, color=\"red\", label=\"Extraction 1\")\n",
    "plt.plot(range(0,80), C2_v1, color=\"blue\", label=\"Extraction 2\")\n",
    "plt.title(\"Extraction Evolution Over Time (no interpolation)\")\n",
    "plt.xlabel(\"time\")\n",
    "plt.ylabel(\"Extraction\")\n",
    "plt.legend()\n",
    "plt.show()\n",
    "\n",
    "\n",
    "# For printing purposes\n",
    "plt.plot(range(0,80), p1_v1, color=\"red\", label=\"Price 1 (for < inf)\")\n",
    "plt.plot(range(0,80), p2_v1, color=\"blue\", label=\"Price 2\")\n",
    "plt.title(\"Price Evolution Over Time (no interpolation)\")\n",
    "plt.xlabel(\"time\")\n",
    "plt.ylabel(\"Price\")\n",
    "plt.legend()\n",
    "plt.show()"
   ]
  },
  {
   "cell_type": "markdown",
   "metadata": {},
   "source": [
    "## Question 2: Interpolating Between the States"
   ]
  },
  {
   "cell_type": "code",
   "execution_count": 10,
   "metadata": {},
   "outputs": [
    {
     "data": {
      "text/plain": [
       "[<matplotlib.lines.Line2D at 0x7fab364f9a90>]"
      ]
     },
     "execution_count": 10,
     "metadata": {},
     "output_type": "execute_result"
    },
    {
     "data": {
      "image/png": "[encoded data removed]",
      "text/plain": [
       "<Figure size 432x288 with 1 Axes>"
      ]
     },
     "metadata": {
      "needs_background": "light"
     },
     "output_type": "display_data"
    }
   ],
   "source": [
    "N2 = 501\n",
    "Na2 = 501\n",
    "S2 = np.linspace(0,1000,N2)\n",
    "A2 = np.linspace(0,(1000**0.5),Na2)**2\n",
    "plt.plot(range(501), A2)"
   ]
  },
  {
   "cell_type": "code",
   "execution_count": 11,
   "metadata": {},
   "outputs": [],
   "source": [
    "### Compute utility matrix for utility 1 and 2 \n",
    "utilitymatrix1_v2 = np.ones((N2, Na2))\n",
    "for i in range(0,N2):\n",
    "    for j in range(0,Na2):\n",
    "        utilitymatrix1_v2[i,j] = u_f1(S2[i], A2[j])\n",
    "        \n",
    "utilitymatrix2_v2 = np.ones((N2, Na2))\n",
    "for i in range(0,N2):\n",
    "    for j in range(0,Na2):\n",
    "        utilitymatrix2_v2[i,j] = u_f2(S2[i], A2[j])\n"
   ]
  },
  {
   "cell_type": "code",
   "execution_count": 12,
   "metadata": {},
   "outputs": [],
   "source": [
    "### Compute the Transition Matrix\n",
    "T2 = T_f(S2, A2, interp=True)\n",
    "T2 = csr_matrix(T2)"
   ]
  },
  {
   "cell_type": "code",
   "execution_count": 13,
   "metadata": {},
   "outputs": [
    {
     "name": "stdout",
     "output_type": "stream",
     "text": [
      "iteration is  0  and Error term is  999.6306757998175\n",
      "iteration is  1  and Error term is  382.22358359005364\n",
      "iteration is  2  and Error term is  271.571086320296\n",
      "iteration is  3  and Error term is  212.4579473176012\n",
      "iteration is  4  and Error term is  173.61935439472015\n",
      "iteration is  5  and Error term is  145.52413508394983\n",
      "iteration is  6  and Error term is  124.15091213179542\n",
      "iteration is  7  and Error term is  107.05369166338109\n",
      "iteration is  8  and Error term is  93.12997699892438\n",
      "iteration is  9  and Error term is  81.61902093185495\n",
      "iteration is  10  and Error term is  71.86880582805578\n",
      "iteration is  11  and Error term is  63.499016900233514\n",
      "iteration is  12  and Error term is  56.34387846166145\n",
      "iteration is  13  and Error term is  50.11094282974448\n",
      "iteration is  14  and Error term is  44.7271788902159\n",
      "iteration is  15  and Error term is  40.03579837182327\n",
      "iteration is  16  and Error term is  35.830256185787505\n",
      "iteration is  17  and Error term is  32.08515277453874\n",
      "iteration is  18  and Error term is  28.793217288378887\n",
      "iteration is  19  and Error term is  25.85500434718936\n",
      "iteration is  20  and Error term is  23.263422138973258\n",
      "iteration is  21  and Error term is  20.937125947878076\n",
      "iteration is  22  and Error term is  18.864180362648234\n",
      "iteration is  23  and Error term is  16.992165851380783\n",
      "iteration is  24  and Error term is  15.301786992192639\n",
      "iteration is  25  and Error term is  13.796044899269988\n",
      "iteration is  26  and Error term is  12.462800808911043\n",
      "iteration is  27  and Error term is  11.278960520867294\n",
      "iteration is  28  and Error term is  10.208583906133356\n",
      "iteration is  29  and Error term is  9.222334728356675\n",
      "iteration is  30  and Error term is  8.330500392772214\n",
      "iteration is  31  and Error term is  7.524855551341117\n",
      "iteration is  32  and Error term is  6.794511958837992\n",
      "iteration is  33  and Error term is  6.132718692188198\n",
      "iteration is  34  and Error term is  5.534693441936662\n",
      "iteration is  35  and Error term is  4.9947339062372205\n",
      "iteration is  36  and Error term is  4.505422658659432\n",
      "iteration is  37  and Error term is  4.06000253828608\n",
      "iteration is  38  and Error term is  3.65402859859463\n",
      "iteration is  39  and Error term is  3.2835645424363906\n",
      "iteration is  40  and Error term is  2.9457957875029663\n",
      "iteration is  41  and Error term is  2.6391425639562973\n",
      "iteration is  42  and Error term is  2.362528403226571\n",
      "iteration is  43  and Error term is  2.1150719983446926\n",
      "iteration is  44  and Error term is  1.8953629231229878\n",
      "iteration is  45  and Error term is  1.7013876165972117\n",
      "iteration is  46  and Error term is  1.5302798225278205\n",
      "iteration is  47  and Error term is  1.377525028198638\n",
      "iteration is  48  and Error term is  1.2418433820183594\n",
      "iteration is  49  and Error term is  1.1198974079407147\n",
      "iteration is  50  and Error term is  1.0111401033937606\n",
      "iteration is  51  and Error term is  0.9129708372279185\n",
      "iteration is  52  and Error term is  0.8242263351746695\n",
      "iteration is  53  and Error term is  0.7447237610883253\n",
      "iteration is  54  and Error term is  0.6731735685563812\n",
      "iteration is  55  and Error term is  0.6082173511591665\n",
      "iteration is  56  and Error term is  0.5492542799542753\n",
      "iteration is  57  and Error term is  0.4963525424422217\n",
      "iteration is  58  and Error term is  0.4488198141753264\n",
      "iteration is  59  and Error term is  0.40603876241103354\n",
      "iteration is  60  and Error term is  0.36732128893666455\n",
      "iteration is  61  and Error term is  0.3321619028454681\n",
      "iteration is  62  and Error term is  0.3001888451358104\n",
      "iteration is  63  and Error term is  0.27115177263984974\n",
      "iteration is  64  and Error term is  0.24489412954905201\n",
      "iteration is  65  and Error term is  0.22129735782467094\n",
      "iteration is  66  and Error term is  0.2000705762055484\n",
      "iteration is  67  and Error term is  0.1808987845640201\n",
      "iteration is  68  and Error term is  0.16356573590106066\n",
      "iteration is  69  and Error term is  0.1478796434294466\n",
      "iteration is  70  and Error term is  0.1336763921712208\n",
      "iteration is  71  and Error term is  0.12082977710311496\n",
      "iteration is  72  and Error term is  0.1092040051977595\n",
      "iteration is  73  and Error term is  0.09866658500981441\n",
      "iteration is  74  and Error term is  0.08914857698951069\n",
      "iteration is  75  and Error term is  0.08059848837908562\n",
      "iteration is  76  and Error term is  0.07293803549913551\n",
      "iteration is  77  and Error term is  0.06607450510446104\n",
      "iteration is  78  and Error term is  0.05991060272790561\n",
      "iteration is  79  and Error term is  0.05434088163332077\n",
      "iteration is  80  and Error term is  0.049285381961272044\n",
      "iteration is  81  and Error term is  0.04469588704250972\n",
      "iteration is  82  and Error term is  0.040530341481279104\n",
      "iteration is  83  and Error term is  0.03675107846293224\n",
      "iteration is  84  and Error term is  0.03332339947705845\n",
      "iteration is  85  and Error term is  0.030216255751221714\n",
      "iteration is  86  and Error term is  0.027396002254669885\n",
      "iteration is  87  and Error term is  0.024831498336977006\n",
      "iteration is  88  and Error term is  0.022501702583424453\n",
      "iteration is  89  and Error term is  0.020389382323795648\n",
      "iteration is  90  and Error term is  0.018476129896170496\n",
      "iteration is  91  and Error term is  0.016743251603127472\n",
      "iteration is  92  and Error term is  0.015174064962778165\n",
      "iteration is  93  and Error term is  0.013753247062329934\n",
      "iteration is  94  and Error term is  0.012466799550028987\n",
      "iteration is  95  and Error term is  0.01130118470772464\n",
      "iteration is  96  and Error term is  0.010243195482809192\n",
      "iteration is  97  and Error term is  0.00928200669248555\n",
      "iteration is  98  and Error term is  0.008408891896174978\n",
      "iteration is  99  and Error term is  0.007616004606704308\n",
      "iteration is  100  and Error term is  0.006896900864576436\n",
      "iteration is  101  and Error term is  0.006245512186688495\n",
      "iteration is  102  and Error term is  0.005655635183997234\n",
      "iteration is  103  and Error term is  0.005121497255545205\n",
      "iteration is  104  and Error term is  0.004637886238136942\n",
      "iteration is  105  and Error term is  0.004200091712822389\n",
      "iteration is  106  and Error term is  0.003803831066793984\n",
      "iteration is  107  and Error term is  0.0034452253408612378\n",
      "iteration is  108  and Error term is  0.003120752941328071\n",
      "iteration is  109  and Error term is  0.002827226115066814\n",
      "iteration is  110  and Error term is  0.002561757013124554\n",
      "iteration is  111  and Error term is  0.0023217285316735575\n",
      "iteration is  112  and Error term is  0.0021047673463345812\n",
      "iteration is  113  and Error term is  0.001908692728648706\n",
      "iteration is  114  and Error term is  0.0017315540796133612\n",
      "iteration is  115  and Error term is  0.0015714936318885402\n",
      "iteration is  116  and Error term is  0.0014267682473917578\n",
      "iteration is  117  and Error term is  0.0012957807542168106\n",
      "iteration is  118  and Error term is  0.0011770692393954726\n",
      "iteration is  119  and Error term is  0.0010693189929280966\n",
      "iteration is  120  and Error term is  0.0009715290313324701\n",
      "iteration is  121  and Error term is  0.0008827339299621799\n",
      "iteration is  122  and Error term is  0.0008020556086112714\n",
      "iteration is  123  and Error term is  0.000728707250615221\n",
      "iteration is  124  and Error term is  0.0006619866857191594\n",
      "iteration is  125  and Error term is  0.000601269543460046\n",
      "iteration is  126  and Error term is  0.0005460011940845293\n",
      "iteration is  127  and Error term is  0.0004956879737554315\n",
      "iteration is  128  and Error term is  0.0004498885702892915\n",
      "iteration is  129  and Error term is  0.00040820625304670505\n",
      "iteration is  130  and Error term is  0.00037028228734202446\n",
      "iteration is  131  and Error term is  0.00033579059133247716\n",
      "iteration is  132  and Error term is  0.00030443351172473177\n",
      "iteration is  133  and Error term is  0.00027593852012186565\n",
      "iteration is  134  and Error term is  0.0002500556170650333\n",
      "iteration is  135  and Error term is  0.0002265552552587508\n",
      "iteration is  136  and Error term is  0.00020522662925170885\n",
      "iteration is  137  and Error term is  0.00018587621809944025\n",
      "iteration is  138  and Error term is  0.00016832650232290376\n",
      "iteration is  139  and Error term is  0.00015241480093973657\n",
      "iteration is  140  and Error term is  0.00013799219540868636\n",
      "iteration is  141  and Error term is  0.00012492252138931353\n",
      "iteration is  142  and Error term is  0.00011308141661097233\n",
      "iteration is  143  and Error term is  0.00010235542047866982\n"
     ]
    },
    {
     "name": "stdout",
     "output_type": "stream",
     "text": [
      "iteration is  144  and Error term is  9.264112207212626e-05\n",
      "iteration is  145  and Error term is  8.384435652972197e-05\n",
      "iteration is  146  and Error term is  7.587944973110667e-05\n",
      "iteration is  147  and Error term is  6.866851015985712e-05\n",
      "iteration is  148  and Error term is  6.214076891246526e-05\n",
      "iteration is  149  and Error term is  5.623196484022768e-05\n",
      "iteration is  150  and Error term is  5.0883776362478124e-05\n",
      "iteration is  151  and Error term is  4.604329509733521e-05\n",
      "iteration is  152  and Error term is  4.166254236062395e-05\n",
      "iteration is  153  and Error term is  3.7698023761286684e-05\n",
      "iteration is  154  and Error term is  3.4110321235545106e-05\n",
      "iteration is  155  and Error term is  3.086372000750748e-05\n",
      "iteration is  156  and Error term is  2.792586752857811e-05\n",
      "iteration is  157  and Error term is  2.5267461755080753e-05\n",
      "iteration is  158  and Error term is  2.2861967968253335e-05\n",
      "iteration is  159  and Error term is  2.068536049624401e-05\n",
      "iteration is  160  and Error term is  1.8715887791416153e-05\n",
      "iteration is  161  and Error term is  1.6933859175228303e-05\n",
      "iteration is  162  and Error term is  1.53214508089017e-05\n",
      "iteration is  163  and Error term is  1.3862530277247316e-05\n",
      "iteration is  164  and Error term is  1.2542496378061458e-05\n",
      "iteration is  165  and Error term is  1.1348134790684757e-05\n",
      "iteration is  166  and Error term is  1.0267486845718118e-05\n",
      "iteration is  167  and Error term is  9.289730302979291e-06\n",
      "iteration is  168  and Error term is  8.40507219015962e-06\n",
      "iteration is  169  and Error term is  7.604650502664606e-06\n",
      "iteration is  170  and Error term is  6.880446409902088e-06\n",
      "iteration is  171  and Error term is  6.225204018720825e-06\n",
      "iteration is  172  and Error term is  5.63235762691311e-06\n",
      "iteration is  173  and Error term is  5.095966469208384e-06\n",
      "iteration is  174  and Error term is  4.610655346326543e-06\n",
      "iteration is  175  and Error term is  4.171560404394463e-06\n",
      "iteration is  176  and Error term is  3.7742809653693257e-06\n",
      "iteration is  177  and Error term is  3.414835212564135e-06\n",
      "iteration is  178  and Error term is  3.0896204569114575e-06\n",
      "iteration is  179  and Error term is  2.795377039643345e-06\n",
      "iteration is  180  and Error term is  2.529155604656228e-06\n",
      "iteration is  181  and Error term is  2.288287552685445e-06\n",
      "iteration is  182  and Error term is  2.070358665214905e-06\n",
      "iteration is  183  and Error term is  1.8731842053924212e-06\n",
      "iteration is  184  and Error term is  1.6947877403880837e-06\n",
      "iteration is  185  and Error term is  1.5333811015854592e-06\n",
      "iteration is  186  and Error term is  1.387346127270166e-06\n",
      "iteration is  187  and Error term is  1.2552190419629498e-06\n",
      "iteration is  188  and Error term is  1.1356752832116564e-06\n",
      "iteration is  189  and Error term is  1.0275164580695718e-06\n",
      "iteration is  190  and Error term is  9.296583459057608e-07\n",
      "iteration is  191  and Error term is  8.411199399401749e-07\n",
      "iteration is  192  and Error term is  7.610136834763229e-07\n",
      "iteration is  193  and Error term is  6.885365211773941e-07\n",
      "iteration is  194  and Error term is  6.229618536460992e-07\n",
      "iteration is  195  and Error term is  5.636323840452894e-07\n",
      "iteration is  196  and Error term is  5.099532483308441e-07\n",
      "iteration is  197  and Error term is  4.6138644844401135e-07\n",
      "iteration is  198  and Error term is  4.17444958410823e-07\n",
      "iteration is  199  and Error term is  3.7768842935398683e-07\n",
      "iteration is  200  and Error term is  3.417181512709929e-07\n",
      "iteration is  201  and Error term is  3.0917369330924925e-07\n",
      "iteration is  202  and Error term is  2.797285931769758e-07\n",
      "iteration is  203  and Error term is  2.5308782662290734e-07\n",
      "iteration is  204  and Error term is  2.2898431359353193e-07\n",
      "iteration is  205  and Error term is  2.071762471217025e-07\n",
      "iteration is  206  and Error term is  1.8744519592738163e-07\n",
      "iteration is  207  and Error term is  1.695933627893029e-07\n",
      "iteration is  208  and Error term is  1.5344157078332136e-07\n",
      "iteration is  209  and Error term is  1.3882814758306414e-07\n",
      "iteration is  210  and Error term is  1.2560641144860583e-07\n",
      "iteration is  211  and Error term is  1.1364391024864586e-07\n",
      "iteration is  212  and Error term is  1.0282068756664399e-07\n",
      "iteration is  213  and Error term is  9.302821295002828e-08\n",
      "iteration is  214  and Error term is  8.416839465686991e-08\n",
      "iteration is  215  and Error term is  7.615237185204938e-08\n",
      "iteration is  216  and Error term is  6.889973610741334e-08\n",
      "iteration is  217  and Error term is  6.233789682678046e-08\n",
      "iteration is  218  and Error term is  5.640092645543799e-08\n",
      "iteration is  219  and Error term is  5.1029487576229526e-08\n",
      "iteration is  220  and Error term is  4.6169517193644627e-08\n",
      "iteration is  221  and Error term is  4.177236071458647e-08\n",
      "iteration is  222  and Error term is  3.7794061767050025e-08\n",
      "iteration is  223  and Error term is  3.4194701521793885e-08\n",
      "iteration is  224  and Error term is  3.093802910986831e-08\n",
      "iteration is  225  and Error term is  2.7991513597837628e-08\n",
      "iteration is  226  and Error term is  2.5325667322783733e-08\n",
      "iteration is  227  and Error term is  2.291373747184729e-08\n",
      "iteration is  228  and Error term is  2.0731451578392997e-08\n",
      "iteration is  229  and Error term is  1.8757053463294803e-08\n",
      "iteration is  230  and Error term is  1.697062794247227e-08\n",
      "iteration is  231  and Error term is  1.5354362073591056e-08\n",
      "iteration is  232  and Error term is  1.389204826372071e-08\n",
      "iteration is  233  and Error term is  1.2569027100806917e-08\n",
      "iteration is  234  and Error term is  1.1371987969748516e-08\n",
      "iteration is  235  and Error term is  1.0288952116634768e-08\n",
      "iteration is  236  and Error term is  9.309039605482992e-09\n",
      "Utility 1: DONE\n",
      "Utility 2: DONE\n"
     ]
    }
   ],
   "source": [
    "### VFI \n",
    "V0 = np.zeros(N2)\n",
    "[Vp1_v2, IndexAction1_v2, iter1_v2] = VFI_v2(S2, A2, V0, utilitymatrix1_v2, T = T2, print_i=True)\n",
    "print(\"Utility 1: DONE\")\n",
    "\n",
    "[Vp2_v2, IndexAction2_v2, iter2_v2] = VFI_v2(S2, A2, V0, utilitymatrix2_v2, T = T2, print_i=False)\n",
    "print(\"Utility 2: DONE\")\n",
    "\n",
    "\n"
   ]
  },
  {
   "cell_type": "code",
   "execution_count": 14,
   "metadata": {},
   "outputs": [],
   "source": [
    "### Find the optimal Transition matrices\n",
    "T_opt1_v2 = np.zeros((N2, N2))\n",
    "for ik in range(N2):\n",
    "    diff = S2[ik] - A2[int(IndexAction1_v2[ik])]\n",
    "    dist = abs(S2 - diff) # How far from the differenre is each element of S2\n",
    "    index1 = np.where(dist == sorted(dist)[0])[0][0] # Find the index of the closest\n",
    "    index2 = np.where(dist == sorted(dist)[1])[0][0] # Find the index of the second closest\n",
    "    weight1 = sorted(dist)[0] / np.sum(sorted(dist)[0:2])\n",
    "    weight2 = sorted(dist)[1] / np.sum(sorted(dist)[0:2])\n",
    "    weight1 + weight2 == 1 \n",
    "    T_opt1_v2[ik, index1] = weight1\n",
    "    T_opt1_v2[ik, index2] = weight2 \n",
    "    \n",
    "T_opt1_v2 = csr_matrix(T_opt1_v2)\n",
    "    \n",
    "T_opt2_v2 = np.zeros((N2, N2))\n",
    "for ik in range(N2):\n",
    "    diff = S2[ik] - A2[int(IndexAction2_v2[ik])]\n",
    "    dist = abs(S2 - diff) # How far from the differenre is each element of S2\n",
    "    index1 = np.where(dist == sorted(dist)[0])[0][0] # Find the index of the closest\n",
    "    index2 = np.where(dist == sorted(dist)[1])[0][0] # Find the index of the second closest\n",
    "    weight1 = sorted(dist)[0] / np.sum(sorted(dist)[0:2])\n",
    "    weight2 = sorted(dist)[1] / np.sum(sorted(dist)[0:2])\n",
    "    weight1 + weight2 == 1 \n",
    "    T_opt2_v2[ik, index1] = weight1\n",
    "    T_opt2_v2[ik, index2] = weight2 \n",
    "    \n",
    "T_opt2_v2 = csr_matrix(T_opt2_v2)"
   ]
  },
  {
   "cell_type": "code",
   "execution_count": 15,
   "metadata": {},
   "outputs": [
    {
     "name": "stderr",
     "output_type": "stream",
     "text": [
      "/Applications/anaconda3/lib/python3.7/site-packages/ipykernel_launcher.py:47: RuntimeWarning: divide by zero encountered in true_divide\n"
     ]
    }
   ],
   "source": [
    "### Simulate\n",
    "\n",
    "St1_v2 = 1000*np.ones(80)\n",
    "C1_v2 = np.zeros(80)\n",
    "for i in range(80-1):\n",
    "    #init_index1 = np.where(S2==St1_v2[i])[0][0]\n",
    "    init = St1_v2[i]\n",
    "    # Find closest states\n",
    "    dist = abs(S2 - init)\n",
    "    tokeep = sorted(dist)[0:2]\n",
    "    index1 = np.where(dist == tokeep[0])[0][0]\n",
    "    index2 = np.where(dist == tokeep[1])[0][0]  \n",
    "    weight1 = 1 - tokeep[0] / np.sum(tokeep[0:2])\n",
    "    weight2 = 1 - tokeep[1] / np.sum(tokeep[0:2])\n",
    "    weight1 + weight2 == 1\n",
    "    C1_v2[i] = A2[int(IndexAction1_v2[index1])]*weight1 + A2[int(IndexAction1_v2[index2])]*weight2\n",
    "    St1_v2[i+1] = St1_v2[i] - C1_v2[i]\n",
    "p1_v2 = p1_f(C1_v2)\n",
    "\n",
    "# Simulate\n",
    "St2_v2 = 1000*np.ones(80)\n",
    "C2_v2 = np.zeros(80)\n",
    "for i in range(80-1):\n",
    "    #init_index1 = np.where(S2==St1_v2[i])[0][0]\n",
    "    init = St2_v2[i]\n",
    "    # Find closest states\n",
    "    dist = abs(S2 - init)\n",
    "    tokeep = sorted(dist)[0:2]\n",
    "    index1 = np.where(dist == tokeep[0])[0][0]\n",
    "    index2 = np.where(dist == tokeep[1])[0][0]  \n",
    "    weight1 = 1 - tokeep[0] / np.sum(tokeep[0:2])\n",
    "    weight2 = 1 - tokeep[1] / np.sum(tokeep[0:2])\n",
    "    weight1 + weight2 == 1\n",
    "    C2_v2[i] = A2[int(IndexAction2_v2[index1])]*weight1 + A2[int(IndexAction2_v2[index2])]*weight2\n",
    "    St2_v2[i+1] = St2_v2[i] - C2_v2[i]\n",
    "    \n",
    "p2_v2 = p2_f(C2_v2)\n"
   ]
  },
  {
   "cell_type": "code",
   "execution_count": 16,
   "metadata": {},
   "outputs": [
    {
     "data": {
      "image/png": "[encoded data removed]",
      "text/plain": [
       "<Figure size 432x288 with 1 Axes>"
      ]
     },
     "metadata": {
      "needs_background": "light"
     },
     "output_type": "display_data"
    },
    {
     "data": {
      "image/png": "[encoded data removed]",
      "text/plain": [
       "<Figure size 432x288 with 1 Axes>"
      ]
     },
     "metadata": {
      "needs_background": "light"
     },
     "output_type": "display_data"
    }
   ],
   "source": [
    "plt.plot(range(0,80), C1_v2, color=\"red\", label=\"Extraction 1\")\n",
    "plt.plot(range(0,80), C2_v2, color=\"blue\", label=\"Extraction 2\")\n",
    "plt.title(\"Extraction Evolution Over Time (interpolation)\")\n",
    "plt.xlabel(\"time\")\n",
    "plt.ylabel(\"Extraction\")\n",
    "plt.legend()\n",
    "plt.show()\n",
    "\n",
    "\n",
    "# For printing purposes\n",
    "plt.plot(range(0,80), p1_v2, color=\"red\", label=\"Price 1\")\n",
    "plt.plot(range(0,80), p2_v2, color=\"blue\", label=\"Price 2\")\n",
    "plt.title(\"Price Evolution Over Time (interpolation)\")\n",
    "plt.xlabel(\"time\")\n",
    "plt.ylabel(\"Price\")\n",
    "plt.legend()\n",
    "plt.show()"
   ]
  },
  {
   "cell_type": "code",
   "execution_count": 17,
   "metadata": {},
   "outputs": [
    {
     "data": {
      "image/png": "[encoded data removed]",
      "text/plain": [
       "<Figure size 432x288 with 1 Axes>"
      ]
     },
     "metadata": {
      "needs_background": "light"
     },
     "output_type": "display_data"
    },
    {
     "data": {
      "image/png": "[encoded data removed]",
      "text/plain": [
       "<Figure size 432x288 with 1 Axes>"
      ]
     },
     "metadata": {
      "needs_background": "light"
     },
     "output_type": "display_data"
    },
    {
     "data": {
      "image/png": "[encoded data removed]",
      "text/plain": [
       "<Figure size 432x288 with 1 Axes>"
      ]
     },
     "metadata": {
      "needs_background": "light"
     },
     "output_type": "display_data"
    },
    {
     "data": {
      "image/png": "[encoded data removed]",
      "text/plain": [
       "<Figure size 432x288 with 1 Axes>"
      ]
     },
     "metadata": {
      "needs_background": "light"
     },
     "output_type": "display_data"
    }
   ],
   "source": [
    "# For Free: a comparison of the interpolation & non-interpolation outcomes\n",
    "plt.plot(range(0,80), C1_v1, color=\"purple\", label=\"Extraction 1 - no interpolation\")\n",
    "plt.plot(range(0,80), C1_v2, color=\"green\", label=\"Extraction 1 - interpolation\")\n",
    "plt.title(\"Extraction Evolution Over Time - Utility 1\")\n",
    "plt.xlabel(\"time\")\n",
    "plt.ylabel(\"Extraction\")\n",
    "plt.legend()\n",
    "plt.show()\n",
    "\n",
    "plt.plot(range(0,80), p1_v1, color=\"purple\", label=\"Price 1 - no interpolation (for < inf)\")\n",
    "plt.plot(range(0,80), p1_v2, color=\"green\", label=\"Price 1 - interpolation\")\n",
    "plt.title(\"Price Evolution Over Time - Utility 1\")\n",
    "plt.xlabel(\"time\")\n",
    "plt.ylabel(\"Price\")\n",
    "plt.legend()\n",
    "plt.show()\n",
    "\n",
    "\n",
    "plt.plot(range(0,80), C2_v1, color=\"cyan\", label=\"Extraction 2 - no interpolation\")\n",
    "plt.plot(range(0,80), C2_v2, color=\"pink\", label=\"Extraction 2 - interpolation\")\n",
    "plt.title(\"Extraction Evolution Over Time - Utility 2\")\n",
    "plt.xlabel(\"time\")\n",
    "plt.ylabel(\"Extraction\")\n",
    "plt.legend()\n",
    "plt.show()\n",
    "\n",
    "plt.plot(range(0,80), p2_v1, color=\"cyan\", label=\"Price 2 - no interpolation\")\n",
    "plt.plot(range(0,80), p2_v2, color=\"pink\", label=\"Price 2 - interpolation\")\n",
    "plt.title(\"Price Evolution Over Time - Utility 2\")\n",
    "plt.xlabel(\"time\")\n",
    "plt.ylabel(\"Price\")\n",
    "plt.legend()\n",
    "plt.show()"
   ]
  },
  {
   "cell_type": "markdown",
   "metadata": {},
   "source": [
    "A couple remarks about the differences between problem 1 and problem 2:\n",
    "- Interestingly, with utility 1, notice that the price goes to $\\infty$ in problem 1, but not in problem 2. The intuition is that with this utility, $u_1'(0)=\\infty$, so if the agent is not constrained by the grid, he will make sure to always extract a strictly positive amount every period. When $t \\to \\infty$ we should converge to 0 stock, but always strictly positive. The grid interpolation approximates a continuous problem.\n",
    "- For utility 2, we do not observe the same phenomenon because $u_2'$ is bounded about by 5."
   ]
  }
 ],
 "metadata": {
  "kernelspec": {
   "display_name": "Python 3",
   "language": "python",
   "name": "python3"
  },
  "language_info": {
   "codemirror_mode": {
    "name": "ipython",
    "version": 3
   },
   "file_extension": ".py",
   "mimetype": "text/x-python",
   "name": "python",
   "nbconvert_exporter": "python",
   "pygments_lexer": "ipython3",
   "version": "3.7.4"
  }
 },
 "nbformat": 4,
 "nbformat_minor": 2
}

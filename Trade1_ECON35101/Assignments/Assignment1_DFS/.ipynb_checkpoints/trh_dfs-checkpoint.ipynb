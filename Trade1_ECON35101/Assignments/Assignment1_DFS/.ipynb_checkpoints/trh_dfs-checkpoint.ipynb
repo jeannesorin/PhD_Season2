{
 "cells": [
  {
   "cell_type": "markdown",
   "metadata": {},
   "source": [
    "# Assignment 1: DFS 77\n",
    "### Tom Hierons"
   ]
  },
  {
   "cell_type": "code",
   "execution_count": 1,
   "metadata": {},
   "outputs": [],
   "source": [
    "## Load packages\n",
    "using Plots, DelimitedFiles, Random\n"
   ]
  },
  {
   "cell_type": "markdown",
   "metadata": {},
   "source": [
    "## Functions\n",
    "\n",
    "### Check Inputs"
   ]
  },
  {
   "cell_type": "code",
   "execution_count": 2,
   "metadata": {},
   "outputs": [
    {
     "data": {
      "text/plain": [
       "input_checker (generic function with 1 method)"
      ]
     },
     "execution_count": 2,
     "metadata": {},
     "output_type": "execute_result"
    }
   ],
   "source": [
    "## Define functions used below --------------------------------------------------------\n",
    "\n",
    "# Checks inputs returning confirmation or error\n",
    "function input_checker(a,b,L,g)\n",
    "    isa(a,Array{Float64,2}) & isa(b,Array{Float64,1}) &\n",
    "    isa(L,Array{Float64,1}) & isa(g,Float64) || error(\"incorrect input type\")\n",
    "    minimum(a) > 0 || error(\"a has negative elements\")\n",
    "    minimum(b) > 0 || error(\"b has negative elements\")\n",
    "    A = a[:,1]./a[:,2]\n",
    "    A == sort(A, rev=true) || error(\"A not strictly decreasing\")\n",
    "    size(a)[1]==size(b)[1] || error(\"dimensions of a and b do not match\")\n",
    "    (abs(sum(b)-1.0)< 1e-6) || error(\"shares do not sum to 1\")\n",
    "    (g > 0.0) & (g <= 1.0) || error(\"g not in correct range\")\n",
    "    return \"input is fine\"\n",
    "end\n"
   ]
  },
  {
   "cell_type": "markdown",
   "metadata": {},
   "source": [
    "### Plotting function"
   ]
  },
  {
   "cell_type": "code",
   "execution_count": 3,
   "metadata": {},
   "outputs": [
    {
     "data": {
      "text/plain": [
       "plotter (generic function with 1 method)"
      ]
     },
     "execution_count": 3,
     "metadata": {},
     "output_type": "execute_result"
    }
   ],
   "source": [
    "# Calculates B schedule from DFS\n",
    "function Bsch(b,L)\n",
    "    θ=cumsum(b)\n",
    "    return (L[1]/L[2])*(θ./(ones(size(θ)).-θ))\n",
    "end\n",
    "\n",
    "# Plot the A and B schedules from DFS \n",
    "function plotter(a,b,L,g)\n",
    "    input_checker(a,b,L,g)\n",
    "    A = a[:,1]./a[:,2]\n",
    "    B = Bsch(b,L)\n",
    "    N = size(A)[1]\n",
    "    z = (1:(N-1))./(N-1) # avoid division by 0\n",
    "    p = plot(z,A[1:end-1], \n",
    "    xlabel = \"z\", ylabel = \"ω\", label = \"A\")\n",
    "    plot!(z,B[1:N-1], label = \"B\",\n",
    "    ylim = [0,5*maximum(A)])\n",
    "    display(p)\n",
    "end\n"
   ]
  },
  {
   "cell_type": "markdown",
   "metadata": {},
   "source": [
    "### Solving function"
   ]
  },
  {
   "cell_type": "code",
   "execution_count": 4,
   "metadata": {},
   "outputs": [
    {
     "data": {
      "text/plain": [
       "DFS1977solver (generic function with 1 method)"
      ]
     },
     "execution_count": 4,
     "metadata": {},
     "output_type": "execute_result"
    }
   ],
   "source": [
    "# Relative unit labour requirements from unit labour costs\n",
    "function A(a)\n",
    "    return a[:,1]./a[:,2]\n",
    "end\n",
    "\n",
    "# Invert A function on our discretised grid\n",
    "function A_inv(a,x)\n",
    "    return findmin(abs.(A(a).-x))[2]\n",
    "end\n",
    "\n",
    "# Calculate λ and λ* \n",
    "function λ(a,b,g,ω)\n",
    "    return sum(b[1:A_inv(a,g*ω)])\n",
    "end\n",
    "\n",
    "function λ_f(a,b,g,ω)\n",
    "    return sum(b[A_inv(a,ω/g):end])\n",
    "end\n",
    "\n",
    "# RHS of equation (19')\n",
    "function ϕ(a,b,L,g,ω)\n",
    "    return (1-λ_f(a,b,g,ω))*(L[1]/L[2])/(1-λ(a,b,g,ω))\n",
    "end\n",
    "\n",
    "# Solve for fixed point\n",
    "function DFS1977solver(a,b,L,g)\n",
    "    input_checker(a,b,L,g)\n",
    "    ϕ_A = [ϕ(a,b,L,g,ω) for ω in A(a)]\n",
    "    ω_bar = A(a)[findmin(abs.(ϕ_A-A(a)))[2]]\n",
    "    z_bar = A_inv(a,g*ω_bar)\n",
    "    z_bar_star = A_inv(a,ω_bar/g)\n",
    "    return (z_bar_star, z_bar, ω_bar)\n",
    "end\n"
   ]
  },
  {
   "cell_type": "markdown",
   "metadata": {},
   "source": [
    "### Welfare function\n",
    "Given Cobb-Douglas utility and only wage income for Home we have utility per capita given by:\n",
    "\n",
    "$$ \\ln \\left(\\frac{U}{L}\\right)= \\ln w -\\int_0^1 b(z)\\ln p(z)dz $$\n",
    "\n",
    "And analogously for Foreign we get:\n",
    "\n",
    "$$ \\ln \\left(\\frac{U^*}{L^*}\\right)= \\ln w^* -\\int_0^1 b(z)\\ln p^*(z)dz $$\n",
    "\n",
    "Follow class notation so that the Home wage is used as numeraire ($w=1$) for the free trade equilibrium. This gives us that $\\omega=\\frac{1}{w^*}$. For each country's autarky equilibrium we have an extra degree of freedom and can normalise both wages and set $w=w^*=1$. Home's autarky welfare is given by:\n",
    "\n",
    "$$-\\int_0^1 b(z)\\ln a(z)dz$$ \n",
    "\n",
    "For Foreign it is: \n",
    "\n",
    "$$-\\int_0^1 b(z) \\ln a^*(z) dz$$.\n",
    "\n",
    "For the free trade case I consider the general case in which there are trade costs. The special case of frictionless trade can be seen by setting $g=1$. It remains to calculate the prices that consumers pay which we then use to evaluate the welfare expressions above. For Home we find that prices are:\n",
    "\n",
    "$$ p(z) = a(z) \\quad \\forall z \\in [0,\\bar{z}]$$\n",
    "\n",
    "$$ p(z) = \\frac{a^*(z)}{\\omega g} \\quad \\forall z \\in [\\bar{z},1]$$\n",
    "\n",
    "This gives Home utility per capita:\n",
    "\n",
    "$$ -\\left( \\int_0^{\\bar{z}}b(z)\\ln a(z) dz + \\int_{\\bar{z}}^1 b(z)\\ln \\left(\\frac{a^*(z)}{\\omega g}\\right)dz \\right)$$\n",
    "\n",
    "\n",
    "For Foreign the prices are:\n",
    "\n",
    "$$p^*(z) = \\frac{a(z)}{g} \\quad \\forall z \\in [ 0,\\bar{z}^*]$$\n",
    "$$p^*(z) = \\frac{a^*(z)}{\\omega} \\quad \\forall z \\in [\\bar{z}^*, 1]$$\n",
    "\n",
    "This gives utility:\n",
    "\n",
    "$$ \\ln \\left( \\frac{1}{\\omega}\\right) - \\left( \\int_0^{\\bar{z}^*}b(z)\\ln \\left( \\frac{a(z)}{g}\\right)dz + \\int_{\\bar{z}^*}^1 b(z)\\ln \\left(\\frac{a^*(z)}{\\omega}\\right)dz \\right)$$\n",
    "\n",
    "I construct functions to approximate these integrals as well as the difference between them giving the gains from trade. Note that there is an issue with the discretisation of the grid here and a question of who produces the marginal ($\\bar{z}$ and  $\\bar{z}^*$) goods. I assume the marginal goods are not traded. Other assumptions are available. This could lead to a (small) discrepancy in answers. Analytically there is no problem as the points have Lebesgue measure zero. \n"
   ]
  },
  {
   "cell_type": "code",
   "execution_count": 5,
   "metadata": {},
   "outputs": [
    {
     "data": {
      "text/plain": [
       "foreign_gft (generic function with 1 method)"
      ]
     },
     "execution_count": 5,
     "metadata": {},
     "output_type": "execute_result"
    }
   ],
   "source": [
    "# Home autarky welfare\n",
    "function home_autarky(a,b)\n",
    "    return - sum(b.*(log.(a[:,2])))\n",
    "end\n",
    "\n",
    "# Home free-trade welfare\n",
    "function home_trade(a,b,L,g)\n",
    "    sol = DFS1977solver(a,b,L,g)\n",
    "    dom = b.*(log.(a[:,2])) \n",
    "    imp = b.*(log.(a[:,1]./(sol[3]*g)))\n",
    "    return - (sum(dom[1:sol[2]]) + sum(imp[(sol[2]+1):end]))\n",
    "end\n",
    "    \n",
    "# Home gains from trade\n",
    "function home_gft(a,b,L,g)\n",
    "        return home_trade(a,b,L,g) - home_autarky(a,b)\n",
    "end\n",
    "    \n",
    "# Foreign autarky welfare\n",
    "function foreign_autarky(a,b)\n",
    "    return - sum(b.*(log.(a[:,1])))\n",
    "end\n",
    "\n",
    "# Foreign free-trade welfare\n",
    "function foreign_trade(a,b,L,g)\n",
    "    sol = DFS1977solver(a,b,L,g)\n",
    "    dom = b.*(log.(a[:,1]./(sol[3])))\n",
    "    imp = b.*(log.(a[:,2]./g))\n",
    "    return log(1/sol[3])- (sum(imp[1:sol[1]-1])+sum(dom[sol[1]:end]))\n",
    "end\n",
    "\n",
    "# Foreign gains from trade\n",
    "function foreign_gft(a,b,L,g)\n",
    "    return foreign_trade(a,b,L,g)-foreign_autarky(a,b)\n",
    "end\n"
   ]
  },
  {
   "cell_type": "markdown",
   "metadata": {},
   "source": [
    "## Plot Example"
   ]
  },
  {
   "cell_type": "code",
   "execution_count": 6,
   "metadata": {},
   "outputs": [
    {
     "data": {
      "image/svg+xml": [
       "<?xml version=\"1.0\" encoding=\"utf-8\"?>\n",
       "<svg xmlns=\"http://www.w3.org/2000/svg\" xmlns:xlink=\"http://www.w3.org/1999/xlink\" width=\"600\" height=\"400\" viewBox=\"0 0 2400 1600\">\n",
       "<defs>\n",
       "  <clipPath id=\"clip890\">\n",
       "    <rect x=\"0\" y=\"0\" width=\"2400\" height=\"1600\"/>\n",
       "  </clipPath>\n",
       "</defs>\n",
       "<path clip-path=\"url(#clip890)\" d=\"\n",
       "M0 1600 L2400 1600 L2400 0 L0 0  Z\n",
       "  \" fill=\"#ffffff\" fill-rule=\"evenodd\" fill-opacity=\"1\"/>\n",
       "<defs>\n",
       "  <clipPath id=\"clip891\">\n",
       "    <rect x=\"480\" y=\"0\" width=\"1681\" height=\"1600\"/>\n",
       "  </clipPath>\n",
       "</defs>\n",
       "<path clip-path=\"url(#clip890)\" d=\"\n",
       "M197.852 1423.18 L2352.76 1423.18 L2352.76 47.2441 L197.852 47.2441  Z\n",
       "  \" fill=\"#ffffff\" fill-rule=\"evenodd\" fill-opacity=\"1\"/>\n",
       "<defs>\n",
       "  <clipPath id=\"clip892\">\n",
       "    <rect x=\"197\" y=\"47\" width=\"2156\" height=\"1377\"/>\n",
       "  </clipPath>\n",
       "</defs>\n",
       "<polyline clip-path=\"url(#clip892)\" style=\"stroke:#000000; stroke-width:2; stroke-opacity:0.1; fill:none\" points=\"\n",
       "  245.104,1423.18 245.104,47.2441 \n",
       "  \"/>\n",
       "<polyline clip-path=\"url(#clip892)\" style=\"stroke:#000000; stroke-width:2; stroke-opacity:0.1; fill:none\" points=\"\n",
       "  756.77,1423.18 756.77,47.2441 \n",
       "  \"/>\n",
       "<polyline clip-path=\"url(#clip892)\" style=\"stroke:#000000; stroke-width:2; stroke-opacity:0.1; fill:none\" points=\"\n",
       "  1268.44,1423.18 1268.44,47.2441 \n",
       "  \"/>\n",
       "<polyline clip-path=\"url(#clip892)\" style=\"stroke:#000000; stroke-width:2; stroke-opacity:0.1; fill:none\" points=\"\n",
       "  1780.1,1423.18 1780.1,47.2441 \n",
       "  \"/>\n",
       "<polyline clip-path=\"url(#clip892)\" style=\"stroke:#000000; stroke-width:2; stroke-opacity:0.1; fill:none\" points=\"\n",
       "  2291.77,1423.18 2291.77,47.2441 \n",
       "  \"/>\n",
       "<polyline clip-path=\"url(#clip890)\" style=\"stroke:#000000; stroke-width:4; stroke-opacity:1; fill:none\" points=\"\n",
       "  197.852,1423.18 2352.76,1423.18 \n",
       "  \"/>\n",
       "<polyline clip-path=\"url(#clip890)\" style=\"stroke:#000000; stroke-width:4; stroke-opacity:1; fill:none\" points=\"\n",
       "  245.104,1423.18 245.104,1406.67 \n",
       "  \"/>\n",
       "<polyline clip-path=\"url(#clip890)\" style=\"stroke:#000000; stroke-width:4; stroke-opacity:1; fill:none\" points=\"\n",
       "  756.77,1423.18 756.77,1406.67 \n",
       "  \"/>\n",
       "<polyline clip-path=\"url(#clip890)\" style=\"stroke:#000000; stroke-width:4; stroke-opacity:1; fill:none\" points=\"\n",
       "  1268.44,1423.18 1268.44,1406.67 \n",
       "  \"/>\n",
       "<polyline clip-path=\"url(#clip890)\" style=\"stroke:#000000; stroke-width:4; stroke-opacity:1; fill:none\" points=\"\n",
       "  1780.1,1423.18 1780.1,1406.67 \n",
       "  \"/>\n",
       "<polyline clip-path=\"url(#clip890)\" style=\"stroke:#000000; stroke-width:4; stroke-opacity:1; fill:none\" points=\"\n",
       "  2291.77,1423.18 2291.77,1406.67 \n",
       "  \"/>\n",
       "<path clip-path=\"url(#clip890)\" d=\"M 0 0 M213.114 1452.37 Q209.503 1452.37 207.674 1455.94 Q205.868 1459.48 205.868 1466.61 Q205.868 1473.71 207.674 1477.28 Q209.503 1480.82 213.114 1480.82 Q216.748 1480.82 218.554 1477.28 Q220.382 1473.71 220.382 1466.61 Q220.382 1459.48 218.554 1455.94 Q216.748 1452.37 213.114 1452.37 M213.114 1448.67 Q218.924 1448.67 221.979 1453.27 Q225.058 1457.86 225.058 1466.61 Q225.058 1475.33 221.979 1479.94 Q218.924 1484.52 213.114 1484.52 Q207.304 1484.52 204.225 1479.94 Q201.169 1475.33 201.169 1466.61 Q201.169 1457.86 204.225 1453.27 Q207.304 1448.67 213.114 1448.67 Z\" fill=\"#000000\" fill-rule=\"evenodd\" fill-opacity=\"1\" /><path clip-path=\"url(#clip890)\" d=\"M 0 0 M230.128 1477.97 L235.012 1477.97 L235.012 1483.85 L230.128 1483.85 L230.128 1477.97 Z\" fill=\"#000000\" fill-rule=\"evenodd\" fill-opacity=\"1\" /><path clip-path=\"url(#clip890)\" d=\"M 0 0 M250.081 1452.37 Q246.47 1452.37 244.641 1455.94 Q242.836 1459.48 242.836 1466.61 Q242.836 1473.71 244.641 1477.28 Q246.47 1480.82 250.081 1480.82 Q253.715 1480.82 255.521 1477.28 Q257.35 1473.71 257.35 1466.61 Q257.35 1459.48 255.521 1455.94 Q253.715 1452.37 250.081 1452.37 M250.081 1448.67 Q255.891 1448.67 258.947 1453.27 Q262.026 1457.86 262.026 1466.61 Q262.026 1475.33 258.947 1479.94 Q255.891 1484.52 250.081 1484.52 Q244.271 1484.52 241.192 1479.94 Q238.137 1475.33 238.137 1466.61 Q238.137 1457.86 241.192 1453.27 Q244.271 1448.67 250.081 1448.67 Z\" fill=\"#000000\" fill-rule=\"evenodd\" fill-opacity=\"1\" /><path clip-path=\"url(#clip890)\" d=\"M 0 0 M277.095 1452.37 Q273.484 1452.37 271.655 1455.94 Q269.85 1459.48 269.85 1466.61 Q269.85 1473.71 271.655 1477.28 Q273.484 1480.82 277.095 1480.82 Q280.729 1480.82 282.535 1477.28 Q284.363 1473.71 284.363 1466.61 Q284.363 1459.48 282.535 1455.94 Q280.729 1452.37 277.095 1452.37 M277.095 1448.67 Q282.905 1448.67 285.961 1453.27 Q289.039 1457.86 289.039 1466.61 Q289.039 1475.33 285.961 1479.94 Q282.905 1484.52 277.095 1484.52 Q271.285 1484.52 268.206 1479.94 Q265.151 1475.33 265.151 1466.61 Q265.151 1457.86 268.206 1453.27 Q271.285 1448.67 277.095 1448.67 Z\" fill=\"#000000\" fill-rule=\"evenodd\" fill-opacity=\"1\" /><path clip-path=\"url(#clip890)\" d=\"M 0 0 M726.076 1452.37 Q722.465 1452.37 720.636 1455.94 Q718.831 1459.48 718.831 1466.61 Q718.831 1473.71 720.636 1477.28 Q722.465 1480.82 726.076 1480.82 Q729.71 1480.82 731.516 1477.28 Q733.344 1473.71 733.344 1466.61 Q733.344 1459.48 731.516 1455.94 Q729.71 1452.37 726.076 1452.37 M726.076 1448.67 Q731.886 1448.67 734.942 1453.27 Q738.02 1457.86 738.02 1466.61 Q738.02 1475.33 734.942 1479.94 Q731.886 1484.52 726.076 1484.52 Q720.266 1484.52 717.187 1479.94 Q714.132 1475.33 714.132 1466.61 Q714.132 1457.86 717.187 1453.27 Q720.266 1448.67 726.076 1448.67 Z\" fill=\"#000000\" fill-rule=\"evenodd\" fill-opacity=\"1\" /><path clip-path=\"url(#clip890)\" d=\"M 0 0 M743.09 1477.97 L747.974 1477.97 L747.974 1483.85 L743.09 1483.85 L743.09 1477.97 Z\" fill=\"#000000\" fill-rule=\"evenodd\" fill-opacity=\"1\" /><path clip-path=\"url(#clip890)\" d=\"M 0 0 M757.071 1479.92 L773.391 1479.92 L773.391 1483.85 L751.446 1483.85 L751.446 1479.92 Q754.108 1477.16 758.692 1472.53 Q763.298 1467.88 764.479 1466.54 Q766.724 1464.01 767.604 1462.28 Q768.506 1460.52 768.506 1458.83 Q768.506 1456.07 766.562 1454.34 Q764.641 1452.6 761.539 1452.6 Q759.34 1452.6 756.886 1453.37 Q754.455 1454.13 751.678 1455.68 L751.678 1450.96 Q754.502 1449.82 756.955 1449.25 Q759.409 1448.67 761.446 1448.67 Q766.817 1448.67 770.011 1451.35 Q773.205 1454.04 773.205 1458.53 Q773.205 1460.66 772.395 1462.58 Q771.608 1464.48 769.502 1467.07 Q768.923 1467.74 765.821 1470.96 Q762.719 1474.15 757.071 1479.92 Z\" fill=\"#000000\" fill-rule=\"evenodd\" fill-opacity=\"1\" /><path clip-path=\"url(#clip890)\" d=\"M 0 0 M778.506 1449.29 L796.863 1449.29 L796.863 1453.23 L782.789 1453.23 L782.789 1461.7 Q783.807 1461.35 784.826 1461.19 Q785.844 1461 786.863 1461 Q792.65 1461 796.029 1464.18 Q799.409 1467.35 799.409 1472.76 Q799.409 1478.34 795.937 1481.44 Q792.465 1484.52 786.145 1484.52 Q783.969 1484.52 781.701 1484.15 Q779.455 1483.78 777.048 1483.04 L777.048 1478.34 Q779.131 1479.48 781.353 1480.03 Q783.576 1480.59 786.053 1480.59 Q790.057 1480.59 792.395 1478.48 Q794.733 1476.38 794.733 1472.76 Q794.733 1469.15 792.395 1467.05 Q790.057 1464.94 786.053 1464.94 Q784.178 1464.94 782.303 1465.36 Q780.451 1465.77 778.506 1466.65 L778.506 1449.29 Z\" fill=\"#000000\" fill-rule=\"evenodd\" fill-opacity=\"1\" /><path clip-path=\"url(#clip890)\" d=\"M 0 0 M1236.94 1452.37 Q1233.33 1452.37 1231.5 1455.94 Q1229.7 1459.48 1229.7 1466.61 Q1229.7 1473.71 1231.5 1477.28 Q1233.33 1480.82 1236.94 1480.82 Q1240.58 1480.82 1242.38 1477.28 Q1244.21 1473.71 1244.21 1466.61 Q1244.21 1459.48 1242.38 1455.94 Q1240.58 1452.37 1236.94 1452.37 M1236.94 1448.67 Q1242.75 1448.67 1245.81 1453.27 Q1248.89 1457.86 1248.89 1466.61 Q1248.89 1475.33 1245.81 1479.94 Q1242.75 1484.52 1236.94 1484.52 Q1231.13 1484.52 1228.05 1479.94 Q1225 1475.33 1225 1466.61 Q1225 1457.86 1228.05 1453.27 Q1231.13 1448.67 1236.94 1448.67 Z\" fill=\"#000000\" fill-rule=\"evenodd\" fill-opacity=\"1\" /><path clip-path=\"url(#clip890)\" d=\"M 0 0 M1253.96 1477.97 L1258.84 1477.97 L1258.84 1483.85 L1253.96 1483.85 L1253.96 1477.97 Z\" fill=\"#000000\" fill-rule=\"evenodd\" fill-opacity=\"1\" /><path clip-path=\"url(#clip890)\" d=\"M 0 0 M1263.96 1449.29 L1282.31 1449.29 L1282.31 1453.23 L1268.24 1453.23 L1268.24 1461.7 Q1269.26 1461.35 1270.28 1461.19 Q1271.29 1461 1272.31 1461 Q1278.1 1461 1281.48 1464.18 Q1284.86 1467.35 1284.86 1472.76 Q1284.86 1478.34 1281.39 1481.44 Q1277.92 1484.52 1271.6 1484.52 Q1269.42 1484.52 1267.15 1484.15 Q1264.91 1483.78 1262.5 1483.04 L1262.5 1478.34 Q1264.58 1479.48 1266.8 1480.03 Q1269.03 1480.59 1271.5 1480.59 Q1275.51 1480.59 1277.85 1478.48 Q1280.18 1476.38 1280.18 1472.76 Q1280.18 1469.15 1277.85 1467.05 Q1275.51 1464.94 1271.5 1464.94 Q1269.63 1464.94 1267.75 1465.36 Q1265.9 1465.77 1263.96 1466.65 L1263.96 1449.29 Z\" fill=\"#000000\" fill-rule=\"evenodd\" fill-opacity=\"1\" /><path clip-path=\"url(#clip890)\" d=\"M 0 0 M1299.93 1452.37 Q1296.32 1452.37 1294.49 1455.94 Q1292.68 1459.48 1292.68 1466.61 Q1292.68 1473.71 1294.49 1477.28 Q1296.32 1480.82 1299.93 1480.82 Q1303.56 1480.82 1305.37 1477.28 Q1307.2 1473.71 1307.2 1466.61 Q1307.2 1459.48 1305.37 1455.94 Q1303.56 1452.37 1299.93 1452.37 M1299.93 1448.67 Q1305.74 1448.67 1308.79 1453.27 Q1311.87 1457.86 1311.87 1466.61 Q1311.87 1475.33 1308.79 1479.94 Q1305.74 1484.52 1299.93 1484.52 Q1294.12 1484.52 1291.04 1479.94 Q1287.98 1475.33 1287.98 1466.61 Q1287.98 1457.86 1291.04 1453.27 Q1294.12 1448.67 1299.93 1448.67 Z\" fill=\"#000000\" fill-rule=\"evenodd\" fill-opacity=\"1\" /><path clip-path=\"url(#clip890)\" d=\"M 0 0 M1749.06 1452.37 Q1745.45 1452.37 1743.62 1455.94 Q1741.82 1459.48 1741.82 1466.61 Q1741.82 1473.71 1743.62 1477.28 Q1745.45 1480.82 1749.06 1480.82 Q1752.69 1480.82 1754.5 1477.28 Q1756.33 1473.71 1756.33 1466.61 Q1756.33 1459.48 1754.5 1455.94 Q1752.69 1452.37 1749.06 1452.37 M1749.06 1448.67 Q1754.87 1448.67 1757.93 1453.27 Q1761.01 1457.86 1761.01 1466.61 Q1761.01 1475.33 1757.93 1479.94 Q1754.87 1484.52 1749.06 1484.52 Q1743.25 1484.52 1740.17 1479.94 Q1737.12 1475.33 1737.12 1466.61 Q1737.12 1457.86 1740.17 1453.27 Q1743.25 1448.67 1749.06 1448.67 Z\" fill=\"#000000\" fill-rule=\"evenodd\" fill-opacity=\"1\" /><path clip-path=\"url(#clip890)\" d=\"M 0 0 M1766.07 1477.97 L1770.96 1477.97 L1770.96 1483.85 L1766.07 1483.85 L1766.07 1477.97 Z\" fill=\"#000000\" fill-rule=\"evenodd\" fill-opacity=\"1\" /><path clip-path=\"url(#clip890)\" d=\"M 0 0 M1774.85 1449.29 L1797.07 1449.29 L1797.07 1451.28 L1784.52 1483.85 L1779.64 1483.85 L1791.44 1453.23 L1774.85 1453.23 L1774.85 1449.29 Z\" fill=\"#000000\" fill-rule=\"evenodd\" fill-opacity=\"1\" /><path clip-path=\"url(#clip890)\" d=\"M 0 0 M1802.19 1449.29 L1820.54 1449.29 L1820.54 1453.23 L1806.47 1453.23 L1806.47 1461.7 Q1807.49 1461.35 1808.5 1461.19 Q1809.52 1461 1810.54 1461 Q1816.33 1461 1819.71 1464.18 Q1823.09 1467.35 1823.09 1472.76 Q1823.09 1478.34 1819.62 1481.44 Q1816.14 1484.52 1809.82 1484.52 Q1807.65 1484.52 1805.38 1484.15 Q1803.13 1483.78 1800.73 1483.04 L1800.73 1478.34 Q1802.81 1479.48 1805.03 1480.03 Q1807.25 1480.59 1809.73 1480.59 Q1813.74 1480.59 1816.07 1478.48 Q1818.41 1476.38 1818.41 1472.76 Q1818.41 1469.15 1816.07 1467.05 Q1813.74 1464.94 1809.73 1464.94 Q1807.86 1464.94 1805.98 1465.36 Q1804.13 1465.77 1802.19 1466.65 L1802.19 1449.29 Z\" fill=\"#000000\" fill-rule=\"evenodd\" fill-opacity=\"1\" /><path clip-path=\"url(#clip890)\" d=\"M 0 0 M2250.16 1479.92 L2257.8 1479.92 L2257.8 1453.55 L2249.49 1455.22 L2249.49 1450.96 L2257.75 1449.29 L2262.43 1449.29 L2262.43 1479.92 L2270.07 1479.92 L2270.07 1483.85 L2250.16 1483.85 L2250.16 1479.92 Z\" fill=\"#000000\" fill-rule=\"evenodd\" fill-opacity=\"1\" /><path clip-path=\"url(#clip890)\" d=\"M 0 0 M2275.14 1477.97 L2280.02 1477.97 L2280.02 1483.85 L2275.14 1483.85 L2275.14 1477.97 Z\" fill=\"#000000\" fill-rule=\"evenodd\" fill-opacity=\"1\" /><path clip-path=\"url(#clip890)\" d=\"M 0 0 M2295.09 1452.37 Q2291.48 1452.37 2289.65 1455.94 Q2287.84 1459.48 2287.84 1466.61 Q2287.84 1473.71 2289.65 1477.28 Q2291.48 1480.82 2295.09 1480.82 Q2298.72 1480.82 2300.53 1477.28 Q2302.36 1473.71 2302.36 1466.61 Q2302.36 1459.48 2300.53 1455.94 Q2298.72 1452.37 2295.09 1452.37 M2295.09 1448.67 Q2300.9 1448.67 2303.96 1453.27 Q2307.03 1457.86 2307.03 1466.61 Q2307.03 1475.33 2303.96 1479.94 Q2300.9 1484.52 2295.09 1484.52 Q2289.28 1484.52 2286.2 1479.94 Q2283.15 1475.33 2283.15 1466.61 Q2283.15 1457.86 2286.2 1453.27 Q2289.28 1448.67 2295.09 1448.67 Z\" fill=\"#000000\" fill-rule=\"evenodd\" fill-opacity=\"1\" /><path clip-path=\"url(#clip890)\" d=\"M 0 0 M2322.1 1452.37 Q2318.49 1452.37 2316.66 1455.94 Q2314.86 1459.48 2314.86 1466.61 Q2314.86 1473.71 2316.66 1477.28 Q2318.49 1480.82 2322.1 1480.82 Q2325.74 1480.82 2327.54 1477.28 Q2329.37 1473.71 2329.37 1466.61 Q2329.37 1459.48 2327.54 1455.94 Q2325.74 1452.37 2322.1 1452.37 M2322.1 1448.67 Q2327.91 1448.67 2330.97 1453.27 Q2334.05 1457.86 2334.05 1466.61 Q2334.05 1475.33 2330.97 1479.94 Q2327.91 1484.52 2322.1 1484.52 Q2316.29 1484.52 2313.21 1479.94 Q2310.16 1475.33 2310.16 1466.61 Q2310.16 1457.86 2313.21 1453.27 Q2316.29 1448.67 2322.1 1448.67 Z\" fill=\"#000000\" fill-rule=\"evenodd\" fill-opacity=\"1\" /><path clip-path=\"url(#clip890)\" d=\"M 0 0 M1261.79 1520.4 L1289.61 1520.4 L1289.61 1525.74 L1267.59 1551.37 L1289.61 1551.37 L1289.61 1556.04 L1261 1556.04 L1261 1550.7 L1283.02 1525.07 L1261.79 1525.07 L1261.79 1520.4 Z\" fill=\"#000000\" fill-rule=\"evenodd\" fill-opacity=\"1\" /><polyline clip-path=\"url(#clip892)\" style=\"stroke:#000000; stroke-width:2; stroke-opacity:0.1; fill:none\" points=\"\n",
       "  197.852,1384.24 2352.76,1384.24 \n",
       "  \"/>\n",
       "<polyline clip-path=\"url(#clip892)\" style=\"stroke:#000000; stroke-width:2; stroke-opacity:0.1; fill:none\" points=\"\n",
       "  197.852,1045.57 2352.76,1045.57 \n",
       "  \"/>\n",
       "<polyline clip-path=\"url(#clip892)\" style=\"stroke:#000000; stroke-width:2; stroke-opacity:0.1; fill:none\" points=\"\n",
       "  197.852,706.899 2352.76,706.899 \n",
       "  \"/>\n",
       "<polyline clip-path=\"url(#clip892)\" style=\"stroke:#000000; stroke-width:2; stroke-opacity:0.1; fill:none\" points=\"\n",
       "  197.852,368.23 2352.76,368.23 \n",
       "  \"/>\n",
       "<polyline clip-path=\"url(#clip890)\" style=\"stroke:#000000; stroke-width:4; stroke-opacity:1; fill:none\" points=\"\n",
       "  197.852,1423.18 197.852,47.2441 \n",
       "  \"/>\n",
       "<polyline clip-path=\"url(#clip890)\" style=\"stroke:#000000; stroke-width:4; stroke-opacity:1; fill:none\" points=\"\n",
       "  197.852,1384.24 223.711,1384.24 \n",
       "  \"/>\n",
       "<polyline clip-path=\"url(#clip890)\" style=\"stroke:#000000; stroke-width:4; stroke-opacity:1; fill:none\" points=\"\n",
       "  197.852,1045.57 223.711,1045.57 \n",
       "  \"/>\n",
       "<polyline clip-path=\"url(#clip890)\" style=\"stroke:#000000; stroke-width:4; stroke-opacity:1; fill:none\" points=\"\n",
       "  197.852,706.899 223.711,706.899 \n",
       "  \"/>\n",
       "<polyline clip-path=\"url(#clip890)\" style=\"stroke:#000000; stroke-width:4; stroke-opacity:1; fill:none\" points=\"\n",
       "  197.852,368.23 223.711,368.23 \n",
       "  \"/>\n",
       "<path clip-path=\"url(#clip890)\" d=\"M 0 0 M149.908 1370.04 Q146.297 1370.04 144.468 1373.6 Q142.663 1377.14 142.663 1384.27 Q142.663 1391.38 144.468 1394.94 Q146.297 1398.49 149.908 1398.49 Q153.542 1398.49 155.348 1394.94 Q157.177 1391.38 157.177 1384.27 Q157.177 1377.14 155.348 1373.6 Q153.542 1370.04 149.908 1370.04 M149.908 1366.33 Q155.718 1366.33 158.774 1370.94 Q161.852 1375.52 161.852 1384.27 Q161.852 1393 158.774 1397.61 Q155.718 1402.19 149.908 1402.19 Q144.098 1402.19 141.019 1397.61 Q137.964 1393 137.964 1384.27 Q137.964 1375.52 141.019 1370.94 Q144.098 1366.33 149.908 1366.33 Z\" fill=\"#000000\" fill-rule=\"evenodd\" fill-opacity=\"1\" /><path clip-path=\"url(#clip890)\" d=\"M 0 0 M140.95 1028.29 L159.306 1028.29 L159.306 1032.22 L145.232 1032.22 L145.232 1040.7 Q146.251 1040.35 147.269 1040.19 Q148.288 1040 149.306 1040 Q155.093 1040 158.473 1043.17 Q161.852 1046.34 161.852 1051.76 Q161.852 1057.34 158.38 1060.44 Q154.908 1063.52 148.589 1063.52 Q146.413 1063.52 144.144 1063.15 Q141.899 1062.78 139.492 1062.04 L139.492 1057.34 Q141.575 1058.47 143.797 1059.03 Q146.019 1059.58 148.496 1059.58 Q152.501 1059.58 154.839 1057.48 Q157.177 1055.37 157.177 1051.76 Q157.177 1048.15 154.839 1046.04 Q152.501 1043.94 148.496 1043.94 Q146.621 1043.94 144.746 1044.35 Q142.894 1044.77 140.95 1045.65 L140.95 1028.29 Z\" fill=\"#000000\" fill-rule=\"evenodd\" fill-opacity=\"1\" /><path clip-path=\"url(#clip890)\" d=\"M 0 0 M114.931 720.244 L122.57 720.244 L122.57 693.878 L114.26 695.545 L114.26 691.286 L122.524 689.619 L127.2 689.619 L127.2 720.244 L134.839 720.244 L134.839 724.179 L114.931 724.179 L114.931 720.244 Z\" fill=\"#000000\" fill-rule=\"evenodd\" fill-opacity=\"1\" /><path clip-path=\"url(#clip890)\" d=\"M 0 0 M149.908 692.698 Q146.297 692.698 144.468 696.263 Q142.663 699.804 142.663 706.934 Q142.663 714.04 144.468 717.605 Q146.297 721.147 149.908 721.147 Q153.542 721.147 155.348 717.605 Q157.177 714.04 157.177 706.934 Q157.177 699.804 155.348 696.263 Q153.542 692.698 149.908 692.698 M149.908 688.994 Q155.718 688.994 158.774 693.601 Q161.852 698.184 161.852 706.934 Q161.852 715.661 158.774 720.267 Q155.718 724.85 149.908 724.85 Q144.098 724.85 141.019 720.267 Q137.964 715.661 137.964 706.934 Q137.964 698.184 141.019 693.601 Q144.098 688.994 149.908 688.994 Z\" fill=\"#000000\" fill-rule=\"evenodd\" fill-opacity=\"1\" /><path clip-path=\"url(#clip890)\" d=\"M 0 0 M115.927 381.574 L123.566 381.574 L123.566 355.209 L115.256 356.875 L115.256 352.616 L123.519 350.95 L128.195 350.95 L128.195 381.574 L135.834 381.574 L135.834 385.51 L115.927 385.51 L115.927 381.574 Z\" fill=\"#000000\" fill-rule=\"evenodd\" fill-opacity=\"1\" /><path clip-path=\"url(#clip890)\" d=\"M 0 0 M140.95 350.95 L159.306 350.95 L159.306 354.885 L145.232 354.885 L145.232 363.357 Q146.251 363.01 147.269 362.848 Q148.288 362.662 149.306 362.662 Q155.093 362.662 158.473 365.834 Q161.852 369.005 161.852 374.422 Q161.852 380 158.38 383.102 Q154.908 386.181 148.589 386.181 Q146.413 386.181 144.144 385.81 Q141.899 385.44 139.492 384.699 L139.492 380 Q141.575 381.135 143.797 381.69 Q146.019 382.246 148.496 382.246 Q152.501 382.246 154.839 380.139 Q157.177 378.033 157.177 374.422 Q157.177 370.811 154.839 368.704 Q152.501 366.598 148.496 366.598 Q146.621 366.598 144.746 367.014 Q142.894 367.431 140.95 368.311 L140.95 350.95 Z\" fill=\"#000000\" fill-rule=\"evenodd\" fill-opacity=\"1\" /><path clip-path=\"url(#clip890)\" d=\"M 0 0 M88.9272 744.92 Q88.9272 758.129 70.021 758.129 Q62.5413 758.129 52.3562 753.195 L52.3562 746.893 Q62.5413 751.445 70.1802 751.445 Q83.9619 751.445 83.9619 744.379 Q83.9619 737.917 66.8382 737.917 L66.8382 732.507 Q83.9619 732.507 83.9619 726.045 Q83.9619 718.979 70.1802 718.979 Q62.5413 718.979 52.3562 723.531 L52.3562 717.229 Q62.5413 712.295 70.021 712.295 Q88.9272 712.295 88.9272 725.504 Q88.9272 734.162 79.4105 735.212 Q88.9272 736.517 88.9272 744.92 Z\" fill=\"#000000\" fill-rule=\"evenodd\" fill-opacity=\"1\" /><polyline clip-path=\"url(#clip892)\" style=\"stroke:#009af9; stroke-width:4; stroke-opacity:1; fill:none\" points=\"\n",
       "  258.84,1124.63 272.576,1125.53 286.312,1127.06 300.048,1141.32 313.784,1145.87 327.52,1148.14 341.256,1150.38 354.992,1154.15 368.728,1155.44 382.464,1155.63 \n",
       "  396.2,1163.35 409.936,1170.18 423.672,1171.1 437.408,1180.35 451.144,1183.76 464.88,1187.36 478.616,1187.65 492.352,1188.01 506.088,1190.32 519.824,1196.14 \n",
       "  533.56,1197.38 547.296,1197.64 561.032,1204.96 574.768,1207.26 588.504,1207.34 602.24,1209.51 615.976,1213.34 629.712,1213.77 643.448,1215.12 657.184,1227.72 \n",
       "  670.92,1231.21 684.656,1231.86 698.392,1233.4 712.128,1233.91 725.864,1235.28 739.6,1239.56 753.336,1247.91 767.072,1247.92 780.808,1250.13 794.544,1251.61 \n",
       "  808.28,1252.85 822.016,1252.87 835.752,1255.47 849.488,1257.25 863.224,1258.47 876.96,1259.05 890.696,1259.37 904.432,1259.92 918.168,1260.77 931.904,1260.87 \n",
       "  945.64,1261.25 959.376,1261.64 973.112,1261.9 986.848,1264.34 1000.58,1267.57 1014.32,1267.93 1028.06,1269.02 1041.79,1272.13 1055.53,1273.57 1069.26,1274.12 \n",
       "  1083,1275.39 1096.74,1275.44 1110.47,1275.72 1124.21,1277.83 1137.94,1280.26 1151.68,1280.82 1165.42,1281.61 1179.15,1282.4 1192.89,1282.48 1206.62,1284.19 \n",
       "  1220.36,1284.8 1234.1,1285.01 1247.83,1285.83 1261.57,1285.92 1275.3,1287.36 1289.04,1288.85 1302.78,1289.89 1316.51,1289.91 1330.25,1290.5 1343.98,1293.37 \n",
       "  1357.72,1293.46 1371.46,1293.77 1385.19,1293.87 1398.93,1294.01 1412.66,1294.92 1426.4,1295.77 1440.14,1296.85 1453.87,1296.85 1467.61,1300.48 1481.34,1301.09 \n",
       "  1495.08,1301.26 1508.82,1302.24 1522.55,1302.6 1536.29,1303.68 1550.02,1304.13 1563.76,1304.45 1577.5,1304.89 1591.23,1305.3 1604.97,1305.66 1618.7,1305.71 \n",
       "  1632.44,1305.72 1646.18,1306.22 1659.91,1307.57 1673.65,1307.64 1687.38,1308.45 1701.12,1308.7 1714.86,1308.73 1728.59,1308.88 1742.33,1309.12 1756.06,1309.34 \n",
       "  1769.8,1309.71 1783.54,1310.15 1797.27,1312.18 1811.01,1312.66 1824.74,1312.82 1838.48,1313.37 1852.22,1314.96 1865.95,1315.26 1879.69,1316.37 1893.42,1316.74 \n",
       "  1907.16,1317.62 1920.9,1318.17 1934.63,1318.67 1948.37,1319.1 1962.1,1319.14 1975.84,1319.36 1989.58,1319.42 2003.31,1320.18 2017.05,1321 2030.78,1321.36 \n",
       "  2044.52,1321.77 2058.26,1321.81 2071.99,1321.9 2085.73,1321.99 2099.46,1322.25 2113.2,1322.6 2126.94,1322.72 2140.67,1322.89 2154.41,1323.72 2168.14,1324.04 \n",
       "  2181.88,1324.49 2195.62,1326.89 2209.35,1326.98 2223.09,1327.59 2236.82,1327.82 2250.56,1327.89 2264.3,1328.11 2278.03,1328.48 2291.77,1329.28 \n",
       "  \"/>\n",
       "<polyline clip-path=\"url(#clip892)\" style=\"stroke:#e26f46; stroke-width:4; stroke-opacity:1; fill:none\" points=\"\n",
       "  258.84,1383.66 272.576,1383.24 286.312,1382.89 300.048,1382.36 313.784,1382 327.52,1381.65 341.256,1381.17 354.992,1380.51 368.728,1380.06 382.464,1379.66 \n",
       "  396.2,1379.08 409.936,1378.45 423.672,1377.84 437.408,1377.29 451.144,1376.69 464.88,1375.99 478.616,1375.42 492.352,1375 506.088,1374.47 519.824,1373.87 \n",
       "  533.56,1373.2 547.296,1372.45 561.032,1371.82 574.768,1371 588.504,1370.15 602.24,1369.44 615.976,1368.98 629.712,1368.21 643.448,1367.43 657.184,1366.63 \n",
       "  670.92,1366.12 684.656,1365.53 698.392,1364.95 712.128,1364.37 725.864,1363.62 739.6,1362.66 753.336,1361.99 767.072,1360.99 780.808,1359.98 794.544,1359.15 \n",
       "  808.28,1358.39 822.016,1357.38 835.752,1356.49 849.488,1355.33 863.224,1354.61 876.96,1353.6 890.696,1352.46 904.432,1351.71 918.168,1350.82 931.904,1349.89 \n",
       "  945.64,1349.1 959.376,1348.02 973.112,1347.04 986.848,1345.95 1000.58,1344.95 1014.32,1343.49 1028.06,1342.3 1041.79,1341.02 1055.53,1340.09 1069.26,1338.87 \n",
       "  1083,1338.01 1096.74,1337.1 1110.47,1335.49 1124.21,1333.71 1137.94,1332.53 1151.68,1331.51 1165.42,1330.4 1179.15,1328.45 1192.89,1327.4 1206.62,1325.94 \n",
       "  1220.36,1323.91 1234.1,1321.87 1247.83,1319.67 1261.57,1318.44 1275.3,1317.02 1289.04,1315.79 1302.78,1313.76 1316.51,1311.35 1330.25,1309.6 1343.98,1307.84 \n",
       "  1357.72,1306.29 1371.46,1303.85 1385.19,1301.93 1398.93,1299.57 1412.66,1296.95 1426.4,1294.51 1440.14,1292.5 1453.87,1289.32 1467.61,1286.45 1481.34,1283.26 \n",
       "  1495.08,1279.63 1508.82,1276.52 1522.55,1272.96 1536.29,1268.76 1550.02,1264.89 1563.76,1262.42 1577.5,1258.53 1591.23,1255.32 1604.97,1252.55 1618.7,1249.53 \n",
       "  1632.44,1245.96 1646.18,1242.26 1659.91,1236.45 1673.65,1230.8 1687.38,1226.12 1701.12,1219.71 1714.86,1215.2 1728.59,1209.36 1742.33,1201.67 1756.06,1197.13 \n",
       "  1769.8,1191.02 1783.54,1186.18 1797.27,1177.08 1811.01,1169.25 1824.74,1162.1 1838.48,1152.26 1852.22,1144.08 1865.95,1132.73 1879.69,1120.16 1893.42,1111.28 \n",
       "  1907.16,1101.37 1920.9,1088.55 1934.63,1071.83 1948.37,1055.95 1962.1,1040.92 1975.84,1019.23 1989.58,995.91 2003.31,975.289 2017.05,957.171 2030.78,933.797 \n",
       "  2044.52,901.842 2058.26,873.499 2071.99,827.573 2085.73,799.331 2099.46,766.763 2113.2,701.239 2126.94,643.756 2140.67,592.989 2154.41,513.379 2168.14,381.947 \n",
       "  2181.88,222.714 2195.62,92.1725 2209.35,-151.107 2223.09,-400.838 2236.82,-882.688 2250.56,-1456.52 2264.3,-2605.4 2278.03,-4981.54 2291.77,-13177.4 \n",
       "  \"/>\n",
       "<path clip-path=\"url(#clip890)\" d=\"\n",
       "M2009.83 274.549 L2280.93 274.549 L2280.93 93.1086 L2009.83 93.1086  Z\n",
       "  \" fill=\"#ffffff\" fill-rule=\"evenodd\" fill-opacity=\"1\"/>\n",
       "<polyline clip-path=\"url(#clip890)\" style=\"stroke:#000000; stroke-width:4; stroke-opacity:1; fill:none\" points=\"\n",
       "  2009.83,274.549 2280.93,274.549 2280.93,93.1086 2009.83,93.1086 2009.83,274.549 \n",
       "  \"/>\n",
       "<polyline clip-path=\"url(#clip890)\" style=\"stroke:#009af9; stroke-width:4; stroke-opacity:1; fill:none\" points=\"\n",
       "  2033.77,153.589 2177.43,153.589 \n",
       "  \"/>\n",
       "<path clip-path=\"url(#clip890)\" d=\"M 0 0 M2217.21 140.915 L2210.86 158.114 L2223.57 158.114 L2217.21 140.915 M2214.57 136.309 L2219.87 136.309 L2233.04 170.869 L2228.18 170.869 L2225.03 162.003 L2209.45 162.003 L2206.3 170.869 L2201.37 170.869 L2214.57 136.309 Z\" fill=\"#000000\" fill-rule=\"evenodd\" fill-opacity=\"1\" /><polyline clip-path=\"url(#clip890)\" style=\"stroke:#e26f46; stroke-width:4; stroke-opacity:1; fill:none\" points=\"\n",
       "  2033.77,214.069 2177.43,214.069 \n",
       "  \"/>\n",
       "<path clip-path=\"url(#clip890)\" d=\"M 0 0 M2206.05 214.844 L2206.05 227.506 L2213.55 227.506 Q2217.32 227.506 2219.13 225.955 Q2220.96 224.381 2220.96 221.163 Q2220.96 217.923 2219.13 216.395 Q2217.32 214.844 2213.55 214.844 L2206.05 214.844 M2206.05 200.631 L2206.05 211.048 L2212.97 211.048 Q2216.4 211.048 2218.06 209.775 Q2219.75 208.478 2219.75 205.839 Q2219.75 203.224 2218.06 201.927 Q2216.4 200.631 2212.97 200.631 L2206.05 200.631 M2201.37 196.789 L2213.32 196.789 Q2218.66 196.789 2221.56 199.011 Q2224.45 201.233 2224.45 205.33 Q2224.45 208.502 2222.97 210.377 Q2221.49 212.251 2218.62 212.714 Q2222.07 213.455 2223.97 215.816 Q2225.89 218.154 2225.89 221.673 Q2225.89 226.302 2222.74 228.825 Q2219.59 231.349 2213.78 231.349 L2201.37 231.349 L2201.37 196.789 Z\" fill=\"#000000\" fill-rule=\"evenodd\" fill-opacity=\"1\" /></svg>\n"
      ]
     },
     "metadata": {},
     "output_type": "display_data"
    }
   ],
   "source": [
    "## Plot example -----------------------------------------------------------------------\n",
    "\n",
    "# Read in the text files and set params\n",
    "a = readdlm(\"DFS1977_example_a.txt\")\n",
    "b = readdlm(\"DFS1977_example_b.txt\")[:,]\n",
    "L = [1.0, 1.0]\n",
    "\n",
    "# Call function on the example\n",
    "plotter(a,b,L,1.0)"
   ]
  },
  {
   "cell_type": "markdown",
   "metadata": {},
   "source": [
    "## Solver Example"
   ]
  },
  {
   "cell_type": "code",
   "execution_count": 7,
   "metadata": {},
   "outputs": [
    {
     "name": "stdout",
     "output_type": "stream",
     "text": [
      "z_bar_star is 86 z_bar is 86 and ω_bar is 1.3061186652154024"
     ]
    }
   ],
   "source": [
    "## Solver example ---------------------------------------------------------------------\n",
    "\n",
    "# Without transport costs\n",
    "res = DFS1977solver(a,b,L,1.0)\n",
    "print(\"z_bar_star is \", res[1], \" z_bar is \", res[2], \n",
    "\" and ω_bar is \", res[3])\n"
   ]
  },
  {
   "cell_type": "code",
   "execution_count": 8,
   "metadata": {},
   "outputs": [
    {
     "name": "stdout",
     "output_type": "stream",
     "text": [
      "z_bar_star is 72 z_bar is 94 and ω_bar is 1.318628976552968"
     ]
    }
   ],
   "source": [
    "# With transport costs\n",
    "res = DFS1977solver(a,b,L,0.9)\n",
    "print(\"z_bar_star is \", res[1], \" z_bar is \", res[2], \n",
    "\" and ω_bar is \", res[3])\n"
   ]
  },
  {
   "cell_type": "markdown",
   "metadata": {},
   "source": [
    "## Welfare Example"
   ]
  },
  {
   "cell_type": "code",
   "execution_count": 9,
   "metadata": {},
   "outputs": [
    {
     "name": "stdout",
     "output_type": "stream",
     "text": [
      " Home gains from trade are 0.10647178014128744 Foreign gains from trade are 0.26016031586860766"
     ]
    }
   ],
   "source": [
    "# Testing the gains from trade functions\n",
    "print(\" Home gains from trade are \", home_gft(a,b,L,1.0))\n",
    "print(\" Foreign gains from trade are \", foreign_gft(a,b,L,1.0))\n"
   ]
  },
  {
   "cell_type": "markdown",
   "metadata": {},
   "source": [
    "## Welfare and Volume of Trade\n",
    "\n",
    "### Volume of trade- definition\n",
    "I assume that volume of trade means which goods are traded in equilibrium as summarised by $\\bar{z},\\bar{z}^*$. Alternative definitions could include the value of total exports and imports either net or gross of trade costs and using either CIF or FOB prices to value them. I do not consider this.   \n"
   ]
  },
  {
   "cell_type": "markdown",
   "metadata": {},
   "source": [
    "### Discussion\n",
    "Since the model is symmetric I consider Home for welfare calculations. We can provide some answers analytically. Home's gains from trade are given by:\n",
    "\n",
    "$$ \\int_{\\bar{z}}^1 b(z)\\left[ \\ln a(z) - \\ln \\left(\\frac{a^*(z)}{g\\bar\\omega}\\right)\\right] dz = \\int_{\\bar{z}}^1 b(z)\\left[ \\ln g  + \\ln \\bar{\\omega} - \\ln A(z) \\right] dz $$\n",
    "\n",
    "Hold fixed $L,L^*,g$ and $b(.)$ and consider a particular technology schedule $A(.)$ and let the resulting equilibrium values be given by $\\bar{z}^*,\\bar{z},\\bar{\\omega}$. Consider changing the technology schedule to $\\tilde{A}(.)$. Provided that $\\tilde{A}'(.)<0$ and $\\tilde{A}(\\bar{z}^*)=A(\\bar{z}^*)$ and $\\tilde{A}(\\bar{z})=A(\\bar{z})$ then it is clear from equations $(21)$ and $(19')$ of DFS that the equilibrium values $\\bar{z}^*,\\bar{z},\\bar{\\omega}$ will be unchanged. Therefore the volume of trade which depends only on $\\bar{z}$ and $\\bar{z}^*$ will be unchanged. However, the gains from trade in the integral above will in general depend upon the shape of $\\tilde{A}$. Note that by considering equilibria with the same value for $\\bar{z}^*,\\bar{z},\\bar{\\omega}$, the fact that $A(.)$ must be decreasing bounds the gains from trade above by $\\int_{\\bar{z}}^1 b(z)\\left[ \\ln g  + \\ln \\bar{\\omega} - \\ln A(\\bar{z}) \\right] dz $. Note that once $b(.),\\bar{z},\\bar{z}^*,L,L^*$ are fixed, the value of $\\bar{\\omega}$ is determined uniquely by equation (19'). However, if we allow $b(.)$ to change as well then $\\bar{\\omega}$ can also change and the bound above no longer applies. \n",
    "\n"
   ]
  },
  {
   "cell_type": "markdown",
   "metadata": {},
   "source": [
    "### Code\n",
    "We take the example above and discretise it on a grid. This illustrates a case with fixed $L,L^*,g$ and $b(.),\\bar{z}^*,\\bar{z},\\bar{\\omega}$ but varyinig gains from trade numerically.  "
   ]
  },
  {
   "cell_type": "code",
   "execution_count": 10,
   "metadata": {},
   "outputs": [
    {
     "name": "stdout",
     "output_type": "stream",
     "text": [
      " Equilibrium 1 is given by (72, 94, 1.318628976552968) and the gains from trade for home is 0.06750062954600583 Equilibrium 2 is given by (72, 94, 1.318628976552968) and the gains from trade for home is 0.06750062954600566"
     ]
    }
   ],
   "source": [
    "## GFT --------------------------------------------------------------------------------\n",
    "\n",
    "# Fix ω_bar as well as z_bar and z_star_bar\n",
    "a_1 = readdlm(\"DFS1977_example_a.txt\")\n",
    "a_1[95:end,:]=a_1[95:end,:]./2\n",
    "#print(a_1)\n",
    "print(\" Equilibrium 1 is given by \", DFS1977solver(a,b,L,0.9), \n",
    "    \" and the gains from trade for home is \", home_gft(a,b,L,0.9))\n",
    "\n",
    "print(\" Equilibrium 2 is given by \", DFS1977solver(a_1,b,L,0.9), \n",
    "\" and the gains from trade for home is \", home_gft(a_1,b,L,0.9))\n"
   ]
  },
  {
   "cell_type": "code",
   "execution_count": null,
   "metadata": {},
   "outputs": [],
   "source": []
  }
 ],
 "metadata": {
  "kernelspec": {
   "display_name": "Julia 1.5.0",
   "language": "julia",
   "name": "julia-1.5"
  },
  "language_info": {
   "file_extension": ".jl",
   "mimetype": "application/julia",
   "name": "julia",
   "version": "1.5.0"
  }
 },
 "nbformat": 4,
 "nbformat_minor": 4
}

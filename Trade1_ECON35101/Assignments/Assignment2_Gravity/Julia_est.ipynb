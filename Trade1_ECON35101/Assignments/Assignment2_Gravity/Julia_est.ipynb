{
 "cells": [
  {
   "cell_type": "code",
   "execution_count": 4,
   "metadata": {},
   "outputs": [
    {
     "data": {
      "text/html": [
       "<table class=\"data-frame\"><thead><tr><th></th><th>year</th><th>iso_o</th><th>iso_d</th><th>contig</th><th>comlang_off</th><th>distw</th><th>pop_o</th><th>gdp_o</th><th>gdpcap_o</th></tr><tr><th></th><th>Int16⍰</th><th>String⍰</th><th>String⍰</th><th>Int8⍰</th><th>Int8⍰</th><th>Float64⍰</th><th>Float32⍰</th><th>Float32⍰</th><th>Float32⍰</th></tr></thead><tbody><p>1,204,671 rows × 36 columns (omitted printing of 27 columns)</p><tr><th>1</th><td>1999</td><td>ABW</td><td>AGO</td><td>0</td><td>0</td><td>9587.32</td><td>missing</td><td>1722.91</td><td>missing</td></tr><tr><th>2</th><td>2000</td><td>ABW</td><td>AGO</td><td>0</td><td>0</td><td>9587.32</td><td>missing</td><td>1858.66</td><td>missing</td></tr><tr><th>3</th><td>2001</td><td>ABW</td><td>AGO</td><td>0</td><td>0</td><td>9587.32</td><td>missing</td><td>1898.88</td><td>missing</td></tr><tr><th>4</th><td>2002</td><td>ABW</td><td>AGO</td><td>0</td><td>0</td><td>9587.32</td><td>missing</td><td>1911.17</td><td>missing</td></tr><tr><th>5</th><td>2003</td><td>ABW</td><td>AGO</td><td>0</td><td>0</td><td>9587.32</td><td>0.099</td><td>missing</td><td>missing</td></tr><tr><th>6</th><td>2004</td><td>ABW</td><td>AGO</td><td>0</td><td>0</td><td>9587.32</td><td>0.099</td><td>missing</td><td>missing</td></tr><tr><th>7</th><td>2005</td><td>ABW</td><td>AGO</td><td>0</td><td>0</td><td>9587.32</td><td>0.1003</td><td>missing</td><td>missing</td></tr><tr><th>8</th><td>2006</td><td>ABW</td><td>AGO</td><td>0</td><td>0</td><td>9587.32</td><td>0.1012</td><td>missing</td><td>missing</td></tr><tr><th>9</th><td>1986</td><td>ABW</td><td>ANT</td><td>0</td><td>1</td><td>239.906</td><td>missing</td><td>missing</td><td>missing</td></tr><tr><th>10</th><td>1987</td><td>ABW</td><td>ANT</td><td>0</td><td>1</td><td>239.906</td><td>missing</td><td>missing</td><td>missing</td></tr><tr><th>11</th><td>1988</td><td>ABW</td><td>ANT</td><td>0</td><td>1</td><td>239.906</td><td>missing</td><td>missing</td><td>missing</td></tr><tr><th>12</th><td>1989</td><td>ABW</td><td>ANT</td><td>0</td><td>1</td><td>239.906</td><td>missing</td><td>missing</td><td>missing</td></tr><tr><th>13</th><td>1990</td><td>ABW</td><td>ANT</td><td>0</td><td>1</td><td>239.906</td><td>missing</td><td>missing</td><td>missing</td></tr><tr><th>14</th><td>1991</td><td>ABW</td><td>ANT</td><td>0</td><td>1</td><td>239.906</td><td>missing</td><td>872.067</td><td>missing</td></tr><tr><th>15</th><td>1992</td><td>ABW</td><td>ANT</td><td>0</td><td>1</td><td>239.906</td><td>missing</td><td>958.659</td><td>missing</td></tr><tr><th>16</th><td>1993</td><td>ABW</td><td>ANT</td><td>0</td><td>1</td><td>239.906</td><td>missing</td><td>1083.24</td><td>missing</td></tr><tr><th>17</th><td>1994</td><td>ABW</td><td>ANT</td><td>0</td><td>1</td><td>239.906</td><td>missing</td><td>1245.81</td><td>missing</td></tr><tr><th>18</th><td>1995</td><td>ABW</td><td>ANT</td><td>0</td><td>1</td><td>239.906</td><td>missing</td><td>1320.67</td><td>missing</td></tr><tr><th>19</th><td>1996</td><td>ABW</td><td>ANT</td><td>0</td><td>1</td><td>239.906</td><td>missing</td><td>1379.89</td><td>missing</td></tr><tr><th>20</th><td>1997</td><td>ABW</td><td>ANT</td><td>0</td><td>1</td><td>239.906</td><td>missing</td><td>1531.84</td><td>missing</td></tr><tr><th>21</th><td>1998</td><td>ABW</td><td>ANT</td><td>0</td><td>1</td><td>239.906</td><td>missing</td><td>1665.36</td><td>missing</td></tr><tr><th>22</th><td>1999</td><td>ABW</td><td>ANT</td><td>0</td><td>1</td><td>239.906</td><td>missing</td><td>1722.91</td><td>missing</td></tr><tr><th>23</th><td>2000</td><td>ABW</td><td>ANT</td><td>0</td><td>1</td><td>239.906</td><td>missing</td><td>1858.66</td><td>missing</td></tr><tr><th>24</th><td>2001</td><td>ABW</td><td>ANT</td><td>0</td><td>1</td><td>239.906</td><td>missing</td><td>1898.88</td><td>missing</td></tr><tr><th>25</th><td>2002</td><td>ABW</td><td>ANT</td><td>0</td><td>1</td><td>239.906</td><td>missing</td><td>1911.17</td><td>missing</td></tr><tr><th>26</th><td>2003</td><td>ABW</td><td>ANT</td><td>0</td><td>1</td><td>239.906</td><td>0.099</td><td>missing</td><td>missing</td></tr><tr><th>27</th><td>2004</td><td>ABW</td><td>ANT</td><td>0</td><td>1</td><td>239.906</td><td>0.099</td><td>missing</td><td>missing</td></tr><tr><th>28</th><td>2005</td><td>ABW</td><td>ANT</td><td>0</td><td>1</td><td>239.906</td><td>0.1003</td><td>missing</td><td>missing</td></tr><tr><th>29</th><td>2006</td><td>ABW</td><td>ANT</td><td>0</td><td>1</td><td>239.906</td><td>0.1012</td><td>missing</td><td>missing</td></tr><tr><th>30</th><td>1999</td><td>ABW</td><td>ARE</td><td>0</td><td>0</td><td>12773.1</td><td>missing</td><td>1722.91</td><td>missing</td></tr><tr><th>&vellip;</th><td>&vellip;</td><td>&vellip;</td><td>&vellip;</td><td>&vellip;</td><td>&vellip;</td><td>&vellip;</td><td>&vellip;</td><td>&vellip;</td><td>&vellip;</td></tr></tbody></table>"
      ],
      "text/latex": [
       "\\begin{tabular}{r|cccccccccc}\n",
       "\t& year & iso\\_o & iso\\_d & contig & comlang\\_off & distw & pop\\_o & gdp\\_o & gdpcap\\_o & \\\\\n",
       "\t\\hline\n",
       "\t& Int16⍰ & String⍰ & String⍰ & Int8⍰ & Int8⍰ & Float64⍰ & Float32⍰ & Float32⍰ & Float32⍰ & \\\\\n",
       "\t\\hline\n",
       "\t1 & 1999 & ABW & AGO & 0 & 0 & 9587.32 &  & 1722.91 &  & $\\dots$ \\\\\n",
       "\t2 & 2000 & ABW & AGO & 0 & 0 & 9587.32 &  & 1858.66 &  & $\\dots$ \\\\\n",
       "\t3 & 2001 & ABW & AGO & 0 & 0 & 9587.32 &  & 1898.88 &  & $\\dots$ \\\\\n",
       "\t4 & 2002 & ABW & AGO & 0 & 0 & 9587.32 &  & 1911.17 &  & $\\dots$ \\\\\n",
       "\t5 & 2003 & ABW & AGO & 0 & 0 & 9587.32 & 0.099 &  &  & $\\dots$ \\\\\n",
       "\t6 & 2004 & ABW & AGO & 0 & 0 & 9587.32 & 0.099 &  &  & $\\dots$ \\\\\n",
       "\t7 & 2005 & ABW & AGO & 0 & 0 & 9587.32 & 0.1003 &  &  & $\\dots$ \\\\\n",
       "\t8 & 2006 & ABW & AGO & 0 & 0 & 9587.32 & 0.1012 &  &  & $\\dots$ \\\\\n",
       "\t9 & 1986 & ABW & ANT & 0 & 1 & 239.906 &  &  &  & $\\dots$ \\\\\n",
       "\t10 & 1987 & ABW & ANT & 0 & 1 & 239.906 &  &  &  & $\\dots$ \\\\\n",
       "\t11 & 1988 & ABW & ANT & 0 & 1 & 239.906 &  &  &  & $\\dots$ \\\\\n",
       "\t12 & 1989 & ABW & ANT & 0 & 1 & 239.906 &  &  &  & $\\dots$ \\\\\n",
       "\t13 & 1990 & ABW & ANT & 0 & 1 & 239.906 &  &  &  & $\\dots$ \\\\\n",
       "\t14 & 1991 & ABW & ANT & 0 & 1 & 239.906 &  & 872.067 &  & $\\dots$ \\\\\n",
       "\t15 & 1992 & ABW & ANT & 0 & 1 & 239.906 &  & 958.659 &  & $\\dots$ \\\\\n",
       "\t16 & 1993 & ABW & ANT & 0 & 1 & 239.906 &  & 1083.24 &  & $\\dots$ \\\\\n",
       "\t17 & 1994 & ABW & ANT & 0 & 1 & 239.906 &  & 1245.81 &  & $\\dots$ \\\\\n",
       "\t18 & 1995 & ABW & ANT & 0 & 1 & 239.906 &  & 1320.67 &  & $\\dots$ \\\\\n",
       "\t19 & 1996 & ABW & ANT & 0 & 1 & 239.906 &  & 1379.89 &  & $\\dots$ \\\\\n",
       "\t20 & 1997 & ABW & ANT & 0 & 1 & 239.906 &  & 1531.84 &  & $\\dots$ \\\\\n",
       "\t21 & 1998 & ABW & ANT & 0 & 1 & 239.906 &  & 1665.36 &  & $\\dots$ \\\\\n",
       "\t22 & 1999 & ABW & ANT & 0 & 1 & 239.906 &  & 1722.91 &  & $\\dots$ \\\\\n",
       "\t23 & 2000 & ABW & ANT & 0 & 1 & 239.906 &  & 1858.66 &  & $\\dots$ \\\\\n",
       "\t24 & 2001 & ABW & ANT & 0 & 1 & 239.906 &  & 1898.88 &  & $\\dots$ \\\\\n",
       "\t25 & 2002 & ABW & ANT & 0 & 1 & 239.906 &  & 1911.17 &  & $\\dots$ \\\\\n",
       "\t26 & 2003 & ABW & ANT & 0 & 1 & 239.906 & 0.099 &  &  & $\\dots$ \\\\\n",
       "\t27 & 2004 & ABW & ANT & 0 & 1 & 239.906 & 0.099 &  &  & $\\dots$ \\\\\n",
       "\t28 & 2005 & ABW & ANT & 0 & 1 & 239.906 & 0.1003 &  &  & $\\dots$ \\\\\n",
       "\t29 & 2006 & ABW & ANT & 0 & 1 & 239.906 & 0.1012 &  &  & $\\dots$ \\\\\n",
       "\t30 & 1999 & ABW & ARE & 0 & 0 & 12773.1 &  & 1722.91 &  & $\\dots$ \\\\\n",
       "\t$\\dots$ & $\\dots$ & $\\dots$ & $\\dots$ & $\\dots$ & $\\dots$ & $\\dots$ & $\\dots$ & $\\dots$ & $\\dots$ &  \\\\\n",
       "\\end{tabular}\n"
      ],
      "text/plain": [
       "1204671×36 DataFrame. Omitted printing of 30 columns\n",
       "│ Row     │ year   │ iso_o   │ iso_d   │ contig │ comlang_off │ distw    │\n",
       "│         │ \u001b[90mInt16⍰\u001b[39m │ \u001b[90mString⍰\u001b[39m │ \u001b[90mString⍰\u001b[39m │ \u001b[90mInt8⍰\u001b[39m  │ \u001b[90mInt8⍰\u001b[39m       │ \u001b[90mFloat64⍰\u001b[39m │\n",
       "├─────────┼────────┼─────────┼─────────┼────────┼─────────────┼──────────┤\n",
       "│ 1       │ 1999   │ ABW     │ AGO     │ 0      │ 0           │ 9587.32  │\n",
       "│ 2       │ 2000   │ ABW     │ AGO     │ 0      │ 0           │ 9587.32  │\n",
       "│ 3       │ 2001   │ ABW     │ AGO     │ 0      │ 0           │ 9587.32  │\n",
       "│ 4       │ 2002   │ ABW     │ AGO     │ 0      │ 0           │ 9587.32  │\n",
       "│ 5       │ 2003   │ ABW     │ AGO     │ 0      │ 0           │ 9587.32  │\n",
       "│ 6       │ 2004   │ ABW     │ AGO     │ 0      │ 0           │ 9587.32  │\n",
       "│ 7       │ 2005   │ ABW     │ AGO     │ 0      │ 0           │ 9587.32  │\n",
       "│ 8       │ 2006   │ ABW     │ AGO     │ 0      │ 0           │ 9587.32  │\n",
       "│ 9       │ 1986   │ ABW     │ ANT     │ 0      │ 1           │ 239.906  │\n",
       "│ 10      │ 1987   │ ABW     │ ANT     │ 0      │ 1           │ 239.906  │\n",
       "⋮\n",
       "│ 1204661 │ 1996   │ ZWE     │ ZMB     │ 1      │ 1           │ 583.795  │\n",
       "│ 1204662 │ 1997   │ ZWE     │ ZMB     │ 1      │ 1           │ 583.795  │\n",
       "│ 1204663 │ 1998   │ ZWE     │ ZMB     │ 1      │ 1           │ 583.795  │\n",
       "│ 1204664 │ 1999   │ ZWE     │ ZMB     │ 1      │ 1           │ 583.795  │\n",
       "│ 1204665 │ 2000   │ ZWE     │ ZMB     │ 1      │ 1           │ 583.795  │\n",
       "│ 1204666 │ 2001   │ ZWE     │ ZMB     │ 1      │ 1           │ 583.795  │\n",
       "│ 1204667 │ 2002   │ ZWE     │ ZMB     │ 1      │ 1           │ 583.795  │\n",
       "│ 1204668 │ 2003   │ ZWE     │ ZMB     │ 1      │ 1           │ 583.795  │\n",
       "│ 1204669 │ 2004   │ ZWE     │ ZMB     │ 1      │ 1           │ 583.795  │\n",
       "│ 1204670 │ 2005   │ ZWE     │ ZMB     │ 1      │ 1           │ 583.795  │\n",
       "│ 1204671 │ 2006   │ ZWE     │ ZMB     │ 1      │ 1           │ 583.795  │"
      ]
     },
     "execution_count": 4,
     "metadata": {},
     "output_type": "execute_result"
    }
   ],
   "source": [
    "df = DataFrame(load(\"col_regfile09.dta\"))"
   ]
  },
  {
   "cell_type": "code",
   "execution_count": 11,
   "metadata": {},
   "outputs": [
    {
     "data": {
      "text/plain": [
       "709573-element Array{Float64,1}:\n",
       " 5.480248765201958\n",
       " 5.480248765201958\n",
       " 5.480248765201958\n",
       " 5.480248765201958\n",
       " 5.480248765201958\n",
       " 5.480248765201958\n",
       " 5.480248765201958\n",
       " 5.480248765201958\n",
       " 5.480248765201958\n",
       " 5.480248765201958\n",
       " 5.480248765201958\n",
       " 5.480248765201958\n",
       " 5.480248765201958\n",
       " ⋮                \n",
       " 6.369550533432514\n",
       " 6.369550533432514\n",
       " 6.369550533432514\n",
       " 6.369550533432514\n",
       " 6.369550533432514\n",
       " 6.369550533432514\n",
       " 6.369550533432514\n",
       " 6.369550533432514\n",
       " 6.369550533432514\n",
       " 6.369550533432514\n",
       " 6.369550533432514\n",
       " 6.369550533432514"
      ]
     },
     "execution_count": 11,
     "metadata": {},
     "output_type": "execute_result"
    }
   ],
   "source": [
    "df = df[df.flow .> 0,:]\n",
    "df.logflow = log.(df.flow)\n",
    "df.logdist = log.(df.distw)"
   ]
  },
  {
   "cell_type": "code",
   "execution_count": 13,
   "metadata": {},
   "outputs": [
    {
     "data": {
      "text/plain": [
       "                          Fixed Effect Model                          \n",
       "======================================================================\n",
       "Number of obs:              156178  Degrees of freedom:           2761\n",
       "R2:                          0.718  R2 Adjusted:                 0.713\n",
       "F Statistic:               18918.3  p-value:                     0.000\n",
       "R2 within:                   0.278  Iterations:                     10\n",
       "Converged:                    true  \n",
       "======================================================================\n",
       "             Estimate  Std.Error  t value Pr(>|t|) Lower 95% Upper 95%\n",
       "----------------------------------------------------------------------\n",
       "logdist      -1.65835 0.00893084 -185.688    0.000  -1.67585  -1.64085\n",
       "contig       0.974049  0.0393527  24.7517    0.000  0.896918   1.05118\n",
       "comlang_off  0.906384  0.0189591  47.8074    0.000  0.869225  0.943543\n",
       "======================================================================\n"
      ]
     },
     "execution_count": 13,
     "metadata": {},
     "output_type": "execute_result"
    }
   ],
   "source": [
    "small_df = df[df.year .> 1999,:]\n",
    "small_reg = reg(small_df, @formula(logflow ~ logdist + contig \n",
    "        + comlang_off + fe(iso_o)&fe(year) + fe(iso_d)&fe(year)), Vcov.robust())"
   ]
  },
  {
   "cell_type": "code",
   "execution_count": 24,
   "metadata": {},
   "outputs": [
    {
     "name": "stdout",
     "output_type": "stream",
     "text": [
      "  2.663001 seconds (4.22 M allocations: 311.157 MiB, 32.78% gc time)\n",
      "\\begin{tabular}{lr}\n",
      "\\toprule\n",
      "             & \\multicolumn{1}{c}{logflow} \\\\ \n",
      "\\cmidrule(lr){2-2} \n",
      "             &                         (1) \\\\ \n",
      "\\midrule\n",
      "logdist      &                   -1.325*** \\\\ \n",
      "             &                     (0.004) \\\\ \n",
      "contig       &                    0.550*** \\\\ \n",
      "             &                     (0.016) \\\\ \n",
      "comlang_off  &                    0.762*** \\\\ \n",
      "             &                     (0.008) \\\\ \n",
      "\\midrule\n",
      "iso_o * year &                         Yes \\\\ \n",
      "iso_d * year &                         Yes \\\\ \n",
      "\\midrule\n",
      "Estimator    &                         OLS \\\\ \n",
      "\\midrule\n",
      "$N$          &                     709,248 \\\\ \n",
      "$R^2$        &                       0.702 \\\\ \n",
      "\\bottomrule\n",
      "\\end{tabular}\n",
      "\n"
     ]
    }
   ],
   "source": [
    "@time r = reg(df, @formula(logflow ~ logdist + contig \n",
    "        + comlang_off + fe(iso_o)&fe(year) + fe(iso_d)&fe(year)), \n",
    "    Vcov.robust(),\n",
    ")\n",
    "\n",
    "regtable(r, renderSettings = latexOutput())\n"
   ]
  },
  {
   "cell_type": "code",
   "execution_count": null,
   "metadata": {},
   "outputs": [],
   "source": []
  }
 ],
 "metadata": {
  "kernelspec": {
   "display_name": "Julia 1.5.0",
   "language": "julia",
   "name": "julia-1.5"
  },
  "language_info": {
   "file_extension": ".jl",
   "mimetype": "application/julia",
   "name": "julia",
   "version": "1.5.0"
  }
 },
 "nbformat": 4,
 "nbformat_minor": 2
}
